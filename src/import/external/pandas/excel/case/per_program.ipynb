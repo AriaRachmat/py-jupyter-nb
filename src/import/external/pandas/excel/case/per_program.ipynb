{
 "cells": [
  {
   "cell_type": "markdown",
   "id": "cca11c7c",
   "metadata": {},
   "source": [
    "# per_program\n",
    "Using pandas read excel file with various header lines"
   ]
  },
  {
   "cell_type": "code",
   "execution_count": 26,
   "id": "b0c0f6a3",
   "metadata": {},
   "outputs": [
    {
     "name": "stdout",
     "output_type": "stream",
     "text": [
      "number of ps =  10\n"
     ]
    }
   ],
   "source": [
    "import pandas\n",
    "fn = 'data/2022_2.xlsx'\n",
    "sn = 'Sheet1'\n",
    "df = pandas.read_excel(fn, sheet_name=sn)\n",
    "hd = list(df)\n",
    "ps = df[hd[1]].unique()\n",
    "print(\"number of ps = \", len(ps))"
   ]
  },
  {
   "cell_type": "code",
   "execution_count": 30,
   "id": "53a4abe1",
   "metadata": {},
   "outputs": [
    {
     "data": {
      "image/png": "[encoded data removed]",
      "text/plain": [
       "<Figure size 432x288 with 1 Axes>"
      ]
     },
     "metadata": {
      "needs_background": "light"
     },
     "output_type": "display_data"
    }
   ],
   "source": [
    "psnow = ps[0]\n",
    "rows = df.loc[df[hd[1]] == psnow, (hd[1], hd[2], hd[3], hd[4])]\n",
    "hdnow = list(rows)\n",
    "x = list(rows[hdnow[2]])\n",
    "y = list(rows[hdnow[3]])\n",
    "\n",
    "import matplotlib.pyplot as plt\n",
    "plt.grid()\n",
    "plt.xlabel('ELPT')\n",
    "plt.ylabel('UPDA')\n",
    "plt.title(psnow)\n",
    "plt.plot(x, y, 'ro')\n",
    "plt.show()"
   ]
  },
  {
   "cell_type": "code",
   "execution_count": null,
   "id": "e8025140",
   "metadata": {},
   "outputs": [],
   "source": []
  }
 ],
 "metadata": {
  "authors": [
   {
    "name": "Sparisoma Viridi"
   }
  ],
  "kernelspec": {
   "display_name": "Python 3 (ipykernel)",
   "language": "python",
   "name": "python3"
  },
  "language_info": {
   "codemirror_mode": {
    "name": "ipython",
    "version": 3
   },
   "file_extension": ".py",
   "mimetype": "text/x-python",
   "name": "python",
   "nbconvert_exporter": "python",
   "pygments_lexer": "ipython3",
   "version": "3.10.10"
  },
  "title": "per_program"
 },
 "nbformat": 4,
 "nbformat_minor": 5
}
