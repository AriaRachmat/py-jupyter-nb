{
 "cells": [
  {
   "cell_type": "markdown",
   "id": "cca11c7c",
   "metadata": {},
   "source": [
    "# per_program\n",
    "Using pandas read excel file with various header lines"
   ]
  },
  {
   "cell_type": "code",
   "execution_count": 13,
   "id": "b0c0f6a3",
   "metadata": {},
   "outputs": [
    {
     "name": "stdout",
     "output_type": "stream",
     "text": [
      "Eksplorasi Geotermal\n",
      "Material Energi Berkelanjutan\n",
      "Operasi dan Pemeliharaan Sistem Pembangkitan Daya\n",
      "Operasi dan Pemeliharaan Sistem Tenaga Listrik\n",
      "Pemanfaatan Energi Listrik dan Bisnis Beyond kWh\n",
      "Rekayasa Energi Berkelanjutan\n",
      "Sains Data dan Inteligensi Buatan\n",
      "Sains Data dan Pengelolaan Energi Listrik\n",
      "Smart Grid dan Interkoneksi\n",
      "Teknik dan Manajemen Energi\n"
     ]
    }
   ],
   "source": [
    "import pandas\n",
    "fn = 'data/2022_2.xlsx'\n",
    "sn = 'Sheet1'\n",
    "df = pandas.read_excel(fn, sheet_name=sn)\n",
    "hd = list(df)\n",
    "ps = df[hd[1]].unique()"
   ]
  },
  {
   "cell_type": "code",
   "execution_count": 11,
   "id": "53a4abe1",
   "metadata": {},
   "outputs": [
    {
     "name": "stdout",
     "output_type": "stream",
     "text": [
      "['Eksplorasi Geotermal' 'Material Energi Berkelanjutan'\n",
      " 'Operasi dan Pemeliharaan Sistem Pembangkitan Daya'\n",
      " 'Operasi dan Pemeliharaan Sistem Tenaga Listrik'\n",
      " 'Pemanfaatan Energi Listrik dan Bisnis Beyond kWh'\n",
      " 'Rekayasa Energi Berkelanjutan' 'Sains Data dan Inteligensi Buatan'\n",
      " 'Sains Data dan Pengelolaan Energi Listrik' 'Smart Grid dan Interkoneksi'\n",
      " 'Teknik dan Manajemen Energi']\n"
     ]
    }
   ],
   "source": [
    "print(ps)"
   ]
  },
  {
   "cell_type": "code",
   "execution_count": null,
   "id": "74723a16",
   "metadata": {},
   "outputs": [],
   "source": []
  }
 ],
 "metadata": {
  "authors": [
   {
    "name": "Sparisoma Viridi"
   }
  ],
  "kernelspec": {
   "display_name": "Python 3 (ipykernel)",
   "language": "python",
   "name": "python3"
  },
  "language_info": {
   "codemirror_mode": {
    "name": "ipython",
    "version": 3
   },
   "file_extension": ".py",
   "mimetype": "text/x-python",
   "name": "python",
   "nbconvert_exporter": "python",
   "pygments_lexer": "ipython3",
   "version": "3.10.10"
  },
  "title": "per_program"
 },
 "nbformat": 4,
 "nbformat_minor": 5
}
