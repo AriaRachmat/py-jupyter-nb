{
 "cells": [
  {
   "cell_type": "markdown",
   "id": "cca11c7c",
   "metadata": {},
   "source": [
    "# nanofluid_params_2\n",
    "Parameters influencing thermal conductivity nanofluid suggested in https://doi.org/10.1016/j.icheatmasstransfer.2020.104910."
   ]
  },
  {
   "cell_type": "code",
   "execution_count": null,
   "id": "9be0213c",
   "metadata": {},
   "outputs": [],
   "source": [
    "import matplotlib.pyplot as plt\n",
    "from mpl_flow import Flow"
   ]
  },
  {
   "cell_type": "code",
   "execution_count": null,
   "id": "8f243d46",
   "metadata": {},
   "outputs": [],
   "source": [
    "s = [\n",
    "    \"Thermal \\n conductivity\",\n",
    "    \"Surfac-\\ntant\",\n",
    "    \"Particle\\nConcen-\\ntration\",\n",
    "    \"Tempe-\\nrature\",\n",
    "    \"Particle\\nSize\",\n",
    "    \"Particle\\nShape\",\n",
    "    \"pH\",\n",
    "    \"Particle\\nMaterial\",\n",
    "    \"Base-\\nfluid\",\n",
    "]\n",
    "\n",
    "c = '#fff'\n",
    "b = dict(boxstyle='circle', fc='#008', ec='none')\n",
    "a = dict(arrowprops=dict(arrowstyle='-'))"
   ]
  },
  {
   "cell_type": "code",
   "execution_count": null,
   "id": "0630ae54",
   "metadata": {},
   "outputs": [],
   "source": [
    "fig, axes = plt.subplots(1, 1, figsize=(4, 4))\n",
    "ax1 = axes\n",
    "f = Flow(ax=ax1, )\n",
    "f.node('o', label=s[0], c=c, bbox=b)\n",
    "f.node(label=s[1], travel='n', color=c, bbox=b, startpoint='0', edge_kwargs=a)\n",
    "f.node(label=s[2], travel='ne', color=c, bbox=b, startpoint='o', edge_kwargs=a)\n",
    "f.node(label=s[3], travel='e', color=c, bbox=b, startpoint='o', edge_kwargs=a)\n",
    "f.node(label=s[4], travel='se', color=c, bbox=b, startpoint='o', edge_kwargs=a)\n",
    "f.node(label=s[5], travel='s', color=c, bbox=b, startpoint='o', edge_kwargs=a)\n",
    "f.node(label=s[6], travel='sw', color=c, bbox=b, startpoint='o', edge_kwargs=a)\n",
    "f.node(label=s[7], travel='w', color=c, bbox=b, startpoint='o', edge_kwargs=a)\n",
    "f.node(label=s[8], travel='nw', color=c, bbox=b, startpoint='o', edge_kwargs=a)\n",
    "plt.show()"
   ]
  },
  {
   "cell_type": "code",
   "execution_count": null,
   "id": "e5d995cc",
   "metadata": {},
   "outputs": [],
   "source": []
  }
 ],
 "metadata": {
  "authors": [
   {
    "name": "Sparisoma Viridi"
   }
  ],
  "kernelspec": {
   "display_name": "Python 3 (ipykernel)",
   "language": "python",
   "name": "python3"
  },
  "language_info": {
   "codemirror_mode": {
    "name": "ipython",
    "version": 3
   },
   "file_extension": ".py",
   "mimetype": "text/x-python",
   "name": "python",
   "nbconvert_exporter": "python",
   "pygments_lexer": "ipython3",
   "version": "3.10.10"
  },
  "title": "nanoflu_thermalcond_params_2"
 },
 "nbformat": 4,
 "nbformat_minor": 5
}
