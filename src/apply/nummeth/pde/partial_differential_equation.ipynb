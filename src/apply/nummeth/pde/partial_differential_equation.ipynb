{
 "cells": [
  {
   "cell_type": "markdown",
   "id": "cca11c7c",
   "metadata": {},
   "source": [
    "# partial_differential_equation\n",
    "Very short introduction to partial differential equation."
   ]
  },
  {
   "cell_type": "markdown",
   "id": "3da90b4f",
   "metadata": {},
   "source": [
    "## definition\n",
    "A PDE (partial differential equation) is an equation containing an unknown funtion of two or more variables and its partial derivatives with respect to these variables, where the order of a PDE is that of the highest-order derivatives (Lewist et al., 2022). Supposed that there is an unknown function $u = u(x, y, z)$, then\n",
    "\n",
    "$$\\tag{1}\n",
    "a \\frac{\\partial u}{\\partial x} + b \\frac{\\partial^2 u}{\\partial x \\partial y} + c \\frac{\\partial^3 u}{\\partial y^2 \\partial z} = f(x, y, z)  \n",
    "$$\n",
    "\n",
    "is a PDE of order 3."
   ]
  },
  {
   "cell_type": "code",
   "execution_count": null,
   "id": "7838b150",
   "metadata": {},
   "outputs": [],
   "source": []
  }
 ],
 "metadata": {
  "authors": [
   {
    "name": "Sparisoma Viridi"
   }
  ],
  "kernelspec": {
   "display_name": "Python 3 (ipykernel)",
   "language": "python",
   "name": "python3"
  },
  "language_info": {
   "codemirror_mode": {
    "name": "ipython",
    "version": 3
   },
   "file_extension": ".py",
   "mimetype": "text/x-python",
   "name": "python",
   "nbconvert_exporter": "python",
   "pygments_lexer": "ipython3",
   "version": "3.11.2"
  },
  "title": "partial_differential_equation"
 },
 "nbformat": 4,
 "nbformat_minor": 5
}
