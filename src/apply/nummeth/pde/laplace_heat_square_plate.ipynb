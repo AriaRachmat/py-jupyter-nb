{
 "cells": [
  {
   "cell_type": "markdown",
   "id": "cca11c7c",
   "metadata": {},
   "source": [
    "# laplace_heat_square_plate\n",
    "Solve Laplace equation with FDM for square plate."
   ]
  },
  {
   "cell_type": "markdown",
   "id": "9a102c27",
   "metadata": {},
   "source": [
    "## laplace equation\n",
    "\n",
    "$$\\tag{1}\n",
    "\\frac{\\partial^2 u}{\\partial x^2} + \\frac{\\partial^2 u}{\\partial y^2} = 0,\n",
    "$$\n",
    "\n",
    "$$\\tag{2}\n",
    "u_{xx} + u_{yy} = 0.\n",
    "$$"
   ]
  },
  {
   "cell_type": "markdown",
   "id": "f7a37ecc",
   "metadata": {},
   "source": [
    "## finite difference method\n",
    "$$\\tag{3}\n",
    "f''(x) \\approx \\frac{f(x + \\Delta x) - 2f(x) + f(x - \\Delta x)}{\\Delta x^2},\n",
    "$$\n",
    "\n",
    "$$\\tag{4}\n",
    "u_{xx} = \\frac{u_{i+1,j} - 2u_{i,j} + u_{i-1,j}}{h^2},\n",
    "$$\n",
    "\n",
    "$$\\tag{5}\n",
    "u_{yy} = \\frac{u_{i,j+1} - 2u_{i,j} + u_{i,j-1}}{h^2}.\n",
    "$$"
   ]
  },
  {
   "cell_type": "markdown",
   "id": "17c09517",
   "metadata": {},
   "source": [
    "## le-fdm\n",
    "$$\\tag{6}\n",
    "u_{i,j} = \\frac{1}{4h^2} \\left( u_{i+1,j} + u_{i,j+1} + u_{i-1,j} + u_{i,j-1} \\right)\n",
    "$$"
   ]
  },
  {
   "cell_type": "code",
   "execution_count": null,
   "id": "ffc02027",
   "metadata": {},
   "outputs": [],
   "source": []
  }
 ],
 "metadata": {
  "authors": [
   {
    "name": "Sparisoma Viridi"
   }
  ],
  "kernelspec": {
   "display_name": "Python 3 (ipykernel)",
   "language": "python",
   "name": "python3"
  },
  "language_info": {
   "codemirror_mode": {
    "name": "ipython",
    "version": 3
   },
   "file_extension": ".py",
   "mimetype": "text/x-python",
   "name": "python",
   "nbconvert_exporter": "python",
   "pygments_lexer": "ipython3",
   "version": "3.10.10"
  },
  "title": "laplace_heat_square_plate"
 },
 "nbformat": 4,
 "nbformat_minor": 5
}
