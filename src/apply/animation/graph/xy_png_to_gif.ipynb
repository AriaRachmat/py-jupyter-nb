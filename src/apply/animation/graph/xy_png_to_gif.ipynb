{
 "cells": [
  {
   "cell_type": "markdown",
   "id": "cca11c7c",
   "metadata": {},
   "source": [
    "# xy_png_to_gif\n",
    "+ Create animation of xy chart using `matplotlib` and `imageio` libraries.\n",
    "+ See [Basics of GIFs with Python’s Matplotlib](https://towardsdatascience.com/54dd544b6f30) by Thiago Carvalho."
   ]
  },
  {
   "cell_type": "code",
   "execution_count": null,
   "id": "63d74b91",
   "metadata": {},
   "outputs": [],
   "source": [
    "import math\n",
    "\n",
    "# create data for ploting\n",
    "N = 100\n",
    "xbeg = 0\n",
    "xend = 2\n",
    "dx = (xend - xbeg) / N\n",
    "x = [xbeg + i * dx for i in range(0, N + 1)]\n",
    "\n",
    "l = (xend - xbeg) / 2\n",
    "k = 2 * math.pi / l\n",
    "y = [math.sin(k * i) for i in x]"
   ]
  },
  {
   "cell_type": "code",
   "execution_count": null,
   "id": "85ad92e9",
   "metadata": {},
   "outputs": [],
   "source": [
    "import matplotlib.pyplot as plt\n",
    "\n",
    "N = 50\n",
    "fns = []\n",
    "for i in range(0, 60, 10):\n",
    "    fn = f\"data/xy{i:02d}.png\"\n",
    "    fns.append(fn)\n",
    "    xx = x[i:i+N]\n",
    "    yy = y[i:i+N]\n",
    "\n",
    "    plt.grid()\n",
    "    plt.ylim(-1, 1)\n",
    "    plt.xlabel(\"x\")\n",
    "    plt.ylabel(\"y\")\n",
    "    plt.plot(xx, yy, 'ro')\n",
    "    plt.savefig(fn)\n",
    "    plt.show()\n"
   ]
  },
  {
   "cell_type": "code",
   "execution_count": null,
   "id": "b9da0142",
   "metadata": {},
   "outputs": [],
   "source": [
    "import imageio.v3 as iio\n",
    "with imageio.get_writer('data/xy.gif', mode='I') as writer:\n",
    "    for filename in fns:\n",
    "        image = iio.imread(filename)\n",
    "        writer.append_data(image)"
   ]
  },
  {
   "cell_type": "markdown",
   "id": "22542df3",
   "metadata": {},
   "source": [
    "![](data/xy00.png)"
   ]
  },
  {
   "cell_type": "markdown",
   "id": "01e82de5",
   "metadata": {},
   "source": [
    "![](data/xy.gif)"
   ]
  },
  {
   "cell_type": "code",
   "execution_count": null,
   "id": "d7be1a22",
   "metadata": {},
   "outputs": [],
   "source": []
  }
 ],
 "metadata": {
  "authors": [
   {
    "name": "Sparisoma Viridi"
   }
  ],
  "kernelspec": {
   "display_name": "Python 3 (ipykernel)",
   "language": "python",
   "name": "python3"
  },
  "language_info": {
   "codemirror_mode": {
    "name": "ipython",
    "version": 3
   },
   "file_extension": ".py",
   "mimetype": "text/x-python",
   "name": "python",
   "nbconvert_exporter": "python",
   "pygments_lexer": "ipython3",
   "version": "3.10.10"
  },
  "title": "xy_png_to_gif"
 },
 "nbformat": 4,
 "nbformat_minor": 5
}
