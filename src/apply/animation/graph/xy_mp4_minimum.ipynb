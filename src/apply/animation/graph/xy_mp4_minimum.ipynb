{
 "cells": [
  {
   "cell_type": "markdown",
   "id": "cca11c7c",
   "metadata": {},
   "source": [
    "# xy_mp4_minimum\n",
    "Create animation of xy chart using `matplotlib` library (minimum code)."
   ]
  },
  {
   "cell_type": "code",
   "execution_count": 1,
   "id": "57d46d70",
   "metadata": {},
   "outputs": [
    {
     "data": {
      "text/html": [
       "<video src=\"data/min_anim.mp4\" controls  >\n",
       "      Your browser does not support the <code>video</code> element.\n",
       "    </video>"
      ],
      "text/plain": [
       "<IPython.core.display.Video object>"
      ]
     },
     "metadata": {},
     "output_type": "display_data"
    },
    {
     "data": {
      "image/png": "[encoded data removed]",
      "text/plain": [
       "<Figure size 460x258 with 1 Axes>"
      ]
     },
     "metadata": {},
     "output_type": "display_data"
    }
   ],
   "source": [
    "import matplotlib.animation as animation\n",
    "import matplotlib.pyplot as plt\n",
    "import numpy as np\n",
    "from IPython.display import display, Video\n",
    "  \n",
    "# creating a blank window   \n",
    "# for the animation \n",
    "fig = plt.figure(\n",
    "    figsize=(6.4, 3.6),\n",
    "    facecolor=(1.0, 1.0, 1.0, 1.0)\n",
    ")\n",
    "axis = plt.axes(\n",
    "    xlim =(0, 10),\n",
    "    ylim =(-1, 1),\n",
    "    xlabel=\"x\",\n",
    "    ylabel=\"y\",\n",
    "    facecolor=(1.0, 1.0, 1.0, 1.0)\n",
    ") \n",
    "axis.grid(\n",
    "    visible=True,\n",
    "    axis='both',\n",
    "    linestyle='-'\n",
    ")\n",
    "line, = axis.plot([], [], lw = 2) \n",
    "\n",
    "T = 1\n",
    "l = 10\n",
    "   \n",
    "# what will our line dataset\n",
    "# contain?\n",
    "def init(): \n",
    "    line.set_data([], []) \n",
    "    return line, \n",
    "   \n",
    "# initializing empty values\n",
    "# for x and y co-ordinates\n",
    "xdata, ydata = [], [] \n",
    "\n",
    "# animation function \n",
    "def animate(i):\n",
    "    # t is a parameter which varies\n",
    "    # with the frame number\n",
    "    t = i / 30.0\n",
    "    \n",
    "    # x, y values to be plotted \n",
    "    x = np.array([i * 0.1 for i in range(0, 101)])\n",
    "    y = 0.8 * np.sin(2 * np.pi * (x / l - t / T))\n",
    "       \n",
    "    # appending values to the previously \n",
    "    # empty x and y data holders \n",
    "    #xdata.append(x)\n",
    "    xdata = x\n",
    "    #ydata.append(y)\n",
    "    ydata = y\n",
    "    line.set_data(xdata, ydata)\n",
    "    return line,\n",
    "   \n",
    "# calling the animation function     \n",
    "anim = animation.FuncAnimation(fig, animate, init_func = init, \n",
    "                               frames = 31, interval = 20, blit = True) \n",
    "   \n",
    "# saves the animation in our desktop\n",
    "anim.save('data/min_anim.mp4', writer = 'ffmpeg', fps = 30)\n",
    "\n",
    "fig.set_visible(not fig.get_visible())\n",
    "display(Video(\"data/min_anim.mp4\"))"
   ]
  },
  {
   "cell_type": "code",
   "execution_count": null,
   "id": "4601a28a",
   "metadata": {},
   "outputs": [],
   "source": []
  }
 ],
 "metadata": {
  "authors": [
   {
    "name": "Sparisoma Viridi"
   }
  ],
  "kernelspec": {
   "display_name": "Python 3 (ipykernel)",
   "language": "python",
   "name": "python3"
  },
  "language_info": {
   "codemirror_mode": {
    "name": "ipython",
    "version": 3
   },
   "file_extension": ".py",
   "mimetype": "text/x-python",
   "name": "python",
   "nbconvert_exporter": "python",
   "pygments_lexer": "ipython3",
   "version": "3.10.10"
  },
  "title": "xy_mp4_minimum"
 },
 "nbformat": 4,
 "nbformat_minor": 5
}
