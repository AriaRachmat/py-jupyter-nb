{
 "cells": [
  {
   "cell_type": "markdown",
   "id": "cca11c7c",
   "metadata": {},
   "source": [
    "# svm_advanced_techniques\n",
    "Tutorial from https://www.accelebrate.com/library/tutorials/machine-learning-part3."
   ]
  },
  {
   "cell_type": "markdown",
   "id": "22f0bad0",
   "metadata": {},
   "source": [
    "## create data file\n",
    "Step 1.2 from the tutorial.\n",
    "\n",
    "Create `digits.csv` as a new text file with following content\n",
    "\n",
    "```\n",
    "0,0,0,0,16,0,0,0,0,0,0,0,16,0,0,0,0,0,0,0,16,0,0,0,0,0,0,0,16,0,0,0,\n",
    "0,0,0,0,16,0,0,0,0,0,0,0,16,0,0,0,0,0,0,0,16,0,0,0,0,0,0,0,16,0,0,0\n",
    "```"
   ]
  },
  {
   "cell_type": "markdown",
   "id": "b1ab675f",
   "metadata": {},
   "source": [
    "## load data from file\n",
    "Step 1.2 - 1.5 from the tutorial."
   ]
  },
  {
   "cell_type": "code",
   "execution_count": null,
   "id": "cf9a1de1",
   "metadata": {},
   "outputs": [],
   "source": [
    "from sklearn import datasets, svm\n",
    "import matplotlib.pyplot as plt\n",
    "import pandas as pd \n",
    "\n",
    "digits = datasets.load_digits()\n",
    "clf = svm.SVC(gamma=0.001, C=100.)\n",
    "clf.fit(digits.data, digits.target)\n",
    "\n",
    "df = pd.read_csv('digits.csv', header=None)\n",
    "sample_number = df.values[0].reshape(8,8)\n",
    "\n",
    "result = clf.predict([[item for sublist in sample_number for item in sublist]])\n",
    "print(result)\n",
    "\n",
    "plt.figure(1, figsize=(3 ,3))\n",
    "plt.imshow(sample_number, cmap=plt.cm.gray_r, interpolation='nearest')\n",
    "plt.show()"
   ]
  },
  {
   "cell_type": "markdown",
   "id": "cb472131",
   "metadata": {},
   "source": [
    "## saving the model\n",
    "Step 2.1 - 2.4 from the tutorial."
   ]
  },
  {
   "cell_type": "code",
   "execution_count": null,
   "id": "e81988e0",
   "metadata": {
    "scrolled": true
   },
   "outputs": [],
   "source": [
    "from sklearn import datasets, svm\n",
    "#from sklearn.externals import joblib\n",
    "import joblib\n",
    "import matplotlib.pyplot as plt\n",
    "import pandas as pd\n",
    "\n",
    "digits = datasets.load_digits()\n",
    "clf = svm.SVC(gamma=0.001, C=100.)\n",
    "clf.fit(digits.data, digits.target)\n",
    "\n",
    "df = pd.read_csv('digits.csv', header=None)\n",
    "sample_number = df.values[0].reshape(8,8)\n",
    "\n",
    "result = clf.predict([[item for sublist in sample_number for item in sublist]])\n",
    "joblib.dump(clf, './digits.pkl')\n",
    "\n",
    "print(result)\n",
    "\n",
    "plt.figure(1, figsize=(3 ,3))\n",
    "plt.imshow(sample_number, cmap=plt.cm.gray_r, interpolation='nearest')\n",
    "plt.show()"
   ]
  },
  {
   "cell_type": "markdown",
   "id": "62de790b",
   "metadata": {},
   "source": [
    "## re-loading the model\n",
    "Step 2.5 - 2.7 from the tutorial."
   ]
  },
  {
   "cell_type": "code",
   "execution_count": null,
   "id": "8cb42f87",
   "metadata": {},
   "outputs": [],
   "source": [
    "from sklearn import datasets, svm\n",
    "#from sklearn.externals import joblib\n",
    "import joblib\n",
    "import matplotlib.pyplot as plt\n",
    "import pandas as pd\n",
    "\n",
    "digits = datasets.load_digits()\n",
    "\n",
    "clf = joblib.load('digits.pkl')\n",
    "\n",
    "df = pd.read_csv('digits.csv', header=None)\n",
    "sample_number = df.values[0].reshape(8,8)\n",
    "\n",
    "result = clf.predict([[item for sublist in sample_number for item in sublist]])\n",
    "\n",
    "print(result)\n",
    "\n",
    "plt.figure(1, figsize=(3 ,3))\n",
    "plt.imshow(sample_number, cmap=plt.cm.gray_r, interpolation='nearest')\n",
    "plt.show()"
   ]
  },
  {
   "cell_type": "markdown",
   "id": "1d7174f0",
   "metadata": {},
   "source": [
    "## optimizing the hyperparameters\n",
    "Step 3.1 - 3.9 from the tutorial."
   ]
  },
  {
   "cell_type": "code",
   "execution_count": 2,
   "id": "49657087",
   "metadata": {},
   "outputs": [
    {
     "ename": "ModuleNotFoundError",
     "evalue": "No module named 'sklearn.grid_search'",
     "output_type": "error",
     "traceback": [
      "\u001b[1;31m---------------------------------------------------------------------------\u001b[0m",
      "\u001b[1;31mModuleNotFoundError\u001b[0m                       Traceback (most recent call last)",
      "Input \u001b[1;32mIn [2]\u001b[0m, in \u001b[0;36m<cell line: 3>\u001b[1;34m()\u001b[0m\n\u001b[0;32m      1\u001b[0m \u001b[38;5;28;01mfrom\u001b[39;00m \u001b[38;5;21;01msklearn\u001b[39;00m \u001b[38;5;28;01mimport\u001b[39;00m datasets, svm\n\u001b[0;32m      2\u001b[0m \u001b[38;5;28;01mimport\u001b[39;00m \u001b[38;5;21;01mjoblib\u001b[39;00m\n\u001b[1;32m----> 3\u001b[0m \u001b[38;5;28;01mfrom\u001b[39;00m \u001b[38;5;21;01msklearn\u001b[39;00m\u001b[38;5;21;01m.\u001b[39;00m\u001b[38;5;21;01mgrid_search\u001b[39;00m \u001b[38;5;28;01mimport\u001b[39;00m GridSearchCV\n\u001b[0;32m      4\u001b[0m \u001b[38;5;28;01mimport\u001b[39;00m \u001b[38;5;21;01mmatplotlib\u001b[39;00m\u001b[38;5;21;01m.\u001b[39;00m\u001b[38;5;21;01mpyplot\u001b[39;00m \u001b[38;5;28;01mas\u001b[39;00m \u001b[38;5;21;01mplt\u001b[39;00m\n\u001b[0;32m      5\u001b[0m \u001b[38;5;28;01mimport\u001b[39;00m \u001b[38;5;21;01mpandas\u001b[39;00m \u001b[38;5;28;01mas\u001b[39;00m \u001b[38;5;21;01mpd\u001b[39;00m\n",
      "\u001b[1;31mModuleNotFoundError\u001b[0m: No module named 'sklearn.grid_search'"
     ]
    }
   ],
   "source": [
    "from sklearn import datasets, svm\n",
    "import joblib\n",
    "from sklearn.grid_search import GridSearchCV\n",
    "import matplotlib.pyplot as plt\n",
    "import pandas as pd\n",
    "import numpy as np "
   ]
  },
  {
   "cell_type": "code",
   "execution_count": null,
   "id": "d91d3f51",
   "metadata": {},
   "outputs": [],
   "source": []
  }
 ],
 "metadata": {
  "authors": [
   {
    "name": "Sparisoma Viridi"
   }
  ],
  "kernelspec": {
   "display_name": "Python 3 (ipykernel)",
   "language": "python",
   "name": "python3"
  },
  "language_info": {
   "codemirror_mode": {
    "name": "ipython",
    "version": 3
   },
   "file_extension": ".py",
   "mimetype": "text/x-python",
   "name": "python",
   "nbconvert_exporter": "python",
   "pygments_lexer": "ipython3",
   "version": "3.10.10"
  },
  "title": "svm_advanced_techniques"
 },
 "nbformat": 4,
 "nbformat_minor": 5
}
