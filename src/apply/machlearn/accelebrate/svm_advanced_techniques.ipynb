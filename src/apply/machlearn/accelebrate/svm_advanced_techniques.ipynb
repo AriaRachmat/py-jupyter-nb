{
 "cells": [
  {
   "cell_type": "markdown",
   "id": "cca11c7c",
   "metadata": {},
   "source": [
    "# svm_advanced_techniques\n",
    "Tutorial from https://www.accelebrate.com/library/tutorials/machine-learning-part3."
   ]
  },
  {
   "cell_type": "markdown",
   "id": "22f0bad0",
   "metadata": {},
   "source": [
    "## create data file\n",
    "Step 1.2 from the tutorial.\n",
    "\n",
    "Create `digits.csv` as a new text file with following content\n",
    "\n",
    "```\n",
    "0,0,0,0,16,0,0,0,0,0,0,0,16,0,0,0,0,0,0,0,16,0,0,0,0,0,0,0,16,0,0,0,\n",
    "0,0,0,0,16,0,0,0,0,0,0,0,16,0,0,0,0,0,0,0,16,0,0,0,0,0,0,0,16,0,0,0\n",
    "```"
   ]
  },
  {
   "cell_type": "markdown",
   "id": "b1ab675f",
   "metadata": {},
   "source": [
    "## load data from file\n",
    "Step 1.2 - 1.5 from the tutorial."
   ]
  },
  {
   "cell_type": "code",
   "execution_count": null,
   "id": "cf9a1de1",
   "metadata": {},
   "outputs": [],
   "source": [
    "from sklearn import datasets, svm\n",
    "import matplotlib.pyplot as plt\n",
    "import pandas as pd \n",
    "\n",
    "digits = datasets.load_digits()\n",
    "clf = svm.SVC(gamma=0.001, C=100.)\n",
    "clf.fit(digits.data, digits.target)\n",
    "\n",
    "df = pd.read_csv('digits.csv', header=None)\n",
    "sample_number = df.values[0].reshape(8,8)\n",
    "\n",
    "result = clf.predict([[item for sublist in sample_number for item in sublist]])\n",
    "print(result)\n",
    "\n",
    "plt.figure(1, figsize=(3 ,3))\n",
    "plt.imshow(sample_number, cmap=plt.cm.gray_r, interpolation='nearest')\n",
    "plt.show()"
   ]
  },
  {
   "cell_type": "markdown",
   "id": "cb472131",
   "metadata": {},
   "source": [
    "## saving the model\n",
    "Step 2.1 - 2.4 from the tutorial."
   ]
  },
  {
   "cell_type": "code",
   "execution_count": null,
   "id": "e81988e0",
   "metadata": {
    "scrolled": true
   },
   "outputs": [],
   "source": [
    "from sklearn import datasets, svm\n",
    "#from sklearn.externals import joblib\n",
    "import joblib\n",
    "import matplotlib.pyplot as plt\n",
    "import pandas as pd\n",
    "\n",
    "digits = datasets.load_digits()\n",
    "clf = svm.SVC(gamma=0.001, C=100.)\n",
    "clf.fit(digits.data, digits.target)\n",
    "\n",
    "df = pd.read_csv('digits.csv', header=None)\n",
    "sample_number = df.values[0].reshape(8,8)\n",
    "\n",
    "result = clf.predict([[item for sublist in sample_number for item in sublist]])\n",
    "joblib.dump(clf, './digits.pkl')\n",
    "\n",
    "print(result)\n",
    "\n",
    "plt.figure(1, figsize=(3 ,3))\n",
    "plt.imshow(sample_number, cmap=plt.cm.gray_r, interpolation='nearest')\n",
    "plt.show()"
   ]
  },
  {
   "cell_type": "markdown",
   "id": "d2a1fb72",
   "metadata": {},
   "source": [
    "## re-loading the model\n",
    "Step 2.5 - 2.7 from the tutorial."
   ]
  },
  {
   "cell_type": "code",
   "execution_count": null,
   "id": "2855b0dd",
   "metadata": {},
   "outputs": [],
   "source": [
    "from sklearn import datasets, svm\n",
    "#from sklearn.externals import joblib\n",
    "import joblib\n",
    "import matplotlib.pyplot as plt\n",
    "import pandas as pd\n",
    "\n",
    "digits = datasets.load_digits()\n",
    "\n",
    "clf = joblib.load('digits.pkl')\n",
    "\n",
    "df = pd.read_csv('digits.csv', header=None)\n",
    "sample_number = df.values[0].reshape(8,8)\n",
    "\n",
    "result = clf.predict([[item for sublist in sample_number for item in sublist]])\n",
    "\n",
    "print(result)\n",
    "\n",
    "plt.figure(1, figsize=(3 ,3))\n",
    "plt.imshow(sample_number, cmap=plt.cm.gray_r, interpolation='nearest')\n",
    "plt.show()"
   ]
  },
  {
   "cell_type": "markdown",
   "id": "e5fefc49",
   "metadata": {},
   "source": [
    "## optimizing the hyperparameters\n",
    "Step 3.1 - 3.9 from the tutorial."
   ]
  },
  {
   "cell_type": "code",
   "execution_count": 5,
   "id": "1cf96201",
   "metadata": {},
   "outputs": [
    {
     "ename": "ImportError",
     "evalue": "cannot import name 'Mapping' from 'collections' (C:\\Program Files\\WindowsApps\\PythonSoftwareFoundation.Python.3.10_3.10.2800.0_x64__qbz5n2kfra8p0\\lib\\collections\\__init__.py)",
     "output_type": "error",
     "traceback": [
      "\u001b[1;31m---------------------------------------------------------------------------\u001b[0m",
      "\u001b[1;31mImportError\u001b[0m                               Traceback (most recent call last)",
      "Input \u001b[1;32mIn [5]\u001b[0m, in \u001b[0;36m<cell line: 3>\u001b[1;34m()\u001b[0m\n\u001b[0;32m      1\u001b[0m \u001b[38;5;28;01mfrom\u001b[39;00m \u001b[38;5;21;01msklearn\u001b[39;00m \u001b[38;5;28;01mimport\u001b[39;00m datasets, svm\n\u001b[0;32m      2\u001b[0m \u001b[38;5;28;01mimport\u001b[39;00m \u001b[38;5;21;01mjoblib\u001b[39;00m\n\u001b[1;32m----> 3\u001b[0m \u001b[38;5;28;01mfrom\u001b[39;00m \u001b[38;5;21;01msearchgrid\u001b[39;00m \u001b[38;5;28;01mimport\u001b[39;00m GridSearchCV\n\u001b[0;32m      4\u001b[0m \u001b[38;5;28;01mimport\u001b[39;00m \u001b[38;5;21;01mmatplotlib\u001b[39;00m\u001b[38;5;21;01m.\u001b[39;00m\u001b[38;5;21;01mpyplot\u001b[39;00m \u001b[38;5;28;01mas\u001b[39;00m \u001b[38;5;21;01mplt\u001b[39;00m\n\u001b[0;32m      5\u001b[0m \u001b[38;5;28;01mimport\u001b[39;00m \u001b[38;5;21;01mpandas\u001b[39;00m \u001b[38;5;28;01mas\u001b[39;00m \u001b[38;5;21;01mpd\u001b[39;00m\n",
      "File \u001b[1;32m~\\AppData\\Local\\Packages\\PythonSoftwareFoundation.Python.3.10_qbz5n2kfra8p0\\LocalCache\\local-packages\\Python310\\site-packages\\searchgrid.py:1\u001b[0m, in \u001b[0;36m<module>\u001b[1;34m\u001b[0m\n\u001b[1;32m----> 1\u001b[0m \u001b[38;5;28;01mfrom\u001b[39;00m \u001b[38;5;21;01mcollections\u001b[39;00m \u001b[38;5;28;01mimport\u001b[39;00m Mapping \u001b[38;5;28;01mas\u001b[39;00m _Mapping\n\u001b[0;32m      2\u001b[0m \u001b[38;5;28;01mfrom\u001b[39;00m \u001b[38;5;21;01mcollections\u001b[39;00m \u001b[38;5;28;01mimport\u001b[39;00m defaultdict \u001b[38;5;28;01mas\u001b[39;00m _defaultdict\n\u001b[0;32m      3\u001b[0m \u001b[38;5;28;01mimport\u001b[39;00m \u001b[38;5;21;01mitertools\u001b[39;00m \u001b[38;5;28;01mas\u001b[39;00m \u001b[38;5;21;01m_itertools\u001b[39;00m\n",
      "\u001b[1;31mImportError\u001b[0m: cannot import name 'Mapping' from 'collections' (C:\\Program Files\\WindowsApps\\PythonSoftwareFoundation.Python.3.10_3.10.2800.0_x64__qbz5n2kfra8p0\\lib\\collections\\__init__.py)"
     ]
    }
   ],
   "source": [
    "from sklearn import datasets, svm\n",
    "import joblib\n",
    "from searchgrid import GridSearchCV\n",
    "import matplotlib.pyplot as plt\n",
    "import pandas as pd\n",
    "import numpy as np "
   ]
  },
  {
   "cell_type": "code",
   "execution_count": null,
   "id": "913a7317",
   "metadata": {},
   "outputs": [],
   "source": []
  }
 ],
 "metadata": {
  "authors": [
   {
    "name": "Sparisoma Viridi"
   }
  ],
  "kernelspec": {
   "display_name": "Python 3 (ipykernel)",
   "language": "python",
   "name": "python3"
  },
  "language_info": {
   "codemirror_mode": {
    "name": "ipython",
    "version": 3
   },
   "file_extension": ".py",
   "mimetype": "text/x-python",
   "name": "python",
   "nbconvert_exporter": "python",
   "pygments_lexer": "ipython3",
   "version": "3.10.10"
  },
  "title": "svm_advanced_techniques"
 },
 "nbformat": 4,
 "nbformat_minor": 5
}
