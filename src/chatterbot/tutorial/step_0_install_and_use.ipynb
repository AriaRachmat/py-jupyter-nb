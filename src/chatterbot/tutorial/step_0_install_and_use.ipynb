{
 "cells": [
  {
   "cell_type": "markdown",
   "id": "cca11c7c",
   "metadata": {},
   "source": [
    "# step_0_install_and_use\n",
    "install and use virtual environment in jupyter notebook"
   ]
  },
  {
   "cell_type": "markdown",
   "id": "5ddbd791",
   "metadata": {},
   "source": [
    "+ Create virtual environment `chatterbot`.\n",
    "+ Install IPython kernel with name `chatterbot` as in [here](https://www.geeksforgeeks.org/using-jupyter-notebook-in-virtual-environment/)\n",
    "+ Install chatbotter library as [in using shell here](https://realpython.com/build-a-chatbot-python-chatterbot/#step-1-create-a-chatbot-using-python-chatterbot).\n",
    "+ Run Juputer Notebook from command line.\n",
    "+ Navigate to menu: `File` &rightarrow; `New Notebook` &rightarrow; `chatterbot`.\n",
    "+ Or for existing notebook file, navigate to menu: `Kernel` &rightarrow; `Change kernel` &rightarrow; `chatterbot`."
   ]
  },
  {
   "cell_type": "code",
   "execution_count": null,
   "id": "5568ad1b",
   "metadata": {},
   "outputs": [],
   "source": []
  }
 ],
 "metadata": {
  "authors": [
   {
    "name": "Sparisoma Viridi"
   }
  ],
  "kernelspec": {
   "display_name": "Python 3 (ipykernel)",
   "language": "python",
   "name": "python3"
  },
  "language_info": {
   "codemirror_mode": {
    "name": "ipython",
    "version": 3
   },
   "file_extension": ".py",
   "mimetype": "text/x-python",
   "name": "python",
   "nbconvert_exporter": "python",
   "pygments_lexer": "ipython3",
   "version": "3.10.9"
  },
  "title": "step_0_install_and_use"
 },
 "nbformat": 4,
 "nbformat_minor": 5
}
