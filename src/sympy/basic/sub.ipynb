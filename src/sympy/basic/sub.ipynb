{
 "cells": [
  {
   "cell_type": "markdown",
   "id": "cca11c7c",
   "metadata": {},
   "source": [
    "# sub\n",
    "Substract numbers using numeric and sympy library"
   ]
  },
  {
   "cell_type": "markdown",
   "id": "3d6bd648",
   "metadata": {},
   "source": [
    "## numerical addition"
   ]
  },
  {
   "cell_type": "code",
   "execution_count": 2,
   "id": "b0c0f6a3",
   "metadata": {
    "scrolled": true
   },
   "outputs": [
    {
     "name": "stdout",
     "output_type": "stream",
     "text": [
      "x + y = 1 + 2 = 3\n"
     ]
    }
   ],
   "source": [
    "x = 1\n",
    "y = 2\n",
    "z = x + y\n",
    "\n",
    "print(f\"x + y = {x} + {y} = {z}\")"
   ]
  },
  {
   "cell_type": "markdown",
   "id": "4b390e4b",
   "metadata": {},
   "source": [
    "## symbolic addition"
   ]
  },
  {
   "cell_type": "markdown",
   "id": "ec6553e9",
   "metadata": {},
   "source": [
    "$$\n",
    "z_1 = x + y\n",
    "$$"
   ]
  },
  {
   "cell_type": "code",
   "execution_count": 3,
   "id": "a5cdf690",
   "metadata": {
    "scrolled": true
   },
   "outputs": [
    {
     "name": "stdout",
     "output_type": "stream",
     "text": [
      "z1 =  x + y\n"
     ]
    }
   ],
   "source": [
    "from sympy import symbols\n",
    "\n",
    "x, y = symbols('x y')\n",
    "z1 = x + y\n",
    "print('z1 = ', z1)"
   ]
  },
  {
   "cell_type": "markdown",
   "id": "de78dfa3",
   "metadata": {},
   "source": [
    "$$\n",
    "\\begin{array}{rcl}\n",
    "z_2 & = & z_1 + x \\newline\n",
    "& = &  (x + y) + x \\newline\n",
    "& = &  2x + y\n",
    "\\end{array}\n",
    "$$"
   ]
  },
  {
   "cell_type": "code",
   "execution_count": 4,
   "id": "35c9107d",
   "metadata": {},
   "outputs": [
    {
     "name": "stdout",
     "output_type": "stream",
     "text": [
      "z2 = 2*x + y\n"
     ]
    }
   ],
   "source": [
    "z2 = z1 + x\n",
    "print('z2 =', z2)"
   ]
  },
  {
   "cell_type": "markdown",
   "id": "cf99fa90",
   "metadata": {},
   "source": [
    "$$\n",
    "\\begin{array}{rcl}\n",
    "z_3 & = & 3 z_2 + 2 z_1 + 5y \\newline\n",
    "& = & 3 (2x + y) + 2(x + y) + 5y \\newline\n",
    "& = & 6x + 3y + 2x + 2y + 5y \\newline\n",
    "& = & 8x + 10y\n",
    "\\end{array}\n",
    "$$"
   ]
  },
  {
   "cell_type": "code",
   "execution_count": 5,
   "id": "c30b4dda",
   "metadata": {},
   "outputs": [
    {
     "name": "stdout",
     "output_type": "stream",
     "text": [
      "z3 = 8*x + 10*y\n"
     ]
    }
   ],
   "source": [
    "z3 = 3*z2 + 2*z1 + 5*y\n",
    "print('z3 =', z3)"
   ]
  },
  {
   "cell_type": "code",
   "execution_count": 6,
   "id": "012877d7",
   "metadata": {},
   "outputs": [
    {
     "name": "stdout",
     "output_type": "stream",
     "text": [
      "10*x\n"
     ]
    }
   ],
   "source": [
    "sum = 0\n",
    "for i in range(10):\n",
    "    sum += x\n",
    "print(sum)"
   ]
  },
  {
   "cell_type": "code",
   "execution_count": null,
   "id": "4841baab",
   "metadata": {},
   "outputs": [],
   "source": []
  }
 ],
 "metadata": {
  "authors": [
   {
    "name": "Sparisoma Viridi"
   }
  ],
  "kernelspec": {
   "display_name": "Python 3 (ipykernel)",
   "language": "python",
   "name": "python3"
  },
  "language_info": {
   "codemirror_mode": {
    "name": "ipython",
    "version": 3
   },
   "file_extension": ".py",
   "mimetype": "text/x-python",
   "name": "python",
   "nbconvert_exporter": "python",
   "pygments_lexer": "ipython3",
   "version": "3.10.9"
  },
  "title": "sub"
 },
 "nbformat": 4,
 "nbformat_minor": 5
}
