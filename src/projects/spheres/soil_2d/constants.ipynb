{
 "cells": [
  {
   "cell_type": "markdown",
   "id": "cca11c7c",
   "metadata": {},
   "source": [
    "# constants\n",
    "Some constants for soil_2d."
   ]
  },
  {
   "cell_type": "code",
   "execution_count": 58,
   "id": "b9da0142",
   "metadata": {},
   "outputs": [],
   "source": [
    "class Soil:\n",
    "    def __init__(self, **kwargs):\n",
    "        self.__dict__.update(kwargs)"
   ]
  },
  {
   "cell_type": "code",
   "execution_count": 60,
   "id": "9a89fa66",
   "metadata": {},
   "outputs": [
    {
     "name": "stdout",
     "output_type": "stream",
     "text": [
      "{'name': 'Silt', 'size': (2e-06, 6e-05), 'sphericity': (0.46, 0.9)}\n"
     ]
    }
   ],
   "source": [
    "Silt = Soil(\n",
    "    name='Silt',\n",
    "    # https://doi.org/10.1007/978-94-017-8801-4_148\n",
    "    size=(2.00E-6, 6.00E-5), \n",
    "    # https://doi.org/10.3390/app122110703\n",
    "    sphericity=(0.46, 0.90)\n",
    ")\n",
    "print(vars(Silt))"
   ]
  },
  {
   "cell_type": "code",
   "execution_count": 61,
   "id": "a4aee2c8",
   "metadata": {},
   "outputs": [
    {
     "name": "stdout",
     "output_type": "stream",
     "text": [
      "Silt(2e-06, 6e-05)(0.46, 0.9)\n"
     ]
    }
   ],
   "source": [
    "print(silt)"
   ]
  },
  {
   "cell_type": "code",
   "execution_count": null,
   "id": "cf97a029",
   "metadata": {},
   "outputs": [],
   "source": []
  }
 ],
 "metadata": {
  "authors": [
   {
    "name": "Sparisoma Viridi"
   }
  ],
  "kernelspec": {
   "display_name": "Python 3 (ipykernel)",
   "language": "python",
   "name": "python3"
  },
  "language_info": {
   "codemirror_mode": {
    "name": "ipython",
    "version": 3
   },
   "file_extension": ".py",
   "mimetype": "text/x-python",
   "name": "python",
   "nbconvert_exporter": "python",
   "pygments_lexer": "ipython3",
   "version": "3.10.10"
  },
  "title": "constants"
 },
 "nbformat": 4,
 "nbformat_minor": 5
}
