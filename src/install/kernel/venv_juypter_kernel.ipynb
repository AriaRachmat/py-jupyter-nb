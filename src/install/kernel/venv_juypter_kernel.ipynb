{
 "cells": [
  {
   "cell_type": "markdown",
   "id": "cca11c7c",
   "metadata": {},
   "source": [
    "# venv_juypter_kernel\n",
    "Check installed package installed with pip."
   ]
  },
  {
   "attachments": {},
   "cell_type": "markdown",
   "id": "5ba170b2",
   "metadata": {},
   "source": [
    "## create virtual environment"
   ]
  },
  {
   "cell_type": "code",
   "execution_count": null,
   "id": "e0fc0e80",
   "metadata": {},
   "outputs": [],
   "source": []
  }
 ],
 "metadata": {
  "authors": [
   {
    "name": "Sparisoma Viridi"
   }
  ],
  "kernelspec": {
   "display_name": "Python 3 (ipykernel)",
   "language": "python",
   "name": "python3"
  },
  "language_info": {
   "codemirror_mode": {
    "name": "ipython",
    "version": 3
   },
   "file_extension": ".py",
   "mimetype": "text/x-python",
   "name": "python",
   "nbconvert_exporter": "python",
   "pygments_lexer": "ipython3",
   "version": "3.9.12"
  },
  "title": "venv_juypter_kernel"
 },
 "nbformat": 4,
 "nbformat_minor": 5
}
