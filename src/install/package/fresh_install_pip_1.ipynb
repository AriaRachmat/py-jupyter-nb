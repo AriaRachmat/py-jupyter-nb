{
 "cells": [
  {
   "cell_type": "markdown",
   "id": "cca11c7c",
   "metadata": {},
   "source": [
    "# fresh_install_pip_1\n",
    "+ Fresh install `python` using shell and use `pip` to install other packages\n",
    "+ They are not execute in Jupyhter Notebook but only documented here."
   ]
  },
  {
   "cell_type": "code",
   "execution_count": null,
   "id": "5e8f9d1d",
   "metadata": {},
   "outputs": [],
   "source": []
  }
 ],
 "metadata": {
  "authors": [
   {
    "name": "Sparisoma Viridi"
   }
  ],
  "kernelspec": {
   "display_name": "Python 3 (ipykernel)",
   "language": "python",
   "name": "python3"
  },
  "language_info": {
   "codemirror_mode": {
    "name": "ipython",
    "version": 3
   },
   "file_extension": ".py",
   "mimetype": "text/x-python",
   "name": "python",
   "nbconvert_exporter": "python",
   "pygments_lexer": "ipython3",
   "version": "3.10.10"
  },
  "title": "fresh_install_pip_1"
 },
 "nbformat": 4,
 "nbformat_minor": 5
}
