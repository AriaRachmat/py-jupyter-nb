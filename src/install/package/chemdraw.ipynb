{
 "cells": [
  {
   "cell_type": "markdown",
   "id": "cca11c7c",
   "metadata": {},
   "source": [
    "# chemdraw\n",
    "+ Install using shell and use `chemdraw` in a Jupyter notebook.\n",
    "+ Do not execute related cell in this notebook if the library is not already installed."
   ]
  },
  {
   "cell_type": "markdown",
   "id": "5ba170b2",
   "metadata": {},
   "source": [
    "## check installation"
   ]
  },
  {
   "cell_type": "code",
   "execution_count": 1,
   "id": "24f2a77b",
   "metadata": {},
   "outputs": [
    {
     "name": "stderr",
     "output_type": "stream",
     "text": [
      "WARNING: Package(s) not found: chemdraw\n"
     ]
    }
   ],
   "source": [
    "!pip show chemdraw"
   ]
  },
  {
   "cell_type": "markdown",
   "id": "ee823697",
   "metadata": {},
   "source": [
    "## install\n",
    "**Note**: Installation is performed in a shell, e.g PowerShell in this example."
   ]
  },
  {
   "cell_type": "markdown",
   "id": "a0187b96",
   "metadata": {},
   "source": [
    "```\n",
    "PS L:\\home\\py-jupyter-nb> pip install chemdraw\n",
    "Collecting chemdraw\n",
    "  Downloading chemdraw-0.0.5-py3-none-any.whl (37 kB)\n",
    "Collecting Pillow>=9.2.0\n",
    "  Downloading Pillow-9.4.0-cp310-cp310-win_amd64.whl (2.5 MB)\n",
    "     ---------------------------------------- 2.5/2.5 MB 821.6 kB/s eta 0:00:00\n",
    "Collecting plotly>=5.9.0\n",
    "  Downloading plotly-5.13.0-py2.py3-none-any.whl (15.2 MB)\n",
    "     ---------------------------------------- 15.2/15.2 MB 760.7 kB/s eta 0:00:00\n",
    "Collecting rdkit>=2022.3.4\n",
    "  Downloading rdkit-2022.9.4-cp310-cp310-win_amd64.whl (20.3 MB)\n",
    "     ---------------------------------------- 20.3/20.3 MB 639.0 kB/s eta 0:00:00\n",
    "Collecting numpy>=1.23.1\n",
    "  Downloading numpy-1.24.2-cp310-cp310-win_amd64.whl (14.8 MB)\n",
    "     ---------------------------------------- 14.8/14.8 MB 730.9 kB/s eta 0:00:00\n",
    "Collecting kaleido>=0.1.0\n",
    "  Downloading kaleido-0.2.1-py2.py3-none-win_amd64.whl (65.9 MB)\n",
    "     ---------------------------------------- 65.9/65.9 MB 320.2 kB/s eta 0:00:00\n",
    "Collecting scikit-learn>=1.1.1\n",
    "  Downloading scikit_learn-1.2.1-cp310-cp310-win_amd64.whl (8.3 MB)\n",
    "     ---------------------------------------- 8.3/8.3 MB 678.7 kB/s eta 0:00:00\n",
    "Collecting tenacity>=6.2.0\n",
    "  Downloading tenacity-8.2.1-py3-none-any.whl (24 kB)\n",
    "Collecting joblib>=1.1.1\n",
    "  Using cached joblib-1.2.0-py3-none-any.whl (297 kB)\n",
    "Requirement already satisfied: scipy>=1.3.2 in c:\\users\\sparisoma viridi\\appdata\\local\\packages\\pythonsoftwarefoundation.python.3.10_qbz5n2kfra8p0\\localcache\\local-packages\\python310\\site-packages (from scikit-learn>=1.1.1->chemdraw) (1.10.0)\n",
    "Collecting threadpoolctl>=2.0.0\n",
    "  Downloading threadpoolctl-3.1.0-py3-none-any.whl (14 kB)\n",
    "Installing collected packages: kaleido, threadpoolctl, tenacity, Pillow, numpy, joblib, rdkit, plotly, scikit-learn, chemdraw\n",
    "  Attempting uninstall: Pillow\n",
    "    Found existing installation: Pillow 9.0.1\n",
    "    Uninstalling Pillow-9.0.1:\n",
    "      Successfully uninstalled Pillow-9.0.1\n",
    "  Attempting uninstall: numpy\n",
    "    Found existing installation: numpy 1.22.3\n",
    "    Uninstalling numpy-1.22.3:\n",
    "      Successfully uninstalled numpy-1.22.3\n",
    "  Attempting uninstall: joblib\n",
    "    Found existing installation: joblib 1.1.0\n",
    "    Uninstalling joblib-1.1.0:\n",
    "      Successfully uninstalled joblib-1.1.0\n",
    "ERROR: pip's dependency resolver does not currently take into account all the packages that are installed. This behaviour is the source of the following dependency conflicts.\n",
    "chatterbot 1.0.4 requires python-dateutil<2.8,>=2.7, but you have python-dateutil 2.8.2 which is incompatible.\n",
    "Successfully installed Pillow-9.4.0 chemdraw-0.0.5 joblib-1.2.0 kaleido-0.2.1 numpy-1.24.2 plotly-5.13.0 rdkit-2022.9.4 scikit-learn-1.2.1 tenacity-8.2.1 threadpoolctl-3.1.0\n",
    "```"
   ]
  },
  {
   "cell_type": "markdown",
   "id": "69f6063b",
   "metadata": {},
   "source": [
    "**Note**: It can install `chemdraw` package."
   ]
  },
  {
   "cell_type": "markdown",
   "id": "de87a75f",
   "metadata": {},
   "source": [
    "## import\n",
    "Example from [chemdraw](https://pypi.org/project/chemdraw/) to test installed package."
   ]
  },
  {
   "cell_type": "code",
   "execution_count": null,
   "id": "0630ae54",
   "metadata": {},
   "outputs": [],
   "source": [
    "import chemdraw\n",
    "\n",
    "mol = \"O=C(C)Oc1ccccc1C(=O)O\"\n",
    "drawer = chemdraw.Drawer(mol, title=mol)\n",
    "fig = drawer.draw()\n",
    "fig.show()"
   ]
  },
  {
   "cell_type": "code",
   "execution_count": null,
   "id": "e5d995cc",
   "metadata": {},
   "outputs": [],
   "source": []
  }
 ],
 "metadata": {
  "authors": [
   {
    "name": "Sparisoma Viridi"
   }
  ],
  "kernelspec": {
   "display_name": "Python 3 (ipykernel)",
   "language": "python",
   "name": "python3"
  },
  "language_info": {
   "codemirror_mode": {
    "name": "ipython",
    "version": 3
   },
   "file_extension": ".py",
   "mimetype": "text/x-python",
   "name": "python",
   "nbconvert_exporter": "python",
   "pygments_lexer": "ipython3",
   "version": "3.10.10"
  },
  "title": "chemdraw"
 },
 "nbformat": 4,
 "nbformat_minor": 5
}
