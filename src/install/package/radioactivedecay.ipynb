{
 "cells": [
  {
   "cell_type": "markdown",
   "id": "cca11c7c",
   "metadata": {},
   "source": [
    "# radioactivedecay\n",
    "+ Install using shell and use `radioactivedecay` in a Jupyter notebook.\n",
    "+ Do not execute related cell in this notebook if the library is not already installed."
   ]
  },
  {
   "cell_type": "markdown",
   "id": "5ba170b2",
   "metadata": {},
   "source": [
    "## check installation"
   ]
  },
  {
   "cell_type": "code",
   "execution_count": 5,
   "id": "24f2a77b",
   "metadata": {},
   "outputs": [
    {
     "name": "stderr",
     "output_type": "stream",
     "text": [
      "WARNING: Package(s) not found: radioactivedecay\n"
     ]
    }
   ],
   "source": [
    "!pip show radioactivedecay"
   ]
  },
  {
   "cell_type": "markdown",
   "id": "ee823697",
   "metadata": {},
   "source": [
    "## install\n",
    "**Note**: Installation is performed in a shell, e.g PowerShell in this example."
   ]
  },
  {
   "cell_type": "markdown",
   "id": "5a2f3fbd",
   "metadata": {},
   "source": [
    "```\n",
    "PS L:\\home\\py-jupyter-nb> pip install radioactivedecay\n",
    "Collecting radioactivedecay\n",
    "  Downloading radioactivedecay-0.4.16-py3-none-any.whl (966 kB)\n",
    "     ------------------------------------ 966.6/966.6 kB 611.9 kB/s eta 0:00:00\n",
    "Requirement already satisfied: networkx in c:\\users\\sparisoma viridi\\appdata\\local\\packages\\pythonsoftwarefoundation.python.3.10_qbz5n2kfra8p0\\localcache\\local-packages\\python310\\site-packages (from radioactivedecay) (3.0)\n",
    "Requirement already satisfied: setuptools in c:\\users\\sparisoma viridi\\appdata\\local\\packages\\pythonsoftwarefoundation.python.3.10_qbz5n2kfra8p0\\localcache\\local-packages\\python310\\site-packages (from radioactivedecay) (61.3.1)\n",
    "Requirement already satisfied: scipy in c:\\users\\sparisoma viridi\\appdata\\local\\packages\\pythonsoftwarefoundation.python.3.10_qbz5n2kfra8p0\\localcache\\local-packages\\python310\\site-packages (from radioactivedecay) (1.10.0)\n",
    "Requirement already satisfied: sympy in c:\\users\\sparisoma viridi\\appdata\\local\\packages\\pythonsoftwarefoundation.python.3.10_qbz5n2kfra8p0\\localcache\\local-packages\\python310\\site-packages (from radioactivedecay) (1.11.1)\n",
    "Requirement already satisfied: numpy in c:\\users\\sparisoma viridi\\appdata\\local\\packages\\pythonsoftwarefoundation.python.3.10_qbz5n2kfra8p0\\localcache\\local-packages\\python310\\site-packages (from radioactivedecay) (1.22.3)\n",
    "Requirement already satisfied: matplotlib in c:\\users\\sparisoma viridi\\appdata\\local\\packages\\pythonsoftwarefoundation.python.3.10_qbz5n2kfra8p0\\localcache\\local-packages\\python310\\site-packages (from radioactivedecay) (3.5.1)\n",
    "Requirement already satisfied: kiwisolver>=1.0.1 in c:\\users\\sparisoma viridi\\appdata\\local\\packages\\pythonsoftwarefoundation.python.3.10_qbz5n2kfra8p0\\localcache\\local-packages\\python310\\site-packages (from matplotlib->radioactivedecay) (1.4.0)\n",
    "Requirement already satisfied: cycler>=0.10 in c:\\users\\sparisoma viridi\\appdata\\local\\packages\\pythonsoftwarefoundation.python.3.10_qbz5n2kfra8p0\\localcache\\local-packages\\python310\\site-packages (from matplotlib->radioactivedecay) (0.11.0)\n",
    "Requirement already satisfied: packaging>=20.0 in c:\\users\\sparisoma viridi\\appdata\\local\\packages\\pythonsoftwarefoundation.python.3.10_qbz5n2kfra8p0\\localcache\\local-packages\\python310\\site-packages (from matplotlib->radioactivedecay) (21.3)\n",
    "Requirement already satisfied: pyparsing>=2.2.1 in c:\\users\\sparisoma viridi\\appdata\\local\\packages\\pythonsoftwarefoundation.python.3.10_qbz5n2kfra8p0\\localcache\\local-packages\\python310\\site-packages (from matplotlib->radioactivedecay) (3.0.7)\n",
    "Requirement already satisfied: fonttools>=4.22.0 in c:\\users\\sparisoma viridi\\appdata\\local\\packages\\pythonsoftwarefoundation.python.3.10_qbz5n2kfra8p0\\localcache\\local-packages\\python310\\site-packages (from matplotlib->radioactivedecay) (4.31.2)\n",
    "Requirement already satisfied: python-dateutil>=2.7 in c:\\users\\sparisoma viridi\\appdata\\local\\packages\\pythonsoftwarefoundation.python.3.10_qbz5n2kfra8p0\\localcache\\local-packages\\python310\\site-packages (from matplotlib->radioactivedecay) (2.8.2)\n",
    "Requirement already satisfied: pillow>=6.2.0 in c:\\users\\sparisoma viridi\\appdata\\local\\packages\\pythonsoftwarefoundation.python.3.10_qbz5n2kfra8p0\\localcache\\local-packages\\python310\\site-packages (from matplotlib->radioactivedecay) (9.0.1)\n",
    "Requirement already satisfied: mpmath>=0.19 in c:\\users\\sparisoma viridi\\appdata\\local\\packages\\pythonsoftwarefoundation.python.3.10_qbz5n2kfra8p0\\localcache\\local-packages\\python310\\site-packages (from sympy->radioactivedecay) (1.2.1)\n",
    "Requirement already satisfied: six>=1.5 in c:\\users\\sparisoma viridi\\appdata\\local\\packages\\pythonsoftwarefoundation.python.3.10_qbz5n2kfra8p0\\localcache\\local-packages\\python310\\site-packages (from python-dateutil>=2.7->matplotlib->radioactivedecay) (1.16.0)\n",
    "Installing collected packages: radioactivedecay\n",
    "Successfully installed radioactivedecay-0.4.16\n",
    "PS L:\\home\\py-jupyter-nb>\n",
    "```"
   ]
  },
  {
   "cell_type": "markdown",
   "id": "24bdcebd",
   "metadata": {},
   "source": [
    "**Note**: It can install `npat` package."
   ]
  },
  {
   "cell_type": "markdown",
   "id": "de87a75f",
   "metadata": {},
   "source": [
    "## import\n",
    "Example from [NPAT](https://jtmorrell.github.io/npat/build/html/usersguide/getting_started.html#nuclear-data-libraries) to test installed package."
   ]
  },
  {
   "cell_type": "code",
   "execution_count": 2,
   "id": "0630ae54",
   "metadata": {},
   "outputs": [
    {
     "ename": "ImportError",
     "evalue": "cannot import name 'nucname' from 'pyne' (C:\\Users\\Sparisoma Viridi\\AppData\\Local\\Packages\\PythonSoftwareFoundation.Python.3.10_qbz5n2kfra8p0\\LocalCache\\local-packages\\Python310\\site-packages\\pyne.py)",
     "output_type": "error",
     "traceback": [
      "\u001b[1;31m---------------------------------------------------------------------------\u001b[0m",
      "\u001b[1;31mImportError\u001b[0m                               Traceback (most recent call last)",
      "Input \u001b[1;32mIn [2]\u001b[0m, in \u001b[0;36m<cell line: 1>\u001b[1;34m()\u001b[0m\n\u001b[1;32m----> 1\u001b[0m \u001b[38;5;28;01mfrom\u001b[39;00m \u001b[38;5;21;01mpyne\u001b[39;00m \u001b[38;5;28;01mimport\u001b[39;00m nucname\n\u001b[0;32m      2\u001b[0m \u001b[38;5;28;01mfrom\u001b[39;00m \u001b[38;5;21;01mpyne\u001b[39;00m\u001b[38;5;21;01m.\u001b[39;00m\u001b[38;5;21;01mmaterial\u001b[39;00m \u001b[38;5;28;01mimport\u001b[39;00m Material\n\u001b[0;32m      3\u001b[0m \u001b[38;5;28;01mfrom\u001b[39;00m \u001b[38;5;21;01mpyne\u001b[39;00m\u001b[38;5;21;01m.\u001b[39;00m\u001b[38;5;21;01mtransmute\u001b[39;00m\u001b[38;5;21;01m.\u001b[39;00m\u001b[38;5;21;01mchainsolve\u001b[39;00m \u001b[38;5;28;01mimport\u001b[39;00m Transmuter\n",
      "\u001b[1;31mImportError\u001b[0m: cannot import name 'nucname' from 'pyne' (C:\\Users\\Sparisoma Viridi\\AppData\\Local\\Packages\\PythonSoftwareFoundation.Python.3.10_qbz5n2kfra8p0\\LocalCache\\local-packages\\Python310\\site-packages\\pyne.py)"
     ]
    }
   ],
   "source": [
    "import radioactivedecay as rd\n",
    "\n",
    "Mo99_t0 = rd.Inventory({'Mo-99': 2.0}, 'Bq')\n",
    "#Mo99_t1 = Mo99_t0.decay(20.0, 'h')\n",
    "#Mo99_t1.activities('Bq')"
   ]
  },
  {
   "cell_type": "code",
   "execution_count": 3,
   "id": "c7c78c76",
   "metadata": {},
   "outputs": [
    {
     "name": "stderr",
     "output_type": "stream",
     "text": [
      "WARNING: Package(s) not found: conda\n"
     ]
    }
   ],
   "source": [
    "!pip show conda"
   ]
  },
  {
   "cell_type": "markdown",
   "id": "49c1e632",
   "metadata": {},
   "source": []
  }
 ],
 "metadata": {
  "authors": [
   {
    "name": "Sparisoma Viridi"
   }
  ],
  "kernelspec": {
   "display_name": "Python 3 (ipykernel)",
   "language": "python",
   "name": "python3"
  },
  "language_info": {
   "codemirror_mode": {
    "name": "ipython",
    "version": 3
   },
   "file_extension": ".py",
   "mimetype": "text/x-python",
   "name": "python",
   "nbconvert_exporter": "python",
   "pygments_lexer": "ipython3",
   "version": "3.10.10"
  },
  "title": "radioactivedecay"
 },
 "nbformat": 4,
 "nbformat_minor": 5
}
