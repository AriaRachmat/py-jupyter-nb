{
 "cells": [
  {
   "cell_type": "markdown",
   "id": "cca11c7c",
   "metadata": {},
   "source": [
    "# imageio\n",
    "+ Install and use `imageio` in a Jupyter notebook.\n",
    "+ Do not execute this notebook if the library is already installed.\n"
   ]
  },
  {
   "cell_type": "markdown",
   "id": "5ba170b2",
   "metadata": {},
   "source": [
    "## check installation"
   ]
  },
  {
   "cell_type": "code",
   "execution_count": 1,
   "id": "24f2a77b",
   "metadata": {},
   "outputs": [
    {
     "name": "stderr",
     "output_type": "stream",
     "text": [
      "WARNING: Package(s) not found: imageio\n"
     ]
    }
   ],
   "source": [
    "!pip show imageio"
   ]
  },
  {
   "cell_type": "markdown",
   "id": "ee823697",
   "metadata": {},
   "source": [
    "## install\n",
    "Jupyter Notebook and other modules are previously installed using pip (at home)."
   ]
  },
  {
   "cell_type": "code",
   "execution_count": 2,
   "id": "0f586967",
   "metadata": {
    "scrolled": true
   },
   "outputs": [
    {
     "name": "stdout",
     "output_type": "stream",
     "text": [
      "Collecting imageio\n",
      "  Downloading imageio-2.25.0-py3-none-any.whl (3.4 MB)\n",
      "     ---------------------------------------- 3.4/3.4 MB 495.2 kB/s eta 0:00:00\n",
      "Requirement already satisfied: pillow>=8.3.2 in c:\\users\\sparisoma viridi\\appdata\\local\\packages\\pythonsoftwarefoundation.python.3.10_qbz5n2kfra8p0\\localcache\\local-packages\\python310\\site-packages (from imageio) (9.0.1)\n",
      "Requirement already satisfied: numpy in c:\\users\\sparisoma viridi\\appdata\\local\\packages\\pythonsoftwarefoundation.python.3.10_qbz5n2kfra8p0\\localcache\\local-packages\\python310\\site-packages (from imageio) (1.22.3)\n",
      "Installing collected packages: imageio\n",
      "Successfully installed imageio-2.25.0\n"
     ]
    }
   ],
   "source": [
    "!pip install imageio"
   ]
  },
  {
   "cell_type": "markdown",
   "id": "967b0ca7",
   "metadata": {},
   "source": [
    "**Note**: It can install `imageio` package."
   ]
  },
  {
   "cell_type": "markdown",
   "id": "de87a75f",
   "metadata": {},
   "source": [
    "## import\n",
    "From https://www.geeksforgeeks.org/reading-images-in-python/"
   ]
  },
  {
   "cell_type": "code",
   "execution_count": 3,
   "id": "01fa8b61",
   "metadata": {},
   "outputs": [
    {
     "name": "stderr",
     "output_type": "stream",
     "text": [
      "C:\\Users\\Sparisoma Viridi\\AppData\\Local\\Temp\\ipykernel_2576\\3445222289.py:2: DeprecationWarning: Starting with ImageIO v3 the behavior of this function will switch to that of iio.v3.imread. To keep the current behavior (and make this warning disappear) use `import imageio.v2 as imageio` or call `imageio.v2.imread` directly.\n",
      "  img = iio.imread(\"data/python_180x180.png\")\n"
     ]
    },
    {
     "ename": "OSError",
     "evalue": "JPEG does not support alpha channel.",
     "output_type": "error",
     "traceback": [
      "\u001b[1;31m---------------------------------------------------------------------------\u001b[0m",
      "\u001b[1;31mOSError\u001b[0m                                   Traceback (most recent call last)",
      "Input \u001b[1;32mIn [3]\u001b[0m, in \u001b[0;36m<cell line: 3>\u001b[1;34m()\u001b[0m\n\u001b[0;32m      1\u001b[0m \u001b[38;5;28;01mimport\u001b[39;00m \u001b[38;5;21;01mimageio\u001b[39;00m \u001b[38;5;28;01mas\u001b[39;00m \u001b[38;5;21;01miio\u001b[39;00m\n\u001b[0;32m      2\u001b[0m img \u001b[38;5;241m=\u001b[39m iio\u001b[38;5;241m.\u001b[39mimread(\u001b[38;5;124m\"\u001b[39m\u001b[38;5;124mdata/python_180x180.png\u001b[39m\u001b[38;5;124m\"\u001b[39m)\n\u001b[1;32m----> 3\u001b[0m \u001b[43miio\u001b[49m\u001b[38;5;241;43m.\u001b[39;49m\u001b[43mimwrite\u001b[49m\u001b[43m(\u001b[49m\u001b[38;5;124;43m\"\u001b[39;49m\u001b[38;5;124;43mdata/python_180x180.jpg\u001b[39;49m\u001b[38;5;124;43m\"\u001b[39;49m\u001b[43m,\u001b[49m\u001b[43m \u001b[49m\u001b[43mimg\u001b[49m\u001b[43m)\u001b[49m\n",
      "File \u001b[1;32m~\\AppData\\Local\\Packages\\PythonSoftwareFoundation.Python.3.10_qbz5n2kfra8p0\\LocalCache\\local-packages\\Python310\\site-packages\\imageio\\v2.py:264\u001b[0m, in \u001b[0;36mimwrite\u001b[1;34m(uri, im, format, **kwargs)\u001b[0m\n\u001b[0;32m    262\u001b[0m imopen_args[\u001b[38;5;124m\"\u001b[39m\u001b[38;5;124mlegacy_mode\u001b[39m\u001b[38;5;124m\"\u001b[39m] \u001b[38;5;241m=\u001b[39m \u001b[38;5;28;01mTrue\u001b[39;00m\n\u001b[0;32m    263\u001b[0m \u001b[38;5;28;01mwith\u001b[39;00m imopen(uri, \u001b[38;5;124m\"\u001b[39m\u001b[38;5;124mwi\u001b[39m\u001b[38;5;124m\"\u001b[39m, \u001b[38;5;241m*\u001b[39m\u001b[38;5;241m*\u001b[39mimopen_args) \u001b[38;5;28;01mas\u001b[39;00m file:\n\u001b[1;32m--> 264\u001b[0m     \u001b[38;5;28;01mreturn\u001b[39;00m file\u001b[38;5;241m.\u001b[39mwrite(im, \u001b[38;5;241m*\u001b[39m\u001b[38;5;241m*\u001b[39mkwargs)\n",
      "File \u001b[1;32m~\\AppData\\Local\\Packages\\PythonSoftwareFoundation.Python.3.10_qbz5n2kfra8p0\\LocalCache\\local-packages\\Python310\\site-packages\\imageio\\core\\legacy_plugin_wrapper.py:253\u001b[0m, in \u001b[0;36mLegacyPlugin.write\u001b[1;34m(self, ndimage, is_batch, metadata, **kwargs)\u001b[0m\n\u001b[0;32m    246\u001b[0m         \u001b[38;5;28;01mif\u001b[39;00m \u001b[38;5;129;01mnot\u001b[39;00m np\u001b[38;5;241m.\u001b[39missubdtype(image\u001b[38;5;241m.\u001b[39mdtype, np\u001b[38;5;241m.\u001b[39mnumber) \u001b[38;5;129;01mand\u001b[39;00m \u001b[38;5;129;01mnot\u001b[39;00m np\u001b[38;5;241m.\u001b[39missubdtype(\n\u001b[0;32m    247\u001b[0m             image\u001b[38;5;241m.\u001b[39mdtype, \u001b[38;5;28mbool\u001b[39m\n\u001b[0;32m    248\u001b[0m         ):\n\u001b[0;32m    249\u001b[0m             \u001b[38;5;28;01mraise\u001b[39;00m \u001b[38;5;167;01mValueError\u001b[39;00m(\n\u001b[0;32m    250\u001b[0m                 \u001b[38;5;124mf\u001b[39m\u001b[38;5;124m\"\u001b[39m\u001b[38;5;124mAll images have to be numeric, and not `\u001b[39m\u001b[38;5;132;01m{\u001b[39;00mimage\u001b[38;5;241m.\u001b[39mdtype\u001b[38;5;132;01m}\u001b[39;00m\u001b[38;5;124m`.\u001b[39m\u001b[38;5;124m\"\u001b[39m\n\u001b[0;32m    251\u001b[0m             )\n\u001b[1;32m--> 253\u001b[0m         \u001b[43mwriter\u001b[49m\u001b[38;5;241;43m.\u001b[39;49m\u001b[43mappend_data\u001b[49m\u001b[43m(\u001b[49m\u001b[43mimage\u001b[49m\u001b[43m,\u001b[49m\u001b[43m \u001b[49m\u001b[43mmetadata\u001b[49m\u001b[43m)\u001b[49m\n\u001b[0;32m    255\u001b[0m \u001b[38;5;28;01mreturn\u001b[39;00m writer\u001b[38;5;241m.\u001b[39mrequest\u001b[38;5;241m.\u001b[39mget_result()\n",
      "File \u001b[1;32m~\\AppData\\Local\\Packages\\PythonSoftwareFoundation.Python.3.10_qbz5n2kfra8p0\\LocalCache\\local-packages\\Python310\\site-packages\\imageio\\core\\format.py:590\u001b[0m, in \u001b[0;36mFormat.Writer.append_data\u001b[1;34m(self, im, meta)\u001b[0m\n\u001b[0;32m    588\u001b[0m im \u001b[38;5;241m=\u001b[39m asarray(im)\n\u001b[0;32m    589\u001b[0m \u001b[38;5;66;03m# Call\u001b[39;00m\n\u001b[1;32m--> 590\u001b[0m \u001b[38;5;28;01mreturn\u001b[39;00m \u001b[38;5;28;43mself\u001b[39;49m\u001b[38;5;241;43m.\u001b[39;49m\u001b[43m_append_data\u001b[49m\u001b[43m(\u001b[49m\u001b[43mim\u001b[49m\u001b[43m,\u001b[49m\u001b[43m \u001b[49m\u001b[43mtotal_meta\u001b[49m\u001b[43m)\u001b[49m\n",
      "File \u001b[1;32m~\\AppData\\Local\\Packages\\PythonSoftwareFoundation.Python.3.10_qbz5n2kfra8p0\\LocalCache\\local-packages\\Python310\\site-packages\\imageio\\plugins\\pillow_legacy.py:536\u001b[0m, in \u001b[0;36mJPEGFormat.Writer._append_data\u001b[1;34m(self, im, meta)\u001b[0m\n\u001b[0;32m    534\u001b[0m \u001b[38;5;28;01mdef\u001b[39;00m \u001b[38;5;21m_append_data\u001b[39m(\u001b[38;5;28mself\u001b[39m, im, meta):\n\u001b[0;32m    535\u001b[0m     \u001b[38;5;28;01mif\u001b[39;00m im\u001b[38;5;241m.\u001b[39mndim \u001b[38;5;241m==\u001b[39m \u001b[38;5;241m3\u001b[39m \u001b[38;5;129;01mand\u001b[39;00m im\u001b[38;5;241m.\u001b[39mshape[\u001b[38;5;241m-\u001b[39m\u001b[38;5;241m1\u001b[39m] \u001b[38;5;241m==\u001b[39m \u001b[38;5;241m4\u001b[39m:\n\u001b[1;32m--> 536\u001b[0m         \u001b[38;5;28;01mraise\u001b[39;00m \u001b[38;5;167;01mIOError\u001b[39;00m(\u001b[38;5;124m\"\u001b[39m\u001b[38;5;124mJPEG does not support alpha channel.\u001b[39m\u001b[38;5;124m\"\u001b[39m)\n\u001b[0;32m    537\u001b[0m     im \u001b[38;5;241m=\u001b[39m image_as_uint(im, bitdepth\u001b[38;5;241m=\u001b[39m\u001b[38;5;241m8\u001b[39m)\n\u001b[0;32m    538\u001b[0m     PillowFormat\u001b[38;5;241m.\u001b[39mWriter\u001b[38;5;241m.\u001b[39m_append_data(\u001b[38;5;28mself\u001b[39m, im, meta)\n",
      "\u001b[1;31mOSError\u001b[0m: JPEG does not support alpha channel."
     ]
    }
   ],
   "source": [
    "import imageio as iio\n",
    "img = iio.imread(\"data/python_180x180.png\")\n",
    "iio.imwrite(\"data/python_180x180.jpg\", img)"
   ]
  },
  {
   "cell_type": "markdown",
   "id": "94833d80",
   "metadata": {},
   "source": [
    "`data/python_180x180.png`<br>\n",
    "![](data/python_180x180.png)\n",
    "\n",
    "\n",
    "`data/python_180x180.jpg`<br>\n",
    "![](data/python_180x180.jpg)"
   ]
  },
  {
   "cell_type": "markdown",
   "id": "fce9aed1",
   "metadata": {},
   "source": [
    "**Error**: Example is outdated. Not yet known what to do. Pause."
   ]
  },
  {
   "cell_type": "code",
   "execution_count": null,
   "id": "53ab0d34",
   "metadata": {},
   "outputs": [],
   "source": []
  }
 ],
 "metadata": {
  "authors": [
   {
    "name": "Sparisoma Viridi"
   }
  ],
  "kernelspec": {
   "display_name": "Python 3 (ipykernel)",
   "language": "python",
   "name": "python3"
  },
  "language_info": {
   "codemirror_mode": {
    "name": "ipython",
    "version": 3
   },
   "file_extension": ".py",
   "mimetype": "text/x-python",
   "name": "python",
   "nbconvert_exporter": "python",
   "pygments_lexer": "ipython3",
   "version": "3.10.9"
  },
  "title": "imageio"
 },
 "nbformat": 4,
 "nbformat_minor": 5
}
