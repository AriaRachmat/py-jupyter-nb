{
 "cells": [
  {
   "cell_type": "markdown",
   "id": "cca11c7c",
   "metadata": {},
   "source": [
    "# gauss_elimination_illustration\n",
    "Illustration of solving linear equations using Gauss elimination."
   ]
  },
  {
   "cell_type": "markdown",
   "id": "3da90b4f",
   "metadata": {},
   "source": [
    "## example\n",
    "Suppose there are three equations as follow\n",
    "\n",
    "$$\\tag{1}\n",
    "\\begin{eqnarray}\n",
    "x + 2y + 2z = 11, \\newline\n",
    "2x + 6y + z = 17, \\newline\n",
    "x + y + 4z = 15,\n",
    "\\end{eqnarray}\n",
    "$$\n",
    "\n",
    "where the goal is to obtain $x$, $y$, and $z$."
   ]
  },
  {
   "cell_type": "markdown",
   "id": "262979ca",
   "metadata": {},
   "source": [
    "## matrix form\n",
    "Eqn (1) can be written the matrix form as follow\n",
    "\n",
    "$$\\tag{2}\n",
    "\\mathbf{A} \\mathbf{x} = \\mathbf{b},\n",
    "$$\n",
    "\n",
    "where\n",
    "\n",
    "$$\\tag{3}\n",
    "\\mathbf{A} = \\left[\n",
    "\\begin{array}{ccc}\n",
    "1 & 2 & 2 \\newline\n",
    "2 & 6 & 1 \\newline\n",
    "1 & 1 & 4\n",
    "\\end{array}\n",
    "\\right]\n",
    "$$\n",
    "\n",
    "$$\\tag{4}\n",
    "\\mathbf{x} = \\left[\n",
    "\\begin{array}{c}\n",
    "x \\newline\n",
    "y \\newline\n",
    "z\n",
    "\\end{array}\n",
    "\\right]\n",
    "$$\n",
    "\n",
    "and\n",
    "\n",
    "$$\\tag{5}\n",
    "\\mathbf{b} = \\left[\n",
    "\\begin{array}{c}\n",
    "11 \\newline\n",
    "17 \\newline\n",
    "15\n",
    "\\end{array}\n",
    "\\right]\n",
    "$$\n"
   ]
  },
  {
   "cell_type": "markdown",
   "id": "031cef99",
   "metadata": {},
   "source": [
    "## augmented matrix\n",
    "Since elementary row operations, while performing Gauss elemination, affect both sides of the equations, it is more convenient to write an augmented matrix\n",
    "\n",
    "$$\\tag{6}\n",
    "\\mathbf{M} = [ \\mathbf{A} | \\mathbf{b} ],\n",
    "$$\n",
    "\n",
    "which is\n",
    "\n",
    "$$\\tag{7}\n",
    "\\left[\n",
    "\\begin{array}{ccc|c}\n",
    "1 & 2 & 2 & 11 \\newline\n",
    "2 & 6 & 1 & 17 \\newline\n",
    "1 & 1 & 4 & 15\n",
    "\\end{array}\n",
    "\\right]\n",
    "$$\n",
    "\n",
    "for this case. The $n$-th row is referred as $R_n$, e.g. $R_2 = [2 \\ \\ 6 \\ \\ 1 \\ \\ | \\ 17]$. "
   ]
  },
  {
   "cell_type": "markdown",
   "id": "4db3d179",
   "metadata": {},
   "source": [
    "## pivot choice\n",
    "To fin $a_{ij}$ is maximal is the most common practice, then swap its row with the first row, which gives\n",
    "\n",
    "$$\\tag{8}\n",
    "\\left[\n",
    "\\begin{array}{ccc|c}\n",
    "2 & 6 & 1 & 17 \\newline\n",
    "1 & 2 & 2 & 11 \\newline\n",
    "1 & 1 & 4 & 15\n",
    "\\end{array}\n",
    "\\right]\n",
    "$$\n",
    "\n",
    "as new augmented matrix with pivot is $a_{ii}$ or along the diagonal of left part."
   ]
  },
  {
   "cell_type": "code",
   "execution_count": null,
   "id": "a810a71e",
   "metadata": {},
   "outputs": [],
   "source": []
  }
 ],
 "metadata": {
  "authors": [
   {
    "name": "Sparisoma Viridi"
   }
  ],
  "kernelspec": {
   "display_name": "Python 3 (ipykernel)",
   "language": "python",
   "name": "python3"
  },
  "language_info": {
   "codemirror_mode": {
    "name": "ipython",
    "version": 3
   },
   "file_extension": ".py",
   "mimetype": "text/x-python",
   "name": "python",
   "nbconvert_exporter": "python",
   "pygments_lexer": "ipython3",
   "version": "3.10.9"
  },
  "title": "reading_materials"
 },
 "nbformat": 4,
 "nbformat_minor": 5
}
