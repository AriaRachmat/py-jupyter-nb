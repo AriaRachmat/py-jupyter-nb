{
 "cells": [
  {
   "cell_type": "markdown",
   "id": "cca11c7c",
   "metadata": {},
   "source": [
    "# cramer_rule\n",
    "Illustration of solving linear equations using Cramer's rule."
   ]
  },
  {
   "cell_type": "markdown",
   "id": "3da90b4f",
   "metadata": {},
   "source": [
    "## explicit formula for two variables\n",
    "Two linear equations can be written as\n",
    "\n",
    "$$\n",
    "\\left[\n",
    "\\begin{array}{ccc}\n",
    "a_{11} & a_{12} \\newline\n",
    "a_{21} & a_{22}\n",
    "\\end{array}\n",
    "\\right]\n",
    "\\left[\n",
    "\\begin{array}{c}\n",
    "x \\newline\n",
    "y\n",
    "\\end{array}\n",
    "\\right] =\n",
    "\\left[\n",
    "\\begin{array}{c}\n",
    "\\color{cyan}{b_1} \\newline\n",
    "\\color{cyan}{b_2}\n",
    "\\end{array}\n",
    "\\right].\n",
    "$$"
   ]
  },
  {
   "cell_type": "markdown",
   "id": "d63ca9d5",
   "metadata": {},
   "source": [
    "$$\n",
    "x = \\frac{\\left|\n",
    "\\begin{array}{cc}\n",
    "\\color{cyan}{b_1} & a_{12} \\newline\n",
    "\\color{cyan}{b_2} & a_{22}\n",
    "\\end{array}\n",
    "\\right|}\n",
    "{\\left|\n",
    "\\begin{array}{cc}\n",
    "a_{11} & a_{12} \\newline\n",
    "a_{21} & a_{22}\n",
    "\\end{array}\n",
    "\\right|}\n",
    "$$"
   ]
  },
  {
   "cell_type": "markdown",
   "id": "931b723e",
   "metadata": {},
   "source": [
    "$$\n",
    "y = \\frac{\\left|\n",
    "\\begin{array}{cc}\n",
    "a_{11} & \\color{cyan}{b_1} \\newline\n",
    "a_{21} & b_2}\n",
    "\\end{array}\n",
    "\\right|}\n",
    "{\\left|\n",
    "\\begin{array}{cc}\n",
    "a_{11} & a_{12} \\newline\n",
    "a_{21} & a_{22}\n",
    "\\end{array}\n",
    "\\right|}\n",
    "$$"
   ]
  },
  {
   "cell_type": "markdown",
   "id": "88978bc1",
   "metadata": {},
   "source": [
    "## explicit formula for three variables\n",
    "Two linear equations can be written as\n",
    "\n",
    "$$\n",
    "\\left[\n",
    "\\begin{array}{ccc}\n",
    "a_{11} & a_{12} & a_{13} \\newline\n",
    "a_{21} & a_{22} & a_{23} \\newline\n",
    "a_{31} & a_{32} & a_{33}\n",
    "\\end{array}\n",
    "\\right]\n",
    "\\left[\n",
    "\\begin{array}{c}\n",
    "x \\newline\n",
    "y \\newline\n",
    "z\n",
    "\\end{array}\n",
    "\\right] =\n",
    "\\left[\n",
    "\\begin{array}{c}\n",
    "\\color{cyan}{b_1} \\newline\n",
    "\\color{cyan}{b_2} \\newline\n",
    "\\color{cyan}{b_3}\n",
    "\\end{array}\n",
    "\\right].\n",
    "$$"
   ]
  },
  {
   "cell_type": "markdown",
   "id": "1021acda",
   "metadata": {},
   "source": [
    "$$\n",
    "x = \\frac{\\left|\n",
    "\\begin{array}{ccc}\n",
    "\\color{cyan}{b_1} & a_{12} & a_{13} \\newline\n",
    "\\color{cyan}{b_2} & a_{22} & a_{23} \\newline\n",
    "\\color{cyan}{b_3} & a_{32} & a_{33}\n",
    "\\end{array}\n",
    "\\right|}\n",
    "{\\left|\n",
    "\\begin{array}{ccc}\n",
    "a_{11} & a_{12} & a_{13} \\newline\n",
    "a_{21} & a_{22} & a_{23} \\newline\n",
    "a_{31} & a_{32} & a_{33}\n",
    "\\end{array}\n",
    "\\right|}\n",
    "$$"
   ]
  },
  {
   "cell_type": "markdown",
   "id": "3445ed77",
   "metadata": {},
   "source": [
    "$$\n",
    "y = \\frac{\\left|\n",
    "\\begin{array}{ccc}\n",
    "a_{11} & \\color{cyan}{b_1} & a_{13} \\newline\n",
    "a_{21} & \\color{cyan}{b_2} & a_{23} \\newline\n",
    "a_{31} & \\color{cyan}{b_3} & a_{33}\n",
    "\\end{array}\n",
    "\\right|}\n",
    "{\\left|\n",
    "\\begin{array}{ccc}\n",
    "a_{11} & a_{12} & a_{13} \\newline\n",
    "a_{21} & a_{22} & a_{23} \\newline\n",
    "a_{31} & a_{32} & a_{33}\n",
    "\\end{array}\n",
    "\\right|}\n",
    "$$"
   ]
  },
  {
   "cell_type": "markdown",
   "id": "9a865634",
   "metadata": {},
   "source": [
    "$$\n",
    "z = \\frac{\\left|\n",
    "\\begin{array}{ccc}\n",
    "a_{11} & a_{12} & \\color{cyan}{b_1} \\newline\n",
    "a_{21} & a_{22} & \\color{cyan}{b_2} \\newline\n",
    "a_{31} & a_{32} & \\color{cyan}{b_3}\n",
    "\\end{array}\n",
    "\\right|}\n",
    "{\\left|\n",
    "\\begin{array}{ccc}\n",
    "a_{11} & a_{12} & a_{13} \\newline\n",
    "a_{21} & a_{22} & a_{23} \\newline\n",
    "a_{31} & a_{32} & a_{33}\n",
    "\\end{array}\n",
    "\\right|}\n",
    "$$"
   ]
  },
  {
   "cell_type": "code",
   "execution_count": null,
   "id": "3a829211",
   "metadata": {},
   "outputs": [],
   "source": []
  }
 ],
 "metadata": {
  "authors": [
   {
    "name": "Sparisoma Viridi"
   }
  ],
  "kernelspec": {
   "display_name": "Python 3 (ipykernel)",
   "language": "python",
   "name": "python3"
  },
  "language_info": {
   "codemirror_mode": {
    "name": "ipython",
    "version": 3
   },
   "file_extension": ".py",
   "mimetype": "text/x-python",
   "name": "python",
   "nbconvert_exporter": "python",
   "pygments_lexer": "ipython3",
   "version": "3.9.12"
  },
  "title": "cramer_rule"
 },
 "nbformat": 4,
 "nbformat_minor": 5
}
