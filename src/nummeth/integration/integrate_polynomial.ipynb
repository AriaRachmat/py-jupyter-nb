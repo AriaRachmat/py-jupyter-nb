{
 "cells": [
  {
   "cell_type": "markdown",
   "id": "cca11c7c",
   "metadata": {},
   "source": [
    "# integrate_polynomial\n",
    "Calculate area below of a polynomial."
   ]
  },
  {
   "cell_type": "markdown",
   "id": "3da90b4f",
   "metadata": {},
   "source": [
    "## polynomial\n",
    "A polynomial of $x$ can be written as\n",
    "\n",
    "$$\\tag{1}\n",
    "p(x) = \\sum_{n = 0}^N a_n x^n\n",
    "$$\n",
    "\n",
    "that can be also written as\n",
    "\n",
    "$$\\tag{2}\n",
    "a = [a_0, a_1, \\dots, a_n],\n",
    "$$\n",
    "\n",
    "which are the coefficients."
   ]
  },
  {
   "cell_type": "markdown",
   "id": "76194ec5",
   "metadata": {},
   "source": [
    "## integral\n",
    "\n",
    "Integral of Eqn (1) will give\n",
    "\n",
    "$$\\tag{3}\n",
    "q(x) = \\int p(x) \\ dx = \\sum_{n = 0}^N b_n x^n = b_0 + \\sum_{n = 1}^N \\frac{c_{n - 1}}{n} x^{n}\n",
    "$$\n",
    "\n",
    "an indefinite integral, which\n",
    "\n",
    "$$\\tag{4}\n",
    "\\begin{array}{rcl}\n",
    "b & = & [b_0, b_1, \\dots, b_i, \\dots, a_n] \\newline\n",
    "& = &[b_0, c_0, \\tfrac12 c_1, \\tfrac13 c_2, \\dots, \\tfrac1{i+1} c_i , \\dots, \\tfrac1{n+1} c_n],\n",
    "\\end{array}\n",
    "$$\n",
    "\n",
    "are the coefficients."
   ]
  },
  {
   "cell_type": "code",
   "execution_count": null,
   "id": "8795a91b",
   "metadata": {},
   "outputs": [],
   "source": []
  }
 ],
 "metadata": {
  "authors": [
   {
    "name": "Sparisoma Viridi"
   }
  ],
  "kernelspec": {
   "display_name": "Python 3 (ipykernel)",
   "language": "python",
   "name": "python3"
  },
  "language_info": {
   "codemirror_mode": {
    "name": "ipython",
    "version": 3
   },
   "file_extension": ".py",
   "mimetype": "text/x-python",
   "name": "python",
   "nbconvert_exporter": "python",
   "pygments_lexer": "ipython3",
   "version": "3.10.9"
  },
  "title": "integrate_polynomial"
 },
 "nbformat": 4,
 "nbformat_minor": 5
}
