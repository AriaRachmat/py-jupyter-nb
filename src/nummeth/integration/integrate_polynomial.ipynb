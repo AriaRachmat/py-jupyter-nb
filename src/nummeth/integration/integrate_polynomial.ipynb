{
 "cells": [
  {
   "cell_type": "markdown",
   "id": "cca11c7c",
   "metadata": {},
   "source": [
    "# integrate_polynomial\n",
    "Calculate area below of a polynomial."
   ]
  },
  {
   "cell_type": "markdown",
   "id": "3da90b4f",
   "metadata": {},
   "source": [
    "## polynomial\n",
    "A polynomial of $x$ can be written as\n",
    "\n",
    "$$\\tag{1}\n",
    "p(x) = \\sum_{j = 0}^n a_j x^j\n",
    "$$\n",
    "\n",
    "that can be also written as\n",
    "\n",
    "$$\\tag{2}\n",
    "a = [a_0, a_1, \\dots, a_n],\n",
    "$$\n",
    "\n",
    "which are the coefficients."
   ]
  },
  {
   "cell_type": "markdown",
   "id": "76194ec5",
   "metadata": {},
   "source": [
    "## integral\n",
    "\n",
    "Integral of Eqn (1) will give\n",
    "\n",
    "$$\\tag{3}\n",
    "\\begin{array}{rcl}\n",
    "q(x) & = & \\displaystyle \\int p(x) \\ dx \\newline\n",
    "& = & \\displaystyle \\sum_{j = 0}^{n+1} b_j x^j \\newline\n",
    "& = & \\displaystyle b_0 + \\sum_{j = 1}^{n+1} \\frac{a_{j - 1}}{j} x^{j}\n",
    "\\end{array}\n",
    "$$\n",
    "\n",
    "an indefinite integral, which\n",
    "\n",
    "$$\\tag{4}\n",
    "\\begin{array}{rcl}\n",
    "b & = & [b_0, b_1, b_2, b_3, \\dots, b_{i+1}, \\dots, b_{n+1}] \\newline\n",
    "& = & [b_0, a_0, \\tfrac12 a_1, \\tfrac13 a_2, \\dots, \\tfrac1{i+1} a_i , \\dots, \\tfrac1{n+1} a_n],\n",
    "\\end{array}\n",
    "$$\n",
    "\n",
    "are the coefficients, where\n",
    "\n",
    "$$\\tag{5}\n",
    "b_j = \\frac1j a_{j-1}\n",
    "$$\n",
    "\n",
    "for $j = 1, 2, \\dots, n+1$."
   ]
  },
  {
   "cell_type": "markdown",
   "id": "c9579dd2",
   "metadata": {},
   "source": [
    "## diferential\n",
    "\n",
    "Differential of Eqn (1) will give\n",
    "\n",
    "$$\\tag{5}\n",
    "\\begin{array}{rcl}\n",
    "r(x) & = & \\displaystyle \\frac{d}{dx} p(x) \\newline\n",
    "& = & \\displaystyle \\sum_{j = 0}^{n-1} c_j x^j\\newline\n",
    "& = & \\displaystyle \\sum_{j = 1}^n j a_j x^{j-1},\n",
    "\\end{array}\n",
    "$$\n",
    "\n",
    "where\n",
    "\n",
    "$$\\tag{4}\n",
    "\\begin{array}{rcl}\n",
    "c & = & [c_0, c_1, \\dots, c_i, \\dots, c_n] \\newline\n",
    "& = & [a_1, 2 a_2, \\dots, i b_i, \\dots, n a_n],\n",
    "\\end{array}\n",
    "$$\n",
    "\n",
    "are the coefficients."
   ]
  },
  {
   "cell_type": "markdown",
   "id": "55d96922",
   "metadata": {},
   "source": [
    "## codes"
   ]
  },
  {
   "cell_type": "code",
   "execution_count": 36,
   "id": "cb2eaaea",
   "metadata": {},
   "outputs": [
    {
     "name": "stdout",
     "output_type": "stream",
     "text": [
      "a                =  1.0 2.0 3.0 2.0 1.0\n",
      "diff b           =      2.0 6.0 6.0 4.0\n",
      "integ b (c0 = 9) =  9.0 2.0 3.0 2.0 1.0\n"
     ]
    }
   ],
   "source": [
    "# define a polynom\n",
    "def polynom(*args):\n",
    "    coefs = list(args)\n",
    "    return coefs\n",
    "\n",
    "# differentiate a polynom\n",
    "def differentiate(c):\n",
    "    d = []\n",
    "    for j in range(1, len(c)):\n",
    "        d.append(j * c[j])\n",
    "    return d\n",
    "\n",
    "# integrate a polynom\n",
    "def integrate(c, c0):\n",
    "    i = [c0]\n",
    "    for j in range(len(c)):\n",
    "        i.append(c[j] / (j+1))\n",
    "    return i\n",
    "\n",
    "# perform defining, differentiating, and integrating of a polynom\n",
    "a = polynom(1.0, 2.0, 3.0, 2.0, 1.0)\n",
    "b = differentiate(a)\n",
    "c = integrate(b, 9.0)\n",
    "\n",
    "print(\"a                = \", *a)\n",
    "print(\"diff b           =     \", *b)\n",
    "print(\"integ b (c0 = 9) = \", *c)"
   ]
  },
  {
   "cell_type": "code",
   "execution_count": null,
   "id": "3fd53403",
   "metadata": {},
   "outputs": [],
   "source": []
  }
 ],
 "metadata": {
  "authors": [
   {
    "name": "Sparisoma Viridi"
   }
  ],
  "kernelspec": {
   "display_name": "Python 3 (ipykernel)",
   "language": "python",
   "name": "python3"
  },
  "language_info": {
   "codemirror_mode": {
    "name": "ipython",
    "version": 3
   },
   "file_extension": ".py",
   "mimetype": "text/x-python",
   "name": "python",
   "nbconvert_exporter": "python",
   "pygments_lexer": "ipython3",
   "version": "3.9.12"
  },
  "title": "integrate_polynomial"
 },
 "nbformat": 4,
 "nbformat_minor": 5
}
