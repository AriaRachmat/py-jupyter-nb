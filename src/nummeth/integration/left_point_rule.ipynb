{
 "cells": [
  {
   "cell_type": "markdown",
   "id": "cca11c7c",
   "metadata": {},
   "source": [
    "# left_point_rule\n",
    "Calculate area below curve using rectangle left point."
   ]
  },
  {
   "cell_type": "markdown",
   "id": "6cf8d98a",
   "metadata": {},
   "source": [
    "Above code is only for Eqns (14) and (15), and has not yet been generalized for polynomial of $N$-th order. It can be used for $1 \\le N \\le 4$, where for $N < 4$ just set other roots to be zero."
   ]
  },
  {
   "cell_type": "markdown",
   "id": "ec251680",
   "metadata": {},
   "source": [
    "## example\n",
    "A function\n",
    "\n",
    "$$\\tag{1}\n",
    "f(x) = 3x^2\n",
    "$$\n",
    "\n",
    "will have indefinite integral\n",
    "\n",
    "$$\\tag{2}\n",
    "F(x) = \\int f(x) \\ dx = x^3 + c,\n",
    "$$\n",
    "\n",
    "where $c$ is a constant. Then for lower bound $a = 1$ and upper bound $b = 2$ it can be obtained\n",
    "\n",
    "$$\\tag{3}\n",
    "\\int_1^2 f(x) \\ dx = F(2) - F(1) = 2^3 - 1^3 = 8 - 1 = 7\n",
    "$$\n",
    "\n",
    "as definite integral of Eqn (1)."
   ]
  },
  {
   "cell_type": "markdown",
   "id": "701479e2",
   "metadata": {},
   "source": [
    "## rectangle left point\n",
    "Area below curce $f(x)$ can be approximated with\n",
    "\n",
    "$$\\tag{4}\n",
    "\\int_a^b f(x) \\ dx \\approx f(a) \\ \\Delta x\n",
    "$$\n",
    "\n",
    "with $\\Delta x = b - a$. To increase accuracy area "
   ]
  },
  {
   "cell_type": "markdown",
   "id": "e438ac88",
   "metadata": {},
   "source": [
    "## code"
   ]
  },
  {
   "cell_type": "code",
   "execution_count": null,
   "id": "807d7964",
   "metadata": {},
   "outputs": [],
   "source": [
    "# a function to integrate\n",
    "def f(x):\n",
    "    fx =  3 * x\n",
    "    return fx \n",
    "\n",
    "# left point rule\n",
    "def A(x, f, dx):\n",
    "    Ax = f(x) * dx\n",
    "    return Ax\n",
    "\n",
    "\n"
   ]
  }
 ],
 "metadata": {
  "authors": [
   {
    "name": "Sparisoma Viridi"
   }
  ],
  "kernelspec": {
   "display_name": "Python 3 (ipykernel)",
   "language": "python",
   "name": "python3"
  },
  "language_info": {
   "codemirror_mode": {
    "name": "ipython",
    "version": 3
   },
   "file_extension": ".py",
   "mimetype": "text/x-python",
   "name": "python",
   "nbconvert_exporter": "python",
   "pygments_lexer": "ipython3",
   "version": "3.9.12"
  },
  "title": "left_point_rule"
 },
 "nbformat": 4,
 "nbformat_minor": 5
}
