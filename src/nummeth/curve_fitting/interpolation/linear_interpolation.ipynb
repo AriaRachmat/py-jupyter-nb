{
 "cells": [
  {
   "cell_type": "markdown",
   "id": "cca11c7c",
   "metadata": {},
   "source": [
    "# liniear_interpolation\n",
    "Linear interpolation"
   ]
  },
  {
   "cell_type": "markdown",
   "id": "fba2ec01",
   "metadata": {},
   "source": [
    "For $n$ data points\n",
    "\n",
    "$$\\tag{1}\n",
    "D_n = \\{ (x_i, y_i) \\in \\mathbb{R} \\times \\mathbb{R} \\ | \\ y_i = f(x_i) \\land i = 1, 2, \\dots, n \\land x_{i-1} < x_i < x_{i+1} \\},\n",
    "$$\n",
    "\n",
    "which will give, e.g. $(1, 2)$, $(2, 4)$, $(3, -1)$ for $D_3$."
   ]
  },
  {
   "cell_type": "markdown",
   "id": "8d77fdd9",
   "metadata": {},
   "source": [
    "A linear interpolation for $x \\in [x_i, x_{i+1}]$ is given by\n",
    "\n",
    "$$\\tag{2}\n",
    "q_i(x) = \n",
    "$$"
   ]
  },
  {
   "cell_type": "code",
   "execution_count": 1,
   "id": "64795f0e",
   "metadata": {},
   "outputs": [],
   "source": [
    "# function for q(j, x, points)\n",
    "def q(j, x, n):\n",
    "    pass\n",
    "\n",
    "# function for P(x, points)\n",
    "def p(x, points):\n",
    "    pass"
   ]
  },
  {
   "cell_type": "code",
   "execution_count": null,
   "id": "26bfb835",
   "metadata": {},
   "outputs": [],
   "source": []
  }
 ],
 "metadata": {
  "authors": [
   {
    "name": "Sparisoma Viridi"
   }
  ],
  "kernelspec": {
   "display_name": "Python 3 (ipykernel)",
   "language": "python",
   "name": "python3"
  },
  "language_info": {
   "codemirror_mode": {
    "name": "ipython",
    "version": 3
   },
   "file_extension": ".py",
   "mimetype": "text/x-python",
   "name": "python",
   "nbconvert_exporter": "python",
   "pygments_lexer": "ipython3",
   "version": "3.10.9"
  },
  "title": "liniear_interpolation"
 },
 "nbformat": 4,
 "nbformat_minor": 5
}
