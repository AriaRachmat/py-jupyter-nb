{
 "cells": [
  {
   "cell_type": "markdown",
   "id": "cca11c7c",
   "metadata": {},
   "source": [
    "# lagrange_interpolating_polynomial (lip)\n",
    "Lagrange interpolating polynomial"
   ]
  },
  {
   "cell_type": "markdown",
   "id": "fba2ec01",
   "metadata": {},
   "source": [
    "For $n$ data points\n",
    "\n",
    "$$\\tag{1}\n",
    "D_n = \\{ (x_i, y_i) \\in \\mathbb{R} \\times \\mathbb{R} \\ | \\ y_i = f(x_i) \\land i = 1, 2, \\dots, n \\},\n",
    "$$\n",
    "\n",
    "which will give, e.g. $(1, 2)$, $(2, 4)$, $(3, -1)$ for $D_3$."
   ]
  },
  {
   "cell_type": "markdown",
   "id": "cacab814",
   "metadata": {},
   "source": [
    "A polynomial of degree $\\le (n - 1)$ that passes through all points in $D_n$ is given by\n",
    "\n",
    "$$\\tag{2}\n",
    "P(x) = \\sum_{j = 1}^n q_j(x),\n",
    "$$\n",
    "\n",
    "where\n",
    "\n",
    "$$\\tag{3}\n",
    "q_j(x) = y_j \\prod_{k = 1 \\newline k \\ne j}^n \\frac{x - x_k}{x_j - x_k}.\n",
    "$$"
   ]
  },
  {
   "cell_type": "markdown",
   "id": "18c21031",
   "metadata": {},
   "source": [
    "## n = 1\n",
    "$$\n",
    "q_1(x) = y_1,\n",
    "$$\n",
    "\n",
    "$$\n",
    "P(x) = y_j.\n",
    "$$"
   ]
  },
  {
   "cell_type": "markdown",
   "id": "6079744f",
   "metadata": {},
   "source": [
    "## n = 2\n",
    "$$\n",
    "q_1(x) = y_1 \\left(\\frac{x - x_2}{x_1 - x_2}\\right),\n",
    "$$\n",
    "\n",
    "$$\n",
    "q_2(x) = y_2 \\left(\\frac{x - x_1}{x_2 - x_1}\\right),\n",
    "$$\n",
    "\n",
    "$$\n",
    "P(x) = y_1 \\left(\\frac{x - x_2}{x_1 - x_2}\\right) + y_2 \\left(\\frac{x - x_1}{x_2 - x_1}\\right),\n",
    "$$\n"
   ]
  },
  {
   "cell_type": "markdown",
   "id": "fe2c6945",
   "metadata": {},
   "source": [
    "## n = 3\n",
    "$$\n",
    "q_1(x) = y_1 \\left(\\frac{x - x_2}{x_1 - x_2}\\right) \\left(\\frac{x - x_3}{x_1 - x_3}\\right),\n",
    "$$\n",
    "\n",
    "$$\n",
    "q_2(x) = y_2 \\left(\\frac{x - x_1}{x_2 - x_1}\\right) \\left(\\frac{x - x_3}{x_2 - x_3}\\right),\n",
    "$$\n",
    "\n",
    "$$\n",
    "q_3(x) = y_3 \\left(\\frac{x - x_1}{x_3 - x_1}\\right) \\left(\\frac{x - x_2}{x_3 - x_2}\\right),\n",
    "$$\n",
    "\n",
    "$$\n",
    "\\begin{array}{rcl}\n",
    "P(x) & = & \\displaystyle y_1 \\left(\\frac{x - x_2}{x_1 - x_2}\\right) \\left(\\frac{x - x_3}{x_1 - x_3}\\right) \\newline\n",
    "& & \\displaystyle + y_2 \\left(\\frac{x - x_1}{x_2 - x_1}\\right) \\left(\\frac{x - x_3}{x_2 - x_3}\\right) \\newline\n",
    "& & \\displaystyle + y_3 \\left(\\frac{x - x_1}{x_3 - x_1}\\right) \\left(\\frac{x - x_2}{x_3 - x_2}\\right).\n",
    "\\end{array}\n",
    "$$\n"
   ]
  },
  {
   "cell_type": "code",
   "execution_count": null,
   "id": "469ee4f7",
   "metadata": {},
   "outputs": [],
   "source": []
  }
 ],
 "metadata": {
  "authors": [
   {
    "name": "Sparisoma Viridi"
   }
  ],
  "kernelspec": {
   "display_name": "Python 3 (ipykernel)",
   "language": "python",
   "name": "python3"
  },
  "language_info": {
   "codemirror_mode": {
    "name": "ipython",
    "version": 3
   },
   "file_extension": ".py",
   "mimetype": "text/x-python",
   "name": "python",
   "nbconvert_exporter": "python",
   "pygments_lexer": "ipython3",
   "version": "3.10.9"
  },
  "title": "lagrange_interpolating_polynomial"
 },
 "nbformat": 4,
 "nbformat_minor": 5
}
