{
 "cells": [
  {
   "cell_type": "markdown",
   "id": "cca11c7c",
   "metadata": {},
   "source": [
    "# lagrange_interpolating_polynomial\n",
    "Lagrange interpolating polynomial"
   ]
  },
  {
   "cell_type": "markdown",
   "id": "fba2ec01",
   "metadata": {},
   "source": [
    "For $n$ data points\n",
    "\n",
    "$$\n",
    "D_n = \\{ (x_i, y_i) \\in \\mathbb{R} \\times \\mathbb{R} \\ | \\ y_i = f(x_i) \\land i = 1, 2, \\dots, n \\},\n",
    "$$\n",
    "\n",
    "which will give, e.g. $(1, 2)$, $(2, 4)$, $(3, -1)$ for $D_3$."
   ]
  },
  {
   "cell_type": "code",
   "execution_count": null,
   "id": "bb090afa",
   "metadata": {},
   "outputs": [],
   "source": []
  }
 ],
 "metadata": {
  "authors": [
   {
    "name": "Sparisoma Viridi"
   }
  ],
  "kernelspec": {
   "display_name": "Python 3 (ipykernel)",
   "language": "python",
   "name": "python3"
  },
  "language_info": {
   "codemirror_mode": {
    "name": "ipython",
    "version": 3
   },
   "file_extension": ".py",
   "mimetype": "text/x-python",
   "name": "python",
   "nbconvert_exporter": "python",
   "pygments_lexer": "ipython3",
   "version": "3.10.9"
  },
  "title": "lagrange_interpolating_polynomial"
 },
 "nbformat": 4,
 "nbformat_minor": 5
}
