{
 "cells": [
  {
   "cell_type": "markdown",
   "id": "cca11c7c",
   "metadata": {},
   "source": [
    "# linearint\n",
    "Linear interpolation implementation"
   ]
  },
  {
   "cell_type": "markdown",
   "id": "8d77fdd9",
   "metadata": {},
   "source": [
    "Then a linear interpolation for $x_i \\le x \\le x_{i+1}$ is given by\n",
    "\n",
    "$$\\tag{2}\n",
    "q_i(x) = y_{i+1} \\left( \\frac{x - x_i}{x_{i+1} - x_i} \\right) + y_i \\left( \\frac{x - x_{i+1}}{x_i - x_{i+1}} \\right)\n",
    "$$\n",
    "\n",
    "where\n",
    "\n",
    "$$\\tag{3}\n",
    "i = 1 + \\left\\lfloor \\frac{x - x_1}{h} \\right\\rfloor\n",
    "$$\n",
    "\n",
    "when\n",
    "\n",
    "$$\\tag{4}\n",
    "x_{i+1} - x_i = h\n",
    "$$\n",
    "\n",
    "is always the same value."
   ]
  },
  {
   "cell_type": "code",
   "execution_count": null,
   "id": "3d88044b",
   "metadata": {},
   "outputs": [],
   "source": [
    "import math\n",
    "\n",
    "def q(j, x, xdata, ydata):\n",
    "    n = min(len(xdata), len(ydata))\n",
    "    h = xdata[1] - xdata[0]\n",
    "    j = round(x - xdata[0]) / h\n",
    "    for k in range(n):\n",
    "        if k != j:\n",
    "            prod *= (x - xdata[k]) / (xdata[j] - xdata[k])\n",
    "    qjx = ydata[j] * prod\n",
    "    return qjx"
   ]
  },
  {
   "cell_type": "code",
   "execution_count": null,
   "id": "26bfb835",
   "metadata": {},
   "outputs": [],
   "source": [
    "def p(x, xdata, ydata):\n",
    "    n = min(len(xdata), len(ydata))\n",
    "    px = 0\n",
    "    for j in range(n):\n",
    "        px += q(j, x, xdata, ydata)\n",
    "    return px"
   ]
  },
  {
   "cell_type": "code",
   "execution_count": null,
   "id": "cd5c1393",
   "metadata": {},
   "outputs": [],
   "source": [
    "def linear_interpolation(x, xdata, ydata):\n",
    "    y = [p(i, xdata, ydata) for i in x]\n",
    "    return y"
   ]
  },
  {
   "cell_type": "code",
   "execution_count": null,
   "id": "c9cd96b7",
   "metadata": {},
   "outputs": [],
   "source": []
  }
 ],
 "metadata": {
  "authors": [
   {
    "name": "Sparisoma Viridi"
   }
  ],
  "kernelspec": {
   "display_name": "Python 3 (ipykernel)",
   "language": "python",
   "name": "python3"
  },
  "language_info": {
   "codemirror_mode": {
    "name": "ipython",
    "version": 3
   },
   "file_extension": ".py",
   "mimetype": "text/x-python",
   "name": "python",
   "nbconvert_exporter": "python",
   "pygments_lexer": "ipython3",
   "version": "3.10.9"
  },
  "title": "linearint"
 },
 "nbformat": 4,
 "nbformat_minor": 5
}
