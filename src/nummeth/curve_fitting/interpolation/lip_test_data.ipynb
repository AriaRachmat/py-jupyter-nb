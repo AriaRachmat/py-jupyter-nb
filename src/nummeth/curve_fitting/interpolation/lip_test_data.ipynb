{
 "cells": [
  {
   "cell_type": "markdown",
   "id": "cca11c7c",
   "metadata": {},
   "source": [
    "# lip_test_data\n",
    "Test Lagrange interpolating polynomial implementation with data"
   ]
  },
  {
   "cell_type": "code",
   "execution_count": 8,
   "id": "bc7e3b87",
   "metadata": {},
   "outputs": [],
   "source": [
    "# import libraries\n",
    "import ipynb.fs.full.lagipoly as lip\n",
    "import matplotlib.pyplot as plt\n",
    "import numpy as np"
   ]
  },
  {
   "cell_type": "code",
   "execution_count": 26,
   "id": "c7675fcc",
   "metadata": {},
   "outputs": [
    {
     "data": {
      "image/png": "[encoded data removed]",
      "text/plain": [
       "<Figure size 432x288 with 1 Axes>"
      ]
     },
     "metadata": {
      "needs_background": "light"
     },
     "output_type": "display_data"
    }
   ],
   "source": [
    "x1 = [0, 1, 2, 3, 4, 5]\n",
    "y1 = [0, 1, 4, 4, 1, 3]\n",
    "\n",
    "x2 = np.linspace(0, 5, 100).tolist()\n",
    "y2 = [lip.p(i, x1, y1) for i in x2]\n",
    "\n",
    "plt.grid()\n",
    "plt.xlabel('x')\n",
    "plt.ylabel('y')\n",
    "plt.plot(x1, y1, 'ro', x2, y2, 'b-')\n",
    "plt.show()"
   ]
  },
  {
   "cell_type": "markdown",
   "id": "8d77fdd9",
   "metadata": {},
   "source": [
    "$$\\tag{1}\n",
    "q_j(x) = y_j \\prod_{k = 1 \\newline k \\ne j}^n \\frac{x - x_k}{x_j - x_k}.\n",
    "$$"
   ]
  },
  {
   "cell_type": "code",
   "execution_count": null,
   "id": "44566149",
   "metadata": {},
   "outputs": [],
   "source": [
    "def q(j, x, xdata, ydata):\n",
    "    n = min(len(xdata), len(ydata))\n",
    "    prod = 1\n",
    "    for k in range(n):\n",
    "        if k != j:\n",
    "            prod *= (x - xdata[k]) / (xdata[j] - xdata[k])\n",
    "    qjx = ydata[j] * prod\n",
    "    return qjx"
   ]
  },
  {
   "cell_type": "markdown",
   "id": "19d1d87b",
   "metadata": {},
   "source": [
    "$$\\tag{2}\n",
    "P(x) = \\sum_{j = 1}^n q_j(x),\n",
    "$$"
   ]
  },
  {
   "cell_type": "code",
   "execution_count": null,
   "id": "26bfb835",
   "metadata": {},
   "outputs": [],
   "source": [
    "def p(x, xdata, ydata):\n",
    "    n = min(len(xdata), len(ydata))\n",
    "    px = 0\n",
    "    for j in range(n):\n",
    "        px += q(j, x, xdata, ydata)\n",
    "    return px"
   ]
  },
  {
   "cell_type": "code",
   "execution_count": null,
   "id": "cd5c1393",
   "metadata": {},
   "outputs": [],
   "source": []
  }
 ],
 "metadata": {
  "authors": [
   {
    "name": "Sparisoma Viridi"
   }
  ],
  "kernelspec": {
   "display_name": "Python 3 (ipykernel)",
   "language": "python",
   "name": "python3"
  },
  "language_info": {
   "codemirror_mode": {
    "name": "ipython",
    "version": 3
   },
   "file_extension": ".py",
   "mimetype": "text/x-python",
   "name": "python",
   "nbconvert_exporter": "python",
   "pygments_lexer": "ipython3",
   "version": "3.10.9"
  },
  "title": "lip_test_data"
 },
 "nbformat": 4,
 "nbformat_minor": 5
}
