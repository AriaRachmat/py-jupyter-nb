{
 "cells": [
  {
   "cell_type": "markdown",
   "id": "cca11c7c",
   "metadata": {},
   "source": [
    "# linear_regression\n",
    "Formula of linear regression\n"
   ]
  },
  {
   "cell_type": "markdown",
   "id": "a975d482",
   "metadata": {},
   "source": [
    "## linear relation\n",
    "$$\\tag{1}\n",
    "y = c_0 + c_1 x + \\varepsilon = f(x)\n",
    "$$"
   ]
  },
  {
   "cell_type": "markdown",
   "id": "95687ab7",
   "metadata": {},
   "source": [
    "## intercept\n",
    "$$\\tag{2}\n",
    "c_0 = \\frac{\\displaystyle \\sum_{i = 1}^N y_i \\sum x_i^2 - \\sum_{i = 1}^N x_i \\sum x_i y_i}{\\displaystyle N \\sum_{i = 1}^N x_i^2 - \\left( \\sum_{i = 1}^N x_i \\right)^2}\n",
    "$$"
   ]
  },
  {
   "cell_type": "markdown",
   "id": "643da182",
   "metadata": {},
   "source": [
    "## slope\n",
    "$$\\tag{3}\n",
    "c_1 = \\frac{\\displaystyle N \\sum_{i = 1}^N x_i y_i - \\sum_{i = 1}^N x_i \\sum y_i}{\\displaystyle N \\sum_{i = 1}^N x_i^2 - \\left( \\sum_{i = 1}^N x_i \\right)^2}\n",
    "$$"
   ]
  },
  {
   "cell_type": "markdown",
   "id": "b31d920e",
   "metadata": {},
   "source": [
    "## coefficient of determination\n",
    "$$\\tag{4}\n",
    "R^2 = 1 - \\frac{SS_{\\rm res}}{SS_{\\rm tot}}\n",
    "$$"
   ]
  },
  {
   "cell_type": "markdown",
   "id": "120db339",
   "metadata": {},
   "source": [
    "## residual sum of squares\n",
    "$$\\tag{5}\n",
    "SS_{\\rm res} = \\sum_{i = 1}^N (y_i - f_i)^2 = \\sum_{i = 1}^N \\varepsilon_i^2\n",
    "$$"
   ]
  },
  {
   "cell_type": "markdown",
   "id": "821cae70",
   "metadata": {},
   "source": [
    "## total sum of squares\n",
    "$$\\tag{6}\n",
    "SS_{\\rm tot} = \\sum_{i = 1}^N (y_i - \\bar{y})^2\n",
    "$$"
   ]
  },
  {
   "cell_type": "markdown",
   "id": "3f2efe6a",
   "metadata": {},
   "source": [
    "## mean\n",
    "$$\\tag{7}\n",
    "\\bar{y} = \\frac{1}{N} \\sum_{i = 1}^N y_i\n",
    "$$"
   ]
  },
  {
   "cell_type": "code",
   "execution_count": null,
   "id": "f15e20fb",
   "metadata": {},
   "outputs": [],
   "source": []
  }
 ],
 "metadata": {
  "authors": [
   {
    "name": "Sparisoma Viridi"
   }
  ],
  "kernelspec": {
   "display_name": "Python 3 (ipykernel)",
   "language": "python",
   "name": "python3"
  },
  "language_info": {
   "codemirror_mode": {
    "name": "ipython",
    "version": 3
   },
   "file_extension": ".py",
   "mimetype": "text/x-python",
   "name": "python",
   "nbconvert_exporter": "python",
   "pygments_lexer": "ipython3",
   "version": "3.10.9"
  },
  "title": "linear_regression"
 },
 "nbformat": 4,
 "nbformat_minor": 5
}
