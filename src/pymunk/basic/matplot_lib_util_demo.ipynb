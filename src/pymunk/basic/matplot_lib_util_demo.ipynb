{
 "cells": [
  {
   "cell_type": "markdown",
   "id": "cca11c7c",
   "metadata": {},
   "source": [
    "# matplot_lib_util_demo\n",
    "Original file was `matplotlib_util_demo.ipynb` version [65d2803a](https://github.com/viblo/pymunk/blob/65d2803a/additional_examples/matplotlib_util_demo.ipynb) by [viblo](https://github.com/viblo) at Nov 10, 2022, 3:45 AM GMT+7."
   ]
  },
  {
   "cell_type": "markdown",
   "id": "046354e4",
   "metadata": {},
   "source": [
    "## orginal code"
   ]
  },
  {
   "cell_type": "code",
   "execution_count": null,
   "id": "65581691",
   "metadata": {},
   "outputs": [],
   "source": [
    "import matplotlib.pyplot as plt\n",
    "import pymunk\n",
    "from pymunk.vec2d import Vec2d\n",
    "from shapes_for_draw_demos import fill_space\n",
    "import pymunk.matplotlib_util"
   ]
  },
  {
   "cell_type": "markdown",
   "id": "cae3113e",
   "metadata": {},
   "source": [
    "Report in new issue [225](https://github.com/viblo/pymunk/issues/225) at Jan 28, 2023, 06:54 AM GMT+7"
   ]
  },
  {
   "cell_type": "markdown",
   "id": "83331570",
   "metadata": {},
   "source": [
    "## modified code"
   ]
  },
  {
   "cell_type": "code",
   "execution_count": null,
   "id": "a5cdf690",
   "metadata": {
    "scrolled": true
   },
   "outputs": [],
   "source": [
    "import matplotlib.pyplot as plt\n",
    "import pymunk\n",
    "from pymunk.vec2d import Vec2d\n",
    "from ipynb.fs.full.shapes_for_draw_demos import fill_space\n",
    "import pymunk.matplotlib_util"
   ]
  },
  {
   "cell_type": "code",
   "execution_count": null,
   "id": "6a520d41",
   "metadata": {},
   "outputs": [],
   "source": [
    "space = pymunk.Space()\n",
    "captions = fill_space(space, (1,1,0,1))"
   ]
  },
  {
   "cell_type": "code",
   "execution_count": null,
   "id": "54e9ae99",
   "metadata": {},
   "outputs": [],
   "source": [
    "fig = plt.figure(figsize=(14,10))\n",
    "ax = plt.axes(xlim=(0, 1000), ylim=(0, 700))\n",
    "ax.set_aspect(\"equal\")\n",
    "ax.set_facecolor((1,0.5,0.3))\n",
    "for caption in captions:\n",
    "    x, y = caption[0]\n",
    "    y = y - 15\n",
    "    ax.text(x, y, caption[1], fontsize=12, color=\"white\")\n",
    "\n",
    "o = pymunk.matplotlib_util.DrawOptions(ax)\n",
    "space.debug_draw(o)"
   ]
  },
  {
   "cell_type": "code",
   "execution_count": null,
   "id": "9f4b5129",
   "metadata": {},
   "outputs": [],
   "source": []
  }
 ],
 "metadata": {
  "authors": [
   {
    "name": "Sparisoma Viridi"
   }
  ],
  "kernelspec": {
   "display_name": "Python 3 (ipykernel)",
   "language": "python",
   "name": "python3"
  },
  "language_info": {
   "codemirror_mode": {
    "name": "ipython",
    "version": 3
   },
   "file_extension": ".py",
   "mimetype": "text/x-python",
   "name": "python",
   "nbconvert_exporter": "python",
   "pygments_lexer": "ipython3",
   "version": "3.10.9"
  },
  "title": "matplot_lib_util_demo"
 },
 "nbformat": 4,
 "nbformat_minor": 5
}
