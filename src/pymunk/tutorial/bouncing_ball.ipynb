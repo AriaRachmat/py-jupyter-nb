{
 "cells": [
  {
   "cell_type": "markdown",
   "id": "cca11c7c",
   "metadata": {},
   "source": [
    "# bouncing_ball\n",
    "Aggregate as file from [A bouncing ball](https://pymunk-tutorial.readthedocs.io/en/latest/intro/intro.html#a-bouncing-ball)."
   ]
  },
  {
   "cell_type": "markdown",
   "id": "1b4902fc",
   "metadata": {},
   "source": [
    "## import modules"
   ]
  },
  {
   "cell_type": "code",
   "execution_count": 1,
   "id": "a5cdf690",
   "metadata": {
    "scrolled": true
   },
   "outputs": [
    {
     "name": "stdout",
     "output_type": "stream",
     "text": [
      "pygame 2.1.2 (SDL 2.0.18, Python 3.10.9)\n",
      "Hello from the pygame community. https://www.pygame.org/contribute.html\n"
     ]
    }
   ],
   "source": [
    "import pymunk\n",
    "import pymunk.pygame_util\n",
    "import pygame"
   ]
  },
  {
   "cell_type": "markdown",
   "id": "a2af7d89",
   "metadata": {},
   "source": [
    "## define background color"
   ]
  },
  {
   "cell_type": "code",
   "execution_count": 2,
   "id": "e2cfe321",
   "metadata": {},
   "outputs": [],
   "source": [
    "BG_COLOR = (220, 255, 220)"
   ]
  },
  {
   "cell_type": "markdown",
   "id": "777e097f",
   "metadata": {},
   "source": [
    "## initialize with quick prototyping"
   ]
  },
  {
   "cell_type": "code",
   "execution_count": 17,
   "id": "1c90d57b",
   "metadata": {},
   "outputs": [],
   "source": [
    "pygame.init()\n",
    "size = 640, 240\n",
    "screen = pygame.display.set_mode(size)\n",
    "draw_options = pymunk.pygame_util.DrawOptions(screen)"
   ]
  },
  {
   "cell_type": "markdown",
   "id": "6ae46a5f",
   "metadata": {},
   "source": [
    "## define space"
   ]
  },
  {
   "cell_type": "code",
   "execution_count": 4,
   "id": "e7f0d98f",
   "metadata": {},
   "outputs": [],
   "source": [
    "space = pymunk.Space()\n",
    "space.gravity = 0, -900"
   ]
  },
  {
   "cell_type": "markdown",
   "id": "62dcb61b",
   "metadata": {},
   "source": [
    "## create ground"
   ]
  },
  {
   "cell_type": "code",
   "execution_count": 5,
   "id": "76f21ac6",
   "metadata": {},
   "outputs": [],
   "source": [
    "b0 = space.static_body\n",
    "segment = pymunk.Segment(b0, (0, 0), (640, 0), 4)\n",
    "segment.elasticity = 1"
   ]
  },
  {
   "cell_type": "markdown",
   "id": "ac56a08e",
   "metadata": {},
   "source": [
    "## create a dynamic body"
   ]
  },
  {
   "cell_type": "code",
   "execution_count": 6,
   "id": "97b4ec73",
   "metadata": {},
   "outputs": [],
   "source": [
    "body = pymunk.Body(mass=1, moment=10)\n",
    "body.position = 100, 200"
   ]
  },
  {
   "cell_type": "markdown",
   "id": "bd250002",
   "metadata": {},
   "source": [
    "## create circle and attach it to the body"
   ]
  },
  {
   "cell_type": "code",
   "execution_count": 13,
   "id": "f063cfc7",
   "metadata": {},
   "outputs": [],
   "source": [
    "circle = pymunk.Circle(body, radius=30)\n",
    "circle.elasticity = 0.95"
   ]
  },
  {
   "cell_type": "markdown",
   "id": "f656d475",
   "metadata": {},
   "source": [
    "## add all to the space"
   ]
  },
  {
   "cell_type": "code",
   "execution_count": 8,
   "id": "3b8dddd7",
   "metadata": {},
   "outputs": [],
   "source": [
    "space.add(body, circle, segment)"
   ]
  },
  {
   "cell_type": "markdown",
   "id": "029ed438",
   "metadata": {},
   "source": [
    "## run pygame event loop"
   ]
  },
  {
   "cell_type": "code",
   "execution_count": 19,
   "id": "a20f309b",
   "metadata": {},
   "outputs": [
    {
     "ename": "error",
     "evalue": "video system not initialized",
     "output_type": "error",
     "traceback": [
      "\u001b[1;31m---------------------------------------------------------------------------\u001b[0m",
      "\u001b[1;31merror\u001b[0m                                     Traceback (most recent call last)",
      "Input \u001b[1;32mIn [19]\u001b[0m, in \u001b[0;36m<cell line: 3>\u001b[1;34m()\u001b[0m\n\u001b[0;32m      2\u001b[0m i \u001b[38;5;241m=\u001b[39m \u001b[38;5;241m0\u001b[39m\n\u001b[0;32m      3\u001b[0m \u001b[38;5;28;01mwhile\u001b[39;00m running:\n\u001b[1;32m----> 4\u001b[0m     \u001b[38;5;28;01mfor\u001b[39;00m event \u001b[38;5;129;01min\u001b[39;00m \u001b[43mpygame\u001b[49m\u001b[38;5;241;43m.\u001b[39;49m\u001b[43mevent\u001b[49m\u001b[38;5;241;43m.\u001b[39;49m\u001b[43mget\u001b[49m\u001b[43m(\u001b[49m\u001b[43m)\u001b[49m:\n\u001b[0;32m      5\u001b[0m         \u001b[38;5;28;01mif\u001b[39;00m event\u001b[38;5;241m.\u001b[39mtype \u001b[38;5;241m==\u001b[39m pygame\u001b[38;5;241m.\u001b[39mQUIT:\n\u001b[0;32m      6\u001b[0m             running \u001b[38;5;241m=\u001b[39m \u001b[38;5;28;01mFalse\u001b[39;00m\n",
      "\u001b[1;31merror\u001b[0m: video system not initialized"
     ]
    }
   ],
   "source": [
    "running = True\n",
    "i = 0\n",
    "while running:\n",
    "    for event in pygame.event.get():\n",
    "        if event.type == pygame.QUIT:\n",
    "            running = False\n",
    "            pygame.image.save(screen, \"data/bouncing_ball.png\")\n",
    "\n",
    "    screen.fill(BG_COLOR)\n",
    "    space.debug_draw(draw_options)\n",
    "    pygame.display.update()\n",
    "    space.step(0.01)\n",
    "    \n",
    "    i += 1\n",
    "    print(i, end=' ')\n",
    "\n",
    "pygame.quit()"
   ]
  },
  {
   "cell_type": "code",
   "execution_count": null,
   "id": "90774cdb",
   "metadata": {},
   "outputs": [],
   "source": []
  }
 ],
 "metadata": {
  "authors": [
   {
    "name": "Sparisoma Viridi"
   }
  ],
  "kernelspec": {
   "display_name": "Python 3 (ipykernel)",
   "language": "python",
   "name": "python3"
  },
  "language_info": {
   "codemirror_mode": {
    "name": "ipython",
    "version": 3
   },
   "file_extension": ".py",
   "mimetype": "text/x-python",
   "name": "python",
   "nbconvert_exporter": "python",
   "pygments_lexer": "ipython3",
   "version": "3.10.9"
  },
  "title": "bouncing_ball"
 },
 "nbformat": 4,
 "nbformat_minor": 5
}
