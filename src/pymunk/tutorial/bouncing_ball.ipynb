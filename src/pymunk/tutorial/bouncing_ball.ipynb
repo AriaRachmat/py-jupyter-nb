{
 "cells": [
  {
   "cell_type": "markdown",
   "id": "cca11c7c",
   "metadata": {},
   "source": [
    "# bouncing_ball\n",
    "Aggregate as file from [A bouncing ball](https://pymunk-tutorial.readthedocs.io/en/latest/intro/intro.html#a-bouncing-ball)."
   ]
  },
  {
   "cell_type": "markdown",
   "id": "f40e7eba",
   "metadata": {},
   "source": [
    "## import modules"
   ]
  },
  {
   "cell_type": "code",
   "execution_count": null,
   "id": "a5cdf690",
   "metadata": {
    "scrolled": true
   },
   "outputs": [],
   "source": [
    "import pymunk\n",
    "import pymunk.pygame_util\n",
    "import pygame"
   ]
  },
  {
   "cell_type": "markdown",
   "id": "c07337ff",
   "metadata": {},
   "source": [
    "## initialize with quick prototyping"
   ]
  },
  {
   "cell_type": "code",
   "execution_count": null,
   "id": "1c90d57b",
   "metadata": {},
   "outputs": [],
   "source": [
    "pygame.init()\n",
    "size = 640, 240\n",
    "screen = pygame.display.set_mode(size)\n",
    "draw_options = pymunk.pygame_util.DrawOptions(screen)"
   ]
  },
  {
   "cell_type": "markdown",
   "id": "b5d37fb2",
   "metadata": {},
   "source": [
    "## define space"
   ]
  },
  {
   "cell_type": "code",
   "execution_count": null,
   "id": "bd3cbda1",
   "metadata": {},
   "outputs": [],
   "source": [
    "space = pymunk.Space()\n",
    "space.gravity = 0, -900"
   ]
  },
  {
   "cell_type": "markdown",
   "id": "da43d9e5",
   "metadata": {},
   "source": [
    "## create ground"
   ]
  },
  {
   "cell_type": "code",
   "execution_count": null,
   "id": "c8f8dc20",
   "metadata": {},
   "outputs": [],
   "source": [
    "b0 = space.static_body\n",
    "segment = pymunk.Segment(b0, (0, 0), (640, 0), 4)\n",
    "segment.elasticity = 1"
   ]
  },
  {
   "cell_type": "markdown",
   "id": "5dbca8a6",
   "metadata": {},
   "source": [
    "## create a dynamic body"
   ]
  },
  {
   "cell_type": "code",
   "execution_count": null,
   "id": "a91c9145",
   "metadata": {},
   "outputs": [],
   "source": [
    "body = pymunk.Body(mass=1, moment=10)\n",
    "body.position = 100, 200"
   ]
  },
  {
   "cell_type": "markdown",
   "id": "dce16533",
   "metadata": {},
   "source": [
    "## create circle and attach it to the body"
   ]
  },
  {
   "cell_type": "code",
   "execution_count": null,
   "id": "f324fc0a",
   "metadata": {},
   "outputs": [],
   "source": [
    "circle = pymunk.Circle(body, radius=20)\n",
    "circle.elasticity = 0.95"
   ]
  },
  {
   "cell_type": "markdown",
   "id": "7bb6e890",
   "metadata": {},
   "source": [
    "## add all to the space"
   ]
  },
  {
   "cell_type": "code",
   "execution_count": null,
   "id": "ade4cfbb",
   "metadata": {},
   "outputs": [],
   "source": [
    "space.add(body, circle, segment)"
   ]
  },
  {
   "cell_type": "markdown",
   "id": "57c4d6ba",
   "metadata": {},
   "source": [
    "## run pygame event loop"
   ]
  },
  {
   "cell_type": "code",
   "execution_count": null,
   "id": "72e6bdc2",
   "metadata": {},
   "outputs": [],
   "source": [
    "running = True\n",
    "while running:\n",
    "    for event in pygame.event.get():\n",
    "        if event.type == pygame.QUIT:\n",
    "            running = False\n",
    "    \n",
    "    screen.fill(GRAY)\n",
    "    space.debug_draw(draw_options)\n",
    "    pygame.display.update()\n",
    "    space.step(0.01)\n",
    "\n",
    "pygame.quit()"
   ]
  }
 ],
 "metadata": {
  "authors": [
   {
    "name": "Sparisoma Viridi"
   }
  ],
  "kernelspec": {
   "display_name": "Python 3 (ipykernel)",
   "language": "python",
   "name": "python3"
  },
  "language_info": {
   "codemirror_mode": {
    "name": "ipython",
    "version": 3
   },
   "file_extension": ".py",
   "mimetype": "text/x-python",
   "name": "python",
   "nbconvert_exporter": "python",
   "pygments_lexer": "ipython3",
   "version": "3.10.9"
  },
  "title": "bouncing_ball"
 },
 "nbformat": 4,
 "nbformat_minor": 5
}
