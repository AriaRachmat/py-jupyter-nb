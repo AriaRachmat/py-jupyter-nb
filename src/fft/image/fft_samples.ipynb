{
 "cells": [
  {
   "cell_type": "markdown",
   "id": "cca11c7c",
   "metadata": {},
   "source": [
    "# fft_samples\n",
    "Calculate FFT from samples in the form of chess board-like images."
   ]
  },
  {
   "cell_type": "code",
   "execution_count": 74,
   "id": "55cd0975",
   "metadata": {},
   "outputs": [
    {
     "data": {
      "image/png": "[encoded data removed]",
      "text/plain": [
       "<Figure size 432x288 with 1 Axes>"
      ]
     },
     "metadata": {
      "needs_background": "light"
     },
     "output_type": "display_data"
    }
   ],
   "source": [
    "import matplotlib.pyplot as plt\n",
    "from scipy import fftpack\n",
    "import numpy as np\n",
    "\n",
    "import scipy.fft\n",
    "\n",
    "ifilename = f\"data/cb_02x32.png\"\n",
    "#im = plt.imread(ifilename).astype(float)\n",
    "\n",
    "from PIL import Image\n",
    "im = Image.open(ifilename).convert(\"P\")\n",
    "\n",
    "im_fft = fftpack.fft2(im)\n",
    "#im_fft = scipy.fft.fft2(im)\n",
    "\n",
    "im_fft_abs = np.abs(im_fft)\n",
    "im_fft_abs_normalize = im_fft_abs.astype('uint8')\n",
    "im_fft_abs_normalize_invert = 255 - im_fft_abs_normalize\n",
    "\n",
    "#print(im_fft_abs_normalize_invert[0])\n",
    "#print(im_fft_abs_normalize_invert[64])\n",
    "plt.imshow(im_fft_abs_normalize_invert)\n",
    "plt.show()\n",
    "\n",
    "#from matplotlib.colors import LogNorm\n",
    "#plt.imshow(np.abs(im_fft), norm=LogNorm(vmin=5))\n",
    "#plt.colorbar()\n"
   ]
  },
  {
   "cell_type": "code",
   "execution_count": 16,
   "id": "b9da0142",
   "metadata": {
    "scrolled": true
   },
   "outputs": [
    {
     "data": {
      "image/png": "[encoded data removed]",
      "text/plain": [
       "<Figure size 432x288 with 1 Axes>"
      ]
     },
     "metadata": {
      "needs_background": "light"
     },
     "output_type": "display_data"
    }
   ],
   "source": [
    "import matplotlib.pyplot as plt\n",
    "from scipy import fftpack\n",
    "import numpy as np\n",
    "numrects = [1, 2, 4, 8, 16, 32]\n",
    "for i in numrects:\n",
    "    for j in numrects:\n",
    "        ifilename = f\"data/cb_{i:02d}x{j:02d}.png\"\n",
    "        im = plt.imread(ifilename).astype(float)\n",
    "        ofilename = f\"data/fft_{i:02d}x{j:02d}.png\"\n",
    "        im_fft = np.abs(fftpack.fft2(im))\n",
    "        im_fft_normalize = im_fft.astype('uint8')\n",
    "        plt.imsave(ofilename, im_fft_normalize, format='PNG')\n",
    "\n",
    "plt.imshow(im_fft_normalize)\n",
    "plt.show()"
   ]
  },
  {
   "cell_type": "markdown",
   "id": "63789ec9",
   "metadata": {},
   "source": [
    "## results\n",
    "&nbsp;&nbsp;&nbsp;&nbsp;&nbsp;&nbsp;&nbsp;&nbsp;&nbsp;&nbsp;&nbsp;&nbsp;&nbsp;&nbsp;&nbsp;&nbsp;&nbsp;&nbsp;&nbsp;Nx<br>Ny | 1 | 2 | 4 | 8 | 16 | 32\n",
    ":-: | :-: | :-: | :-: | :-: | :-: | :-:\n",
    " 1 | ![](data/cb_01x01.png) | ![](data/cb_02x01.png) | ![](data/cb_04x01.png) | ![](data/cb_08x01.png) | ![](data/cb_16x01.png) | ![](data/cb_32x01.png)\n",
    " 2 | ![](data/cb_01x02.png) | ![](data/cb_02x02.png) | ![](data/cb_04x02.png) | ![](data/cb_08x02.png) | ![](data/cb_16x02.png) | ![](data/cb_32x02.png)\n",
    " 4 | ![](data/cb_01x04.png) | ![](data/cb_02x04.png) | ![](data/cb_04x04.png) | ![](data/cb_08x04.png) | ![](data/cb_16x04.png) | ![](data/cb_32x04.png)\n",
    " 8 | ![](data/cb_01x08.png) | ![](data/cb_02x08.png) | ![](data/cb_04x08.png) | ![](data/cb_08x08.png) | ![](data/cb_16x08.png) | ![](data/cb_32x08.png)\n",
    "16 | ![](data/cb_01x16.png) | ![](data/cb_02x16.png) | ![](data/cb_04x16.png) | ![](data/cb_08x16.png) | ![](data/cb_16x16.png) | ![](data/cb_32x16.png)\n",
    "32 | ![](data/cb_01x32.png) | ![](data/cb_02x32.png) | ![](data/cb_04x32.png) | ![](data/cb_08x32.png) | ![](data/cb_16x32.png) | ![](data/cb_32x32.png)\n",
    "\n",
    "Filame = `cb_NxxNy.png`, e.g `cb_02x04.png` is for $N_x = 2$ and $N_y = 4$, which is\n",
    "![](data/cb_02x04.png)"
   ]
  },
  {
   "cell_type": "markdown",
   "id": "546e023c",
   "metadata": {},
   "source": [
    "## refs\n",
    "1. \"Image denoising by FFT\", url https://scipy-lectures.org/intro/scipy/auto_examples/solutions/plot_fft_image_denoise.html [20230206].\n",
    "2. \"How to Create Any Image Using Only Sine Functions | 2D Fourier Transform in Python\", url https://thepythoncodingbook.com/2021/08/30/2d-fourier-transform-in-python-and-fourier-synthesis-of-images/ [20220206].\n",
    "3. \"What is the difference between images in 'P' and 'L' mode in PIL?\", url https://stackoverflow.com/a/52307690/9475509 [20230206].\n",
    "4. \"Display image as grayscale using matplotlib\", url https://stackoverflow.com/a/3823822/9475509 [20230206]."
   ]
  },
  {
   "cell_type": "code",
   "execution_count": null,
   "id": "9ee3f6e8",
   "metadata": {},
   "outputs": [],
   "source": []
  }
 ],
 "metadata": {
  "authors": [
   {
    "name": "Sparisoma Viridi"
   }
  ],
  "kernelspec": {
   "display_name": "Python 3 (ipykernel)",
   "language": "python",
   "name": "python3"
  },
  "language_info": {
   "codemirror_mode": {
    "name": "ipython",
    "version": 3
   },
   "file_extension": ".py",
   "mimetype": "text/x-python",
   "name": "python",
   "nbconvert_exporter": "python",
   "pygments_lexer": "ipython3",
   "version": "3.10.9"
  },
  "title": "fft_samples"
 },
 "nbformat": 4,
 "nbformat_minor": 5
}
