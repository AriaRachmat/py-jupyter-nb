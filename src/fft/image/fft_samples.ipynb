{
 "cells": [
  {
   "cell_type": "markdown",
   "id": "cca11c7c",
   "metadata": {},
   "source": [
    "# fft_samples\n",
    "Calculate FFT from samples in the form of chess board-like images."
   ]
  },
  {
   "cell_type": "code",
   "execution_count": 1,
   "id": "b9da0142",
   "metadata": {
    "scrolled": true
   },
   "outputs": [
    {
     "data": {
      "image/png": "[encoded data removed]",
      "text/plain": [
       "<Figure size 432x288 with 1 Axes>"
      ]
     },
     "metadata": {
      "needs_background": "light"
     },
     "output_type": "display_data"
    },
    {
     "name": "stdout",
     "output_type": "stream",
     "text": [
      "[  0   0   0   0   0   0   0   0   0   0   0   0   0   0   0   0 168   0\n",
      "   0   0   0   0   0   0   0   0   0   0   0   0   0   0   0   0   0   0\n",
      "   0   0   0   0   0   0   0   0   0   0   0   0 168   0   0   0   0   0\n",
      "   0   0   0   0   0   0   0   0   0   0   0   0   0   0   0   0   0   0\n",
      "   0   0   0   0   0   0   0   0 168   0   0   0   0   0   0   0   0   0\n",
      "   0   0   0   0   0   0   0   0   0   0   0   0   0   0   0   0   0   0\n",
      "   0   0   0   0 168   0   0   0   0   0   0   0   0   0   0   0   0   0\n",
      "   0   0]\n"
     ]
    }
   ],
   "source": [
    "import matplotlib.pyplot as plt\n",
    "from scipy import fftpack\n",
    "import numpy as np\n",
    "numrects = [1, 2, 4, 8, 16, 32]\n",
    "for i in numrects:\n",
    "    for j in numrects:\n",
    "        ifilename = f\"data/cb_{i:02d}x{j:02d}.png\"\n",
    "        im = plt.imread(ifilename).astype(float)\n",
    "        ofilename = f\"data/fft_{i:02d}x{j:02d}.png\"\n",
    "        im_fft = np.abs(fftpack.fft2(im))\n",
    "        im_fft_normalize = im_fft.astype('uint8')\n",
    "        plt.imsave(ofilename, im_fft_normalize, cmap='gray', format='PNG')\n",
    "\n",
    "plt.imshow(im_fft_normalize, cmap=\"gray\")\n",
    "plt.show()\n",
    "print(im_fft_normalize[16])"
   ]
  },
  {
   "cell_type": "markdown",
   "id": "63789ec9",
   "metadata": {},
   "source": [
    "## results\n",
    "&nbsp;&nbsp;&nbsp;&nbsp;&nbsp;&nbsp;&nbsp;&nbsp;&nbsp;&nbsp;&nbsp;&nbsp;&nbsp;&nbsp;&nbsp;&nbsp;&nbsp;&nbsp;&nbsp;Nx<br>Ny | 1 | 2 | 4 | 8 | 16 | 32\n",
    ":-: | :-: | :-: | :-: | :-: | :-: | :-:\n",
    " 1 | ![](data/fft_01x01.png) | ![](data/fft_02x01.png) | ![](data/fft_04x01.png) | ![](data/fft_08x01.png) | ![](data/fft_16x01.png) | ![](data/fft_32x01.png)\n",
    " 2 | ![](data/fft_01x02.png) | ![](data/fft_02x02.png) | ![](data/fft_04x02.png) | ![](data/fft_08x02.png) | ![](data/fft_16x02.png) | ![](data/fft_32x02.png)\n",
    " 4 | ![](data/fft_01x04.png) | ![](data/fft_02x04.png) | ![](data/fft_04x04.png) | ![](data/fft_08x04.png) | ![](data/fft_16x04.png) | ![](data/fft_32x04.png)\n",
    " 8 | ![](data/fft_01x08.png) | ![](data/fft_02x08.png) | ![](data/fft_04x08.png) | ![](data/fft_08x08.png) | ![](data/fft_16x08.png) | ![](data/fft_32x08.png)\n",
    "16 | ![](data/fft_01x16.png) | ![](data/fft_02x16.png) | ![](data/fft_04x16.png) | ![](data/fft_08x16.png) | ![](data/fft_16x16.png) | ![](data/fft_32x16.png)\n",
    "32 | ![](data/fft_01x32.png) | ![](data/fft_02x32.png) | ![](data/fft_04x32.png) | ![](data/fft_08x32.png) | ![](data/fft_16x32.png) | ![](data/fft_32x32.png)\n",
    "\n",
    "Filame = `fft_NxxNy.png`, e.g `fft_02x04.png` is for $N_x = 2$ and $N_y = 4$, which is\n",
    "![](data/fft_02x04.png)"
   ]
  },
  {
   "cell_type": "markdown",
   "id": "546e023c",
   "metadata": {},
   "source": [
    "## refs\n",
    "1. \"Image denoising by FFT\", url https://scipy-lectures.org/intro/scipy/auto_examples/solutions/plot_fft_image_denoise.html [20230206].\n",
    "2. \"How to Create Any Image Using Only Sine Functions | 2D Fourier Transform in Python\", url https://thepythoncodingbook.com/2021/08/30/2d-fourier-transform-in-python-and-fourier-synthesis-of-images/ [20220206].\n",
    "3. \"What is the difference between images in 'P' and 'L' mode in PIL?\", url https://stackoverflow.com/a/52307690/9475509 [20230206].\n",
    "4. \"Display image as grayscale using matplotlib\", url https://stackoverflow.com/a/3823822/9475509 [20230206]."
   ]
  },
  {
   "cell_type": "markdown",
   "id": "8c27ea7e",
   "metadata": {},
   "source": [
    "## colormap\n",
    "```\n",
    "supported values are 'Accent', 'Accent_r', 'Blues', 'Blues_r', 'BrBG', 'BrBG_r', 'BuGn', 'BuGn_r', 'BuPu', 'BuPu_r', 'CMRmap', 'CMRmap_r', 'Dark2', 'Dark2_r', 'GnBu', 'GnBu_r', 'Greens', 'Greens_r', 'Greys', 'Greys_r', 'OrRd', 'OrRd_r', 'Oranges', 'Oranges_r', 'PRGn', 'PRGn_r', 'Paired', 'Paired_r', 'Pastel1', 'Pastel1_r', 'Pastel2', 'Pastel2_r', 'PiYG', 'PiYG_r', 'PuBu', 'PuBuGn', 'PuBuGn_r', 'PuBu_r', 'PuOr', 'PuOr_r', 'PuRd', 'PuRd_r', 'Purples', 'Purples_r', 'RdBu', 'RdBu_r', 'RdGy', 'RdGy_r', 'RdPu', 'RdPu_r', 'RdYlBu', 'RdYlBu_r', 'RdYlGn', 'RdYlGn_r', 'Reds', 'Reds_r', 'Set1', 'Set1_r', 'Set2', 'Set2_r', 'Set3', 'Set3_r', 'Spectral', 'Spectral_r', 'Wistia', 'Wistia_r', 'YlGn', 'YlGnBu', 'YlGnBu_r', 'YlGn_r', 'YlOrBr', 'YlOrBr_r', 'YlOrRd', 'YlOrRd_r', 'afmhot', 'afmhot_r', 'autumn', 'autumn_r', 'binary', 'binary_r', 'bone', 'bone_r', 'brg', 'brg_r', 'bwr', 'bwr_r', 'cividis', 'cividis_r', 'cool', 'cool_r', 'coolwarm', 'coolwarm_r', 'copper', 'copper_r', 'cubehelix', 'cubehelix_r', 'flag', 'flag_r', 'gist_earth', 'gist_earth_r', 'gist_gray', 'gist_gray_r', 'gist_heat', 'gist_heat_r', 'gist_ncar', 'gist_ncar_r', 'gist_rainbow', 'gist_rainbow_r', 'gist_stern', 'gist_stern_r', 'gist_yarg', 'gist_yarg_r', 'gnuplot', 'gnuplot2', 'gnuplot2_r', 'gnuplot_r', 'gray', 'gray_r', 'hot', 'hot_r', 'hsv', 'hsv_r', 'inferno', 'inferno_r', 'jet', 'jet_r', 'magma', 'magma_r', 'nipy_spectral', 'nipy_spectral_r', 'ocean', 'ocean_r', 'pink', 'pink_r', 'plasma', 'plasma_r', 'prism', 'prism_r', 'rainbow', 'rainbow_r', 'seismic', 'seismic_r', 'spring', 'spring_r', 'summer', 'summer_r', 'tab10', 'tab10_r', 'tab20', 'tab20_r', 'tab20b', 'tab20b_r', 'tab20c', 'tab20c_r', 'terrain', 'terrain_r', 'turbo', 'turbo_r', 'twilight', 'twilight_r', 'twilight_shifted', 'twilight_shifted_r', 'viridis', 'viridis_r', 'winter', 'winter_r'\n",
    "```"
   ]
  },
  {
   "cell_type": "code",
   "execution_count": null,
   "id": "865b4a1d",
   "metadata": {},
   "outputs": [],
   "source": []
  }
 ],
 "metadata": {
  "authors": [
   {
    "name": "Sparisoma Viridi"
   }
  ],
  "kernelspec": {
   "display_name": "Python 3 (ipykernel)",
   "language": "python",
   "name": "python3"
  },
  "language_info": {
   "codemirror_mode": {
    "name": "ipython",
    "version": 3
   },
   "file_extension": ".py",
   "mimetype": "text/x-python",
   "name": "python",
   "nbconvert_exporter": "python",
   "pygments_lexer": "ipython3",
   "version": "3.9.12"
  },
  "title": "fft_samples"
 },
 "nbformat": 4,
 "nbformat_minor": 5
}
