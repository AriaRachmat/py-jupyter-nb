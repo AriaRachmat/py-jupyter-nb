{
 "cells": [
  {
   "cell_type": "markdown",
   "id": "cca11c7c",
   "metadata": {},
   "source": [
    "# sine_grating_fft\n",
    "Reproduce result from an example (Gruppetta, 2021) and try to undertand it."
   ]
  },
  {
   "cell_type": "markdown",
   "id": "36154bc5",
   "metadata": {},
   "source": [
    "## original code and modifications"
   ]
  },
  {
   "cell_type": "code",
   "execution_count": null,
   "id": "6fe0c445",
   "metadata": {},
   "outputs": [],
   "source": [
    "# gratings.py\n",
    "import numpy as np\n",
    "import matplotlib.pyplot as plt\n",
    "x = np.arange(-500, 501, 1)\n",
    "X, Y = np.meshgrid(x, x)\n",
    "wavelength = 200\n",
    "angle = 0\n",
    "grating = np.sin(\n",
    "    2*np.pi*(X*np.cos(angle) + Y*np.sin(angle)) / wavelength\n",
    ")\n",
    "plt.set_cmap(\"gray\")\n",
    "plt.subplot(121)\n",
    "plt.imshow(grating)\n",
    "# Calculate Fourier transform of grating\n",
    "ft = np.fft.ifftshift(grating)\n",
    "ft = np.fft.fft2(ft)\n",
    "ft = np.fft.fftshift(ft)\n",
    "plt.subplot(122)\n",
    "plt.imshow(abs(ft))\n",
    "plt.xlim([480, 520])\n",
    "plt.ylim([520, 480])  # Note, order is reversed for y\n",
    "plt.show()"
   ]
  },
  {
   "cell_type": "code",
   "execution_count": null,
   "id": "63af05b2",
   "metadata": {},
   "outputs": [],
   "source": [
    "print(x)"
   ]
  },
  {
   "cell_type": "code",
   "execution_count": null,
   "id": "bae6cc28",
   "metadata": {},
   "outputs": [],
   "source": [
    "print(len(x))"
   ]
  },
  {
   "cell_type": "code",
   "execution_count": null,
   "id": "ac2c6ea2",
   "metadata": {},
   "outputs": [],
   "source": [
    "# gratings.py\n",
    "import numpy as np\n",
    "import matplotlib.pyplot as plt\n",
    "x = np.arange(-50, 51, 1)\n",
    "X, Y = np.meshgrid(x, x)\n",
    "wavelength = 20\n",
    "angle = 0\n",
    "grating = np.sin(\n",
    "    2*np.pi*(X*np.cos(angle) + Y*np.sin(angle)) / wavelength\n",
    ")\n",
    "plt.set_cmap(\"gray\")\n",
    "plt.subplot(121)\n",
    "plt.imshow(grating)\n",
    "# Calculate Fourier transform of grating\n",
    "ft = np.fft.ifftshift(grating)\n",
    "ft = np.fft.fft2(ft)\n",
    "ft = np.fft.fftshift(ft)\n",
    "plt.subplot(122)\n",
    "plt.imshow(abs(ft))\n",
    "plt.xlim([40, 60])\n",
    "plt.ylim([60, 40])  # Note, order is reversed for y\n",
    "plt.show()\n",
    "print(len(x))"
   ]
  },
  {
   "cell_type": "code",
   "execution_count": null,
   "id": "fb37758b",
   "metadata": {},
   "outputs": [],
   "source": [
    "# gratings.py\n",
    "import numpy as np\n",
    "import matplotlib.pyplot as plt\n",
    "x = np.arange(-50, 50, 1)\n",
    "X, Y = np.meshgrid(x, x)\n",
    "wavelength = 20\n",
    "angle = 0\n",
    "grating = np.sin(\n",
    "    2*np.pi*(X*np.cos(angle) + Y*np.sin(angle)) / wavelength\n",
    ")\n",
    "plt.set_cmap(\"gray\")\n",
    "plt.subplot(121)\n",
    "plt.imshow(grating)\n",
    "# Calculate Fourier transform of grating\n",
    "ft = np.fft.ifftshift(grating)\n",
    "ft = np.fft.fft2(ft)\n",
    "ft = np.fft.fftshift(ft)\n",
    "plt.subplot(122)\n",
    "plt.imshow(abs(ft))\n",
    "plt.xlim([40, 60])\n",
    "plt.ylim([60, 40])  # Note, order is reversed for y\n",
    "plt.show()\n",
    "print(len(x))"
   ]
  },
  {
   "cell_type": "code",
   "execution_count": 2,
   "id": "7458b8ec",
   "metadata": {},
   "outputs": [
    {
     "data": {
      "image/png": "[encoded data removed]",
      "text/plain": [
       "<Figure size 432x288 with 2 Axes>"
      ]
     },
     "metadata": {
      "needs_background": "light"
     },
     "output_type": "display_data"
    },
    {
     "name": "stdout",
     "output_type": "stream",
     "text": [
      "[ 0  1  2  3  4  5  6  7  8  9 10 11 12 13 14 15 16 17 18 19 20 21 22 23\n",
      " 24 25 26 27 28 29 30 31 32 33 34 35 36 37 38 39 40 41 42 43 44 45 46 47\n",
      " 48 49 50 51 52 53 54 55 56 57 58 59 60 61 62 63 64 65 66 67 68 69 70 71\n",
      " 72 73 74 75 76 77 78 79 80 81 82 83 84 85 86 87 88 89 90 91 92 93 94 95\n",
      " 96 97 98 99]\n",
      "100\n"
     ]
    }
   ],
   "source": [
    "# gratings.py\n",
    "import numpy as np\n",
    "import matplotlib.pyplot as plt\n",
    "x = np.arange(0, 100, 1)\n",
    "X, Y = np.meshgrid(x, x)\n",
    "wavelength = 20\n",
    "angle = 0\n",
    "grating = np.sin(\n",
    "    2*np.pi*(X*np.cos(angle) + Y*np.sin(angle)) / wavelength\n",
    ")\n",
    "plt.set_cmap(\"gray\")\n",
    "plt.subplot(121)\n",
    "plt.imshow(grating)\n",
    "# Calculate Fourier transform of grating\n",
    "ft = np.fft.ifftshift(grating)\n",
    "ft = np.fft.fft2(ft)\n",
    "ft = np.fft.fftshift(ft)\n",
    "plt.subplot(122)\n",
    "plt.imshow(abs(ft))\n",
    "#plt.xlim([40, 60])\n",
    "#plt.ylim([60, 40])  # Note, order is reversed for y\n",
    "plt.show()\n",
    "print(x)\n",
    "print(len(x))"
   ]
  },
  {
   "cell_type": "markdown",
   "id": "d7725eeb",
   "metadata": {},
   "source": [
    "## generator2"
   ]
  },
  {
   "cell_type": "code",
   "execution_count": null,
   "id": "e238a537",
   "metadata": {},
   "outputs": [],
   "source": [
    "import numpy as np\n",
    "import matplotlib.pyplot as plt\n",
    "import ipynb.fs.full.generator2 as gen2\n",
    "grating = gen2.sinusoidal_grating(100, 20, 0)\n",
    "plt.set_cmap(\"gray\")\n",
    "plt.subplot(121)\n",
    "plt.imshow(grating)\n",
    "# Calculate Fourier transform of grating\n",
    "ft = np.fft.ifftshift(grating)\n",
    "ft = np.fft.fft2(ft)\n",
    "ft = np.fft.fftshift(ft)\n",
    "plt.subplot(122)\n",
    "plt.imshow(abs(ft))\n",
    "#plt.xlim([40, 60])\n",
    "#plt.ylim([60, 40])  # Note, order is reversed for y\n",
    "plt.show()\n",
    "print(max(map(max, abs(ft))))"
   ]
  },
  {
   "cell_type": "code",
   "execution_count": 4,
   "id": "05f24b89",
   "metadata": {},
   "outputs": [
    {
     "data": {
      "image/png": "[encoded data removed]",
      "text/plain": [
       "<Figure size 432x288 with 2 Axes>"
      ]
     },
     "metadata": {
      "needs_background": "light"
     },
     "output_type": "display_data"
    }
   ],
   "source": [
    "import numpy as np\n",
    "import matplotlib.pyplot as plt\n",
    "import ipynb.fs.full.generator2 as gen2\n",
    "from PIL import Image\n",
    "#grating = gen2.sinusoidal_grating(100, 20, 0)\n",
    "im_out = gen2.create_png_image_sinusoidal_grating(Image, 100, 20, 0)\n",
    "ofname = \"data5/sin_grat_test.png\"\n",
    "im_out.save(ofname, 'PNG')\n",
    "\n",
    "ifname = f\"{ofname}\"\n",
    "im_in = plt.imread(ifname).astype(float)\n",
    "\n",
    "plt.set_cmap(\"gray\")\n",
    "plt.subplot(121)\n",
    "plt.imshow(im_in)\n",
    "# Calculate Fourier transform of grating\n",
    "ft = np.fft.ifftshift(im_in)\n",
    "ft = np.fft.fft2(ft)\n",
    "ft = np.fft.fftshift(ft)\n",
    "plt.subplot(122)\n",
    "plt.imshow(abs(ft))\n",
    "plt.xlim([30, 70])\n",
    "plt.ylim([70, 30])  # Note, order is reversed for y\n",
    "plt.show()"
   ]
  },
  {
   "cell_type": "code",
   "execution_count": null,
   "id": "ae8f6407",
   "metadata": {},
   "outputs": [],
   "source": []
  }
 ],
 "metadata": {
  "authors": [
   {
    "name": "Sparisoma Viridi"
   }
  ],
  "kernelspec": {
   "display_name": "Python 3 (ipykernel)",
   "language": "python",
   "name": "python3"
  },
  "language_info": {
   "codemirror_mode": {
    "name": "ipython",
    "version": 3
   },
   "file_extension": ".py",
   "mimetype": "text/x-python",
   "name": "python",
   "nbconvert_exporter": "python",
   "pygments_lexer": "ipython3",
   "version": "3.10.9"
  },
  "title": "sine_grating_fft"
 },
 "nbformat": 4,
 "nbformat_minor": 5
}
