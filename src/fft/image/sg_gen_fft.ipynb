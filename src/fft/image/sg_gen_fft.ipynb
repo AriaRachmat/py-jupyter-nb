{
 "cells": [
  {
   "cell_type": "markdown",
   "id": "cca11c7c",
   "metadata": {},
   "source": [
    "# sg_gen_fft\n",
    "Generate sinusoidal grating images, perform FFT from them, display results."
   ]
  },
  {
   "cell_type": "markdown",
   "id": "5318ecca",
   "metadata": {},
   "source": [
    "## data3"
   ]
  },
  {
   "cell_type": "code",
   "execution_count": 1,
   "id": "18598676",
   "metadata": {},
   "outputs": [],
   "source": [
    "folder = 'data3'"
   ]
  },
  {
   "cell_type": "markdown",
   "id": "f88644c1",
   "metadata": {},
   "source": [
    "## case 1"
   ]
  },
  {
   "cell_type": "code",
   "execution_count": 2,
   "id": "feeccf08",
   "metadata": {},
   "outputs": [],
   "source": [
    "# create original image of sinusoidal grating and save it to file\n",
    "import numpy as np\n",
    "from PIL import Image\n",
    "import ipynb.fs.full.generator2 as sg\n",
    "\n",
    "size = 100\n",
    "wavelength = 50\n",
    "angle = 0.00 * np.pi\n",
    "ofname = f\"{folder}/sg_s{size}_l{wavelength}.png\"\n",
    "\n",
    "im_out = sg.create_png_image_sinusoidal_grating(Image, size, wavelength, angle)\n",
    "im_out.save(ofname, 'PNG')"
   ]
  },
  {
   "cell_type": "code",
   "execution_count": 3,
   "id": "d4358fa6",
   "metadata": {
    "scrolled": true
   },
   "outputs": [
    {
     "name": "stdout",
     "output_type": "stream",
     "text": [
      "width = 100\n",
      "height = 100\n"
     ]
    },
    {
     "data": {
      "image/png": "[encoded data removed]",
      "text/plain": [
       "<Figure size 432x288 with 1 Axes>"
      ]
     },
     "metadata": {
      "needs_background": "light"
     },
     "output_type": "display_data"
    }
   ],
   "source": [
    "# read images from file\n",
    "import matplotlib.pyplot as plt\n",
    "\n",
    "ifname = f\"{ofname}\"\n",
    "im_in = plt.imread(ifname).astype(float)\n",
    "height = len(im_in)\n",
    "width = len(im_in[0])\n",
    "print(\"width =\", width)\n",
    "print(\"height =\", height)\n",
    "\n",
    "plt.imshow(im_in, cmap='gray')\n",
    "plt.show()"
   ]
  },
  {
   "cell_type": "code",
   "execution_count": 4,
   "id": "b6aca3b7",
   "metadata": {},
   "outputs": [],
   "source": [
    "# perform fast fourier transform\n",
    "import matplotlib.pyplot as plt\n",
    "from scipy import fftpack\n",
    "import numpy as np\n",
    "\n",
    "ofname_fft = f\"{folder}/fft_s{size}_l{wavelength}.png\"\n",
    "\n",
    "im_fft = np.abs(fftpack.fft2(im_in))\n",
    "im_fft_normalize = im_fft.astype('uint8')\n",
    "plt.imsave(ofname_fft, im_fft_normalize, cmap='gray', format='PNG')"
   ]
  },
  {
   "cell_type": "code",
   "execution_count": 5,
   "id": "13525f44",
   "metadata": {
    "scrolled": true
   },
   "outputs": [
    {
     "name": "stdout",
     "output_type": "stream",
     "text": [
      "width = 100\n",
      "height = 100\n"
     ]
    },
    {
     "data": {
      "image/png": "[encoded data removed]",
      "text/plain": [
       "<Figure size 432x288 with 1 Axes>"
      ]
     },
     "metadata": {
      "needs_background": "light"
     },
     "output_type": "display_data"
    }
   ],
   "source": [
    "# read images from file\n",
    "import matplotlib.pyplot as plt\n",
    "\n",
    "ifname_fft = f\"{ofname_fft}\"\n",
    "im_in_fft = plt.imread(ofname_fft).astype(float)\n",
    "height = len(im_in_fft)\n",
    "width = len(im_in_fft[0])\n",
    "print(\"width =\", width)\n",
    "print(\"height =\", height)\n",
    "\n",
    "plt.imshow(im_in_fft, cmap='gray')\n",
    "plt.show()"
   ]
  },
  {
   "cell_type": "code",
   "execution_count": 9,
   "id": "d50d63a5",
   "metadata": {
    "scrolled": false
   },
   "outputs": [
    {
     "data": {
      "image/png": "[encoded data removed]",
      "text/plain": [
       "<Figure size 432x288 with 1 Axes>"
      ]
     },
     "metadata": {
      "needs_background": "light"
     },
     "output_type": "display_data"
    }
   ],
   "source": [
    "plt.ylim([0,2])\n",
    "plt.imshow(im_in_fft, cmap='gray')\n",
    "plt.show()"
   ]
  },
  {
   "cell_type": "markdown",
   "id": "71be6ef8",
   "metadata": {},
   "source": [
    "## case 2"
   ]
  },
  {
   "cell_type": "code",
   "execution_count": 10,
   "id": "61edc809",
   "metadata": {},
   "outputs": [],
   "source": [
    "# create original image of sinusoidal grating and save it to file\n",
    "import numpy as np\n",
    "from PIL import Image\n",
    "import ipynb.fs.full.generator2 as sg\n",
    "\n",
    "size = 100\n",
    "wavelength = 25\n",
    "angle = 0.00 * np.pi\n",
    "ofname = f\"{folder}/sg_s{size}_l{wavelength}.png\"\n",
    "\n",
    "im_out = sg.create_png_image_sinusoidal_grating(Image, size, wavelength, angle)\n",
    "im_out.save(ofname, 'PNG')"
   ]
  },
  {
   "cell_type": "code",
   "execution_count": 11,
   "id": "56641473",
   "metadata": {
    "scrolled": true
   },
   "outputs": [
    {
     "name": "stdout",
     "output_type": "stream",
     "text": [
      "width = 100\n",
      "height = 100\n"
     ]
    },
    {
     "data": {
      "image/png": "[encoded data removed]",
      "text/plain": [
       "<Figure size 432x288 with 1 Axes>"
      ]
     },
     "metadata": {
      "needs_background": "light"
     },
     "output_type": "display_data"
    }
   ],
   "source": [
    "# read images from file\n",
    "import matplotlib.pyplot as plt\n",
    "\n",
    "ifname = f\"{ofname}\"\n",
    "im_in = plt.imread(ifname).astype(float)\n",
    "height = len(im_in)\n",
    "width = len(im_in[0])\n",
    "print(\"width =\", width)\n",
    "print(\"height =\", height)\n",
    "\n",
    "plt.imshow(im_in, cmap='gray')\n",
    "plt.show()"
   ]
  },
  {
   "cell_type": "code",
   "execution_count": 12,
   "id": "c71d5427",
   "metadata": {},
   "outputs": [],
   "source": [
    "# perform fast fourier transform\n",
    "import matplotlib.pyplot as plt\n",
    "from scipy import fftpack\n",
    "import numpy as np\n",
    "\n",
    "ofname_fft = f\"{folder}/fft_s{size}_l{wavelength}.png\"\n",
    "\n",
    "im_fft = np.abs(fftpack.fft2(im_in))\n",
    "im_fft_normalize = im_fft.astype('uint8')\n",
    "plt.imsave(ofname_fft, im_fft_normalize, cmap='gray', format='PNG')"
   ]
  },
  {
   "cell_type": "code",
   "execution_count": 13,
   "id": "0841779e",
   "metadata": {
    "scrolled": true
   },
   "outputs": [
    {
     "name": "stdout",
     "output_type": "stream",
     "text": [
      "width = 100\n",
      "height = 100\n"
     ]
    },
    {
     "data": {
      "image/png": "[encoded data removed]",
      "text/plain": [
       "<Figure size 432x288 with 1 Axes>"
      ]
     },
     "metadata": {
      "needs_background": "light"
     },
     "output_type": "display_data"
    }
   ],
   "source": [
    "# read images from file\n",
    "import matplotlib.pyplot as plt\n",
    "\n",
    "ifname_fft = f\"{ofname_fft}\"\n",
    "im_in_fft = plt.imread(ofname_fft).astype(float)\n",
    "height = len(im_in_fft)\n",
    "width = len(im_in_fft[0])\n",
    "print(\"width =\", width)\n",
    "print(\"height =\", height)\n",
    "\n",
    "plt.imshow(im_in_fft, cmap='gray')\n",
    "plt.show()"
   ]
  },
  {
   "cell_type": "code",
   "execution_count": 14,
   "id": "5bbbd978",
   "metadata": {
    "scrolled": false
   },
   "outputs": [
    {
     "data": {
      "image/png": "[encoded data removed]",
      "text/plain": [
       "<Figure size 432x288 with 1 Axes>"
      ]
     },
     "metadata": {
      "needs_background": "light"
     },
     "output_type": "display_data"
    }
   ],
   "source": [
    "plt.ylim([0,2])\n",
    "plt.imshow(im_in_fft, cmap='gray')\n",
    "plt.show()"
   ]
  },
  {
   "cell_type": "markdown",
   "id": "2003b87e",
   "metadata": {},
   "source": [
    "## case 3"
   ]
  },
  {
   "cell_type": "code",
   "execution_count": 17,
   "id": "ee05e4cc",
   "metadata": {},
   "outputs": [],
   "source": [
    "# create original image of sinusoidal grating and save it to file\n",
    "import numpy as np\n",
    "from PIL import Image\n",
    "import ipynb.fs.full.generator2 as sg\n",
    "\n",
    "size = 100\n",
    "wavelength = 10\n",
    "angle = 0.00 * np.pi\n",
    "ofname = f\"{folder}/sg_s{size}_l{wavelength}.png\"\n",
    "\n",
    "im_out = sg.create_png_image_sinusoidal_grating(Image, size, wavelength, angle)\n",
    "im_out.save(ofname, 'PNG')"
   ]
  },
  {
   "cell_type": "code",
   "execution_count": 18,
   "id": "f3fdf3c7",
   "metadata": {
    "scrolled": true
   },
   "outputs": [
    {
     "name": "stdout",
     "output_type": "stream",
     "text": [
      "width = 100\n",
      "height = 100\n"
     ]
    },
    {
     "data": {
      "image/png": "[encoded data removed]",
      "text/plain": [
       "<Figure size 432x288 with 1 Axes>"
      ]
     },
     "metadata": {
      "needs_background": "light"
     },
     "output_type": "display_data"
    }
   ],
   "source": [
    "# read images from file\n",
    "import matplotlib.pyplot as plt\n",
    "\n",
    "ifname = f\"{ofname}\"\n",
    "im_in = plt.imread(ifname).astype(float)\n",
    "height = len(im_in)\n",
    "width = len(im_in[0])\n",
    "print(\"width =\", width)\n",
    "print(\"height =\", height)\n",
    "\n",
    "plt.imshow(im_in, cmap='gray')\n",
    "plt.show()"
   ]
  },
  {
   "cell_type": "code",
   "execution_count": 19,
   "id": "67344247",
   "metadata": {},
   "outputs": [],
   "source": [
    "# perform fast fourier transform\n",
    "import matplotlib.pyplot as plt\n",
    "from scipy import fftpack\n",
    "import numpy as np\n",
    "\n",
    "ofname_fft = f\"{folder}/fft_s{size}_l{wavelength}.png\"\n",
    "\n",
    "im_fft = np.abs(fftpack.fft2(im_in))\n",
    "im_fft_normalize = im_fft.astype('uint8')\n",
    "plt.imsave(ofname_fft, im_fft_normalize, cmap='gray', format='PNG')"
   ]
  },
  {
   "cell_type": "code",
   "execution_count": 20,
   "id": "76d894c8",
   "metadata": {
    "scrolled": true
   },
   "outputs": [
    {
     "name": "stdout",
     "output_type": "stream",
     "text": [
      "width = 100\n",
      "height = 100\n"
     ]
    },
    {
     "data": {
      "image/png": "[encoded data removed]",
      "text/plain": [
       "<Figure size 432x288 with 1 Axes>"
      ]
     },
     "metadata": {
      "needs_background": "light"
     },
     "output_type": "display_data"
    }
   ],
   "source": [
    "# read images from file\n",
    "import matplotlib.pyplot as plt\n",
    "\n",
    "ifname_fft = f\"{ofname_fft}\"\n",
    "im_in_fft = plt.imread(ofname_fft).astype(float)\n",
    "height = len(im_in_fft)\n",
    "width = len(im_in_fft[0])\n",
    "print(\"width =\", width)\n",
    "print(\"height =\", height)\n",
    "\n",
    "plt.imshow(im_in_fft, cmap='gray')\n",
    "plt.show()"
   ]
  },
  {
   "cell_type": "code",
   "execution_count": 21,
   "id": "22a0fbbb",
   "metadata": {
    "scrolled": false
   },
   "outputs": [
    {
     "data": {
      "image/png": "[encoded data removed]",
      "text/plain": [
       "<Figure size 432x288 with 1 Axes>"
      ]
     },
     "metadata": {
      "needs_background": "light"
     },
     "output_type": "display_data"
    }
   ],
   "source": [
    "plt.ylim([0,2])\n",
    "plt.imshow(im_in_fft, cmap='gray')\n",
    "plt.show()"
   ]
  },
  {
   "cell_type": "markdown",
   "id": "6d4e5c9c",
   "metadata": {},
   "source": [
    "## case 4"
   ]
  },
  {
   "cell_type": "code",
   "execution_count": 22,
   "id": "e0b34727",
   "metadata": {},
   "outputs": [],
   "source": [
    "# create original image of sinusoidal grating and save it to file\n",
    "import numpy as np\n",
    "from PIL import Image\n",
    "import ipynb.fs.full.generator2 as sg\n",
    "\n",
    "size = 100\n",
    "wavelength = 5\n",
    "angle = 0.00 * np.pi\n",
    "ofname = f\"{folder}/sg_s{size}_l{wavelength}.png\"\n",
    "\n",
    "im_out = sg.create_png_image_sinusoidal_grating(Image, size, wavelength, angle)\n",
    "im_out.save(ofname, 'PNG')"
   ]
  },
  {
   "cell_type": "code",
   "execution_count": 23,
   "id": "198084c4",
   "metadata": {
    "scrolled": true
   },
   "outputs": [
    {
     "name": "stdout",
     "output_type": "stream",
     "text": [
      "width = 100\n",
      "height = 100\n"
     ]
    },
    {
     "data": {
      "image/png": "[encoded data removed]",
      "text/plain": [
       "<Figure size 432x288 with 1 Axes>"
      ]
     },
     "metadata": {
      "needs_background": "light"
     },
     "output_type": "display_data"
    }
   ],
   "source": [
    "# read images from file\n",
    "import matplotlib.pyplot as plt\n",
    "\n",
    "ifname = f\"{ofname}\"\n",
    "im_in = plt.imread(ifname).astype(float)\n",
    "height = len(im_in)\n",
    "width = len(im_in[0])\n",
    "print(\"width =\", width)\n",
    "print(\"height =\", height)\n",
    "\n",
    "plt.imshow(im_in, cmap='gray')\n",
    "plt.show()"
   ]
  },
  {
   "cell_type": "code",
   "execution_count": 24,
   "id": "130428c8",
   "metadata": {},
   "outputs": [],
   "source": [
    "# perform fast fourier transform\n",
    "import matplotlib.pyplot as plt\n",
    "from scipy import fftpack\n",
    "import numpy as np\n",
    "\n",
    "ofname_fft = f\"{folder}/fft_s{size}_l{wavelength}.png\"\n",
    "\n",
    "im_fft = np.abs(fftpack.fft2(im_in))\n",
    "im_fft_normalize = im_fft.astype('uint8')\n",
    "plt.imsave(ofname_fft, im_fft_normalize, cmap='gray', format='PNG')"
   ]
  },
  {
   "cell_type": "code",
   "execution_count": 25,
   "id": "7425906d",
   "metadata": {
    "scrolled": true
   },
   "outputs": [
    {
     "name": "stdout",
     "output_type": "stream",
     "text": [
      "width = 100\n",
      "height = 100\n"
     ]
    },
    {
     "data": {
      "image/png": "[encoded data removed]",
      "text/plain": [
       "<Figure size 432x288 with 1 Axes>"
      ]
     },
     "metadata": {
      "needs_background": "light"
     },
     "output_type": "display_data"
    }
   ],
   "source": [
    "# read images from file\n",
    "import matplotlib.pyplot as plt\n",
    "\n",
    "ifname_fft = f\"{ofname_fft}\"\n",
    "im_in_fft = plt.imread(ofname_fft).astype(float)\n",
    "height = len(im_in_fft)\n",
    "width = len(im_in_fft[0])\n",
    "print(\"width =\", width)\n",
    "print(\"height =\", height)\n",
    "\n",
    "plt.imshow(im_in_fft, cmap='gray')\n",
    "plt.show()"
   ]
  },
  {
   "cell_type": "code",
   "execution_count": 26,
   "id": "575f7a0e",
   "metadata": {
    "scrolled": true
   },
   "outputs": [
    {
     "data": {
      "image/png": "[encoded data removed]",
      "text/plain": [
       "<Figure size 432x288 with 1 Axes>"
      ]
     },
     "metadata": {
      "needs_background": "light"
     },
     "output_type": "display_data"
    }
   ],
   "source": [
    "plt.ylim([0,2])\n",
    "plt.imshow(im_in_fft, cmap='gray')\n",
    "plt.show()"
   ]
  },
  {
   "cell_type": "code",
   "execution_count": null,
   "id": "9714e9ae",
   "metadata": {},
   "outputs": [],
   "source": []
  }
 ],
 "metadata": {
  "authors": [
   {
    "name": "Sparisoma Viridi"
   }
  ],
  "kernelspec": {
   "display_name": "Python 3 (ipykernel)",
   "language": "python",
   "name": "python3"
  },
  "language_info": {
   "codemirror_mode": {
    "name": "ipython",
    "version": 3
   },
   "file_extension": ".py",
   "mimetype": "text/x-python",
   "name": "python",
   "nbconvert_exporter": "python",
   "pygments_lexer": "ipython3",
   "version": "3.10.9"
  },
  "title": "sg_gen_fft"
 },
 "nbformat": 4,
 "nbformat_minor": 5
}
