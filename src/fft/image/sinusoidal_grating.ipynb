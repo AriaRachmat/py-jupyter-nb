{
 "cells": [
  {
   "cell_type": "markdown",
   "id": "cca11c7c",
   "metadata": {},
   "source": [
    "# sinusoidal_grating\n",
    "Generate sinusoidal grating in a direction (and also other)."
   ]
  },
  {
   "cell_type": "code",
   "execution_count": null,
   "id": "3c0aaf8c",
   "metadata": {},
   "outputs": [],
   "source": [
    "def sin_along_dir(sample, wavelength, angle):\n",
    "    pass"
   ]
  },
  {
   "cell_type": "markdown",
   "id": "7a8fd3ca",
   "metadata": {},
   "source": [
    "## refs\n",
    "1. \"How to Create Any Image Using Only Sine Functions | 2D Fourier Transform in Python\", url https://thepythoncodingbook.com/2021/08/30/2d-fourier-transform-in-python-and-fourier-synthesis-of-images/ [20230206]."
   ]
  },
  {
   "cell_type": "code",
   "execution_count": null,
   "id": "b588d91d",
   "metadata": {},
   "outputs": [],
   "source": []
  }
 ],
 "metadata": {
  "authors": [
   {
    "name": "Sparisoma Viridi"
   }
  ],
  "kernelspec": {
   "display_name": "Python 3 (ipykernel)",
   "language": "python",
   "name": "python3"
  },
  "language_info": {
   "codemirror_mode": {
    "name": "ipython",
    "version": 3
   },
   "file_extension": ".py",
   "mimetype": "text/x-python",
   "name": "python",
   "nbconvert_exporter": "python",
   "pygments_lexer": "ipython3",
   "version": "3.9.12"
  },
  "title": "sinusoidal_grating"
 },
 "nbformat": 4,
 "nbformat_minor": 5
}
