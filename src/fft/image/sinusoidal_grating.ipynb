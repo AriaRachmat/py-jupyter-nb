{
 "cells": [
  {
   "cell_type": "markdown",
   "id": "cca11c7c",
   "metadata": {},
   "source": [
    "# sinusoidal_grating\n",
    "Generate sinusoidal grating in a direction (and also other)."
   ]
  },
  {
   "cell_type": "code",
   "execution_count": 1,
   "id": "3c0aaf8c",
   "metadata": {},
   "outputs": [],
   "source": [
    "def sindir(sample, wavelength, angle):\n",
    "    xmin = 0\n",
    "    xmax = sample\n",
    "    x = np.arange(xmin, xmax, 1)\n",
    "    X, Y = np.meshgrid(x, x)\n",
    "    Z = X * np.cos(angle) + Y * np.sin(angle)\n",
    "    grating = np.sin(2 * np.pi * Z / wavelength)\n",
    "    return grating\n",
    "\n",
    "def test_sindir():\n",
    "    g = sindir(100, 20, 0.0 * np.pi)\n",
    "    plt.imshow(g, cmap='gray')\n",
    "    plt.show()"
   ]
  },
  {
   "cell_type": "code",
   "execution_count": 19,
   "id": "6fe0c445",
   "metadata": {},
   "outputs": [
    {
     "name": "stdout",
     "output_type": "stream",
     "text": [
      "deg  rad   file\n",
      "000  0.00  sg_000.png\n",
      "015  0.26  sg_015.png\n",
      "030  0.52  sg_030.png\n",
      "045  0.79  sg_045.png\n",
      "060  1.05  sg_060.png\n",
      "075  1.31  sg_075.png\n",
      "090  1.57  sg_090.png\n",
      "105  1.83  sg_105.png\n",
      "120  2.09  sg_120.png\n",
      "135  2.36  sg_135.png\n",
      "150  2.62  sg_150.png\n",
      "165  2.88  sg_165.png\n",
      "180  3.14  sg_180.png\n",
      "195  3.40  sg_195.png\n",
      "210  3.67  sg_210.png\n",
      "225  3.93  sg_225.png\n",
      "240  4.19  sg_240.png\n",
      "255  4.45  sg_255.png\n",
      "270  4.71  sg_270.png\n",
      "285  4.97  sg_285.png\n",
      "300  5.24  sg_300.png\n",
      "315  5.50  sg_315.png\n",
      "330  5.76  sg_330.png\n",
      "345  6.02  sg_345.png\n"
     ]
    }
   ],
   "source": [
    "angles = [i * 15 for i in range(24)]\n",
    "print(\"deg  rad   file\")\n",
    "for deg in angles:\n",
    "    rad = deg / 180 * np.pi\n",
    "    print(f\"{deg:03}  {rad:.2f}  sg_{deg:03}.png\")"
   ]
  },
  {
   "cell_type": "markdown",
   "id": "7a8fd3ca",
   "metadata": {},
   "source": [
    "## refs\n",
    "1. \"How to Create Any Image Using Only Sine Functions | 2D Fourier Transform in Python\", url https://thepythoncodingbook.com/2021/08/30/2d-fourier-transform-in-python-and-fourier-synthesis-of-images/ [20230206]."
   ]
  },
  {
   "cell_type": "code",
   "execution_count": null,
   "id": "63af05b2",
   "metadata": {},
   "outputs": [],
   "source": []
  }
 ],
 "metadata": {
  "authors": [
   {
    "name": "Sparisoma Viridi"
   }
  ],
  "kernelspec": {
   "display_name": "Python 3 (ipykernel)",
   "language": "python",
   "name": "python3"
  },
  "language_info": {
   "codemirror_mode": {
    "name": "ipython",
    "version": 3
   },
   "file_extension": ".py",
   "mimetype": "text/x-python",
   "name": "python",
   "nbconvert_exporter": "python",
   "pygments_lexer": "ipython3",
   "version": "3.10.9"
  },
  "title": "sinusoidal_grating"
 },
 "nbformat": 4,
 "nbformat_minor": 5
}
