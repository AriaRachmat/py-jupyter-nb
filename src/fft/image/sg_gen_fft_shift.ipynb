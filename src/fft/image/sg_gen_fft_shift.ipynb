{
 "cells": [
  {
   "cell_type": "markdown",
   "id": "cca11c7c",
   "metadata": {},
   "source": [
    "# sg_gen_fft_shift\n",
    "Generate sinusoidal grating images, perform FFT from them, display results."
   ]
  },
  {
   "cell_type": "code",
   "execution_count": 1,
   "id": "0f0d080d",
   "metadata": {},
   "outputs": [],
   "source": [
    "folder = 'data4'"
   ]
  },
  {
   "cell_type": "markdown",
   "id": "e4b24367",
   "metadata": {},
   "source": [
    "## $\\lambda = 50$, $L/\\lambda = 2$"
   ]
  },
  {
   "cell_type": "code",
   "execution_count": 2,
   "id": "849256c4",
   "metadata": {},
   "outputs": [],
   "source": [
    "# create original image of sinusoidal grating and save it to file\n",
    "import numpy as np\n",
    "from PIL import Image\n",
    "import ipynb.fs.full.generator2 as sg\n",
    "\n",
    "size = 100\n",
    "wavelength = 50\n",
    "angle = 0.00 * np.pi\n",
    "ofname = f\"{folder}/sg_s{size}_l{wavelength}.png\"\n",
    "\n",
    "im_out = sg.create_png_image_sinusoidal_grating(Image, size, wavelength, angle)\n",
    "im_out.save(ofname, 'PNG')"
   ]
  },
  {
   "cell_type": "code",
   "execution_count": 3,
   "id": "11773dc8",
   "metadata": {
    "scrolled": false
   },
   "outputs": [
    {
     "name": "stdout",
     "output_type": "stream",
     "text": [
      "width = 100\n",
      "height = 100\n"
     ]
    },
    {
     "data": {
      "image/png": "[encoded data removed]",
      "text/plain": [
       "<Figure size 432x288 with 1 Axes>"
      ]
     },
     "metadata": {
      "needs_background": "light"
     },
     "output_type": "display_data"
    }
   ],
   "source": [
    "# read images from file\n",
    "import matplotlib.pyplot as plt\n",
    "\n",
    "ifname = f\"{ofname}\"\n",
    "im_in = plt.imread(ifname).astype(float)\n",
    "height = len(im_in)\n",
    "width = len(im_in[0])\n",
    "print(\"width =\", width)\n",
    "print(\"height =\", height)\n",
    "\n",
    "plt.imshow(im_in, cmap='gray')\n",
    "plt.show()"
   ]
  },
  {
   "cell_type": "code",
   "execution_count": 14,
   "id": "27a0afe5",
   "metadata": {},
   "outputs": [],
   "source": [
    "# perform fast fourier transform\n",
    "import matplotlib.pyplot as plt\n",
    "#from scipy import fftpack\n",
    "import numpy as np\n",
    "\n",
    "ofname_fft = f\"{folder}/fft_s{size}_l{wavelength}.png\"\n",
    "\n",
    "im_fft = np.fft.ifftshift(im_in)\n",
    "im_fft = np.fft.fft2(im_fft)\n",
    "im_fft = np.fft.fftshift(im_fft)\n",
    "im_fft = np.abs(im_fft)\n",
    "\n",
    "im_fft_normalize = im_fft.astype('uint8')\n",
    "plt.imsave(ofname_fft, im_fft_normalize, cmap='gray', format='PNG')"
   ]
  },
  {
   "cell_type": "code",
   "execution_count": 15,
   "id": "ef2f1286",
   "metadata": {
    "scrolled": true
   },
   "outputs": [
    {
     "name": "stdout",
     "output_type": "stream",
     "text": [
      "width = 100\n",
      "height = 100\n"
     ]
    },
    {
     "data": {
      "image/png": "[encoded data removed]",
      "text/plain": [
       "<Figure size 432x288 with 1 Axes>"
      ]
     },
     "metadata": {
      "needs_background": "light"
     },
     "output_type": "display_data"
    }
   ],
   "source": [
    "# read images from file\n",
    "import matplotlib.pyplot as plt\n",
    "\n",
    "ifname_fft = f\"{ofname_fft}\"\n",
    "im_in_fft = plt.imread(ofname_fft).astype(float)\n",
    "height = len(im_in_fft)\n",
    "width = len(im_in_fft[0])\n",
    "print(\"width =\", width)\n",
    "print(\"height =\", height)\n",
    "\n",
    "plt.imshow(im_in_fft, cmap='gray')\n",
    "plt.show()"
   ]
  },
  {
   "cell_type": "code",
   "execution_count": 18,
   "id": "e078ce41",
   "metadata": {
    "scrolled": true
   },
   "outputs": [
    {
     "data": {
      "image/png": "[encoded data removed]",
      "text/plain": [
       "<Figure size 432x288 with 1 Axes>"
      ]
     },
     "metadata": {
      "needs_background": "light"
     },
     "output_type": "display_data"
    }
   ],
   "source": [
    "plt.xlim([45,55])\n",
    "plt.ylim([45,55])\n",
    "plt.imshow(im_in_fft, cmap='gray')\n",
    "plt.show()"
   ]
  },
  {
   "cell_type": "markdown",
   "id": "9bd539cc",
   "metadata": {},
   "source": [
    "## $\\lambda = 20$, $L /\\lambda = 5$"
   ]
  },
  {
   "cell_type": "code",
   "execution_count": 19,
   "id": "442ed40f",
   "metadata": {},
   "outputs": [],
   "source": [
    "# create original image of sinusoidal grating and save it to file\n",
    "import numpy as np\n",
    "from PIL import Image\n",
    "import ipynb.fs.full.generator2 as sg\n",
    "\n",
    "size = 100\n",
    "wavelength = 20\n",
    "angle = 0.00 * np.pi\n",
    "ofname = f\"{folder}/sg_s{size}_l{wavelength}.png\"\n",
    "\n",
    "im_out = sg.create_png_image_sinusoidal_grating(Image, size, wavelength, angle)\n",
    "im_out.save(ofname, 'PNG')"
   ]
  },
  {
   "cell_type": "code",
   "execution_count": 20,
   "id": "231a8403",
   "metadata": {
    "scrolled": false
   },
   "outputs": [
    {
     "name": "stdout",
     "output_type": "stream",
     "text": [
      "width = 100\n",
      "height = 100\n"
     ]
    },
    {
     "data": {
      "image/png": "[encoded data removed]",
      "text/plain": [
       "<Figure size 432x288 with 1 Axes>"
      ]
     },
     "metadata": {
      "needs_background": "light"
     },
     "output_type": "display_data"
    }
   ],
   "source": [
    "# read images from file\n",
    "import matplotlib.pyplot as plt\n",
    "\n",
    "ifname = f\"{ofname}\"\n",
    "im_in = plt.imread(ifname).astype(float)\n",
    "height = len(im_in)\n",
    "width = len(im_in[0])\n",
    "print(\"width =\", width)\n",
    "print(\"height =\", height)\n",
    "\n",
    "plt.imshow(im_in, cmap='gray')\n",
    "plt.show()"
   ]
  },
  {
   "cell_type": "code",
   "execution_count": 21,
   "id": "65fa984b",
   "metadata": {},
   "outputs": [],
   "source": [
    "# perform fast fourier transform\n",
    "import matplotlib.pyplot as plt\n",
    "#from scipy import fftpack\n",
    "import numpy as np\n",
    "\n",
    "ofname_fft = f\"{folder}/fft_s{size}_l{wavelength}.png\"\n",
    "\n",
    "im_fft = np.fft.ifftshift(im_in)\n",
    "im_fft = np.fft.fft2(im_fft)\n",
    "im_fft = np.fft.fftshift(im_fft)\n",
    "im_fft = np.abs(im_fft)\n",
    "\n",
    "im_fft_normalize = im_fft.astype('uint8')\n",
    "plt.imsave(ofname_fft, im_fft_normalize, cmap='gray', format='PNG')"
   ]
  },
  {
   "cell_type": "code",
   "execution_count": 22,
   "id": "d944f93a",
   "metadata": {
    "scrolled": true
   },
   "outputs": [
    {
     "name": "stdout",
     "output_type": "stream",
     "text": [
      "width = 100\n",
      "height = 100\n"
     ]
    },
    {
     "data": {
      "image/png": "[encoded data removed]",
      "text/plain": [
       "<Figure size 432x288 with 1 Axes>"
      ]
     },
     "metadata": {
      "needs_background": "light"
     },
     "output_type": "display_data"
    }
   ],
   "source": [
    "# read images from file\n",
    "import matplotlib.pyplot as plt\n",
    "\n",
    "ifname_fft = f\"{ofname_fft}\"\n",
    "im_in_fft = plt.imread(ofname_fft).astype(float)\n",
    "height = len(im_in_fft)\n",
    "width = len(im_in_fft[0])\n",
    "print(\"width =\", width)\n",
    "print(\"height =\", height)\n",
    "\n",
    "plt.imshow(im_in_fft, cmap='gray')\n",
    "plt.show()"
   ]
  },
  {
   "cell_type": "code",
   "execution_count": 24,
   "id": "6098137f",
   "metadata": {
    "scrolled": true
   },
   "outputs": [
    {
     "data": {
      "image/png": "[encoded data removed]",
      "text/plain": [
       "<Figure size 432x288 with 1 Axes>"
      ]
     },
     "metadata": {
      "needs_background": "light"
     },
     "output_type": "display_data"
    }
   ],
   "source": [
    "plt.xlim([40,60])\n",
    "plt.ylim([45,55])\n",
    "plt.imshow(im_in_fft, cmap='gray')\n",
    "plt.show()"
   ]
  },
  {
   "cell_type": "markdown",
   "id": "4ee3c2fb",
   "metadata": {},
   "source": [
    "## $\\lambda = 50$, $L /\\lambda = 4$"
   ]
  },
  {
   "cell_type": "code",
   "execution_count": 25,
   "id": "01d96f3f",
   "metadata": {},
   "outputs": [],
   "source": [
    "# create original image of sinusoidal grating and save it to file\n",
    "import numpy as np\n",
    "from PIL import Image\n",
    "import ipynb.fs.full.generator2 as sg\n",
    "\n",
    "size = 200\n",
    "wavelength = 50\n",
    "angle = 0.00 * np.pi\n",
    "ofname = f\"{folder}/sg_s{size}_l{wavelength}.png\"\n",
    "\n",
    "im_out = sg.create_png_image_sinusoidal_grating(Image, size, wavelength, angle)\n",
    "im_out.save(ofname, 'PNG')"
   ]
  },
  {
   "cell_type": "code",
   "execution_count": 26,
   "id": "32fd4196",
   "metadata": {
    "scrolled": false
   },
   "outputs": [
    {
     "name": "stdout",
     "output_type": "stream",
     "text": [
      "width = 200\n",
      "height = 200\n"
     ]
    },
    {
     "data": {
      "image/png": "[encoded data removed]",
      "text/plain": [
       "<Figure size 432x288 with 1 Axes>"
      ]
     },
     "metadata": {
      "needs_background": "light"
     },
     "output_type": "display_data"
    }
   ],
   "source": [
    "# read images from file\n",
    "import matplotlib.pyplot as plt\n",
    "\n",
    "ifname = f\"{ofname}\"\n",
    "im_in = plt.imread(ifname).astype(float)\n",
    "height = len(im_in)\n",
    "width = len(im_in[0])\n",
    "print(\"width =\", width)\n",
    "print(\"height =\", height)\n",
    "\n",
    "plt.imshow(im_in, cmap='gray')\n",
    "plt.show()"
   ]
  },
  {
   "cell_type": "code",
   "execution_count": 27,
   "id": "6152a04d",
   "metadata": {},
   "outputs": [],
   "source": [
    "# perform fast fourier transform\n",
    "import matplotlib.pyplot as plt\n",
    "#from scipy import fftpack\n",
    "import numpy as np\n",
    "\n",
    "ofname_fft = f\"{folder}/fft_s{size}_l{wavelength}.png\"\n",
    "\n",
    "im_fft = np.fft.ifftshift(im_in)\n",
    "im_fft = np.fft.fft2(im_fft)\n",
    "im_fft = np.fft.fftshift(im_fft)\n",
    "im_fft = np.abs(im_fft)\n",
    "\n",
    "im_fft_normalize = im_fft.astype('uint8')\n",
    "plt.imsave(ofname_fft, im_fft_normalize, cmap='gray', format='PNG')"
   ]
  },
  {
   "cell_type": "code",
   "execution_count": 28,
   "id": "10586b4d",
   "metadata": {
    "scrolled": true
   },
   "outputs": [
    {
     "name": "stdout",
     "output_type": "stream",
     "text": [
      "width = 200\n",
      "height = 200\n"
     ]
    },
    {
     "data": {
      "image/png": "[encoded data removed]",
      "text/plain": [
       "<Figure size 432x288 with 1 Axes>"
      ]
     },
     "metadata": {
      "needs_background": "light"
     },
     "output_type": "display_data"
    }
   ],
   "source": [
    "# read images from file\n",
    "import matplotlib.pyplot as plt\n",
    "\n",
    "ifname_fft = f\"{ofname_fft}\"\n",
    "im_in_fft = plt.imread(ofname_fft).astype(float)\n",
    "height = len(im_in_fft)\n",
    "width = len(im_in_fft[0])\n",
    "print(\"width =\", width)\n",
    "print(\"height =\", height)\n",
    "\n",
    "plt.imshow(im_in_fft, cmap='gray')\n",
    "plt.show()"
   ]
  },
  {
   "cell_type": "code",
   "execution_count": 34,
   "id": "9909f2b3",
   "metadata": {
    "scrolled": false
   },
   "outputs": [
    {
     "data": {
      "image/png": "[encoded data removed]",
      "text/plain": [
       "<Figure size 432x288 with 1 Axes>"
      ]
     },
     "metadata": {
      "needs_background": "light"
     },
     "output_type": "display_data"
    }
   ],
   "source": [
    "plt.xlim([88,112])\n",
    "plt.ylim([90,110])\n",
    "plt.imshow(im_in_fft, cmap='gray')\n",
    "plt.show()"
   ]
  },
  {
   "cell_type": "markdown",
   "id": "834aa19d",
   "metadata": {},
   "source": [
    "## refs\n",
    "1. \"How to Create Any Image Using Only Sine Functions | 2D Fourier Transform in Python\", url https://thepythoncodingbook.com/2021/08/30/2d-fourier-transform-in-python-and-fourier-synthesis-of-images/ [20230206]"
   ]
  },
  {
   "cell_type": "code",
   "execution_count": null,
   "id": "9cc0466e",
   "metadata": {},
   "outputs": [],
   "source": []
  }
 ],
 "metadata": {
  "authors": [
   {
    "name": "Sparisoma Viridi"
   }
  ],
  "kernelspec": {
   "display_name": "Python 3 (ipykernel)",
   "language": "python",
   "name": "python3"
  },
  "language_info": {
   "codemirror_mode": {
    "name": "ipython",
    "version": 3
   },
   "file_extension": ".py",
   "mimetype": "text/x-python",
   "name": "python",
   "nbconvert_exporter": "python",
   "pygments_lexer": "ipython3",
   "version": "3.10.9"
  },
  "title": "sg_gen_fft_shift"
 },
 "nbformat": 4,
 "nbformat_minor": 5
}
