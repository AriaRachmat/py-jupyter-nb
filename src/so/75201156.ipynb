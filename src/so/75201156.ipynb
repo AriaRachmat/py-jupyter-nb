{
 "cells": [
  {
   "cell_type": "markdown",
   "id": "cca11c7c",
   "metadata": {},
   "source": [
    "# 75201156\n",
    "How to create a looping function displaying whether number is odd or even in Sympy?<br>\n",
    "url https://stackoverflow.com/q/75201156/9475509\n"
   ]
  },
  {
   "cell_type": "markdown",
   "id": "5bf0b1b9",
   "metadata": {},
   "source": [
    "```python\n",
    "    **#Importing the calculus library\n",
    "import sympy\n",
    "\n",
    "\n",
    "#Specifying and defining values of the function\n",
    "\n",
    "print(\"Function?\")\n",
    "y = sympy.Function('y')\n",
    "y = 0.5\n",
    "x = sympy.symbols('x')\n",
    "print(\"Absolute uncertainty?\")\n",
    "n = sympy.symbols('n')\n",
    "n = 0.001\n",
    "print(\"Degree of root?\")\n",
    "m = sympy.symbols('m')\n",
    "m = 2\n",
    "s = sympy.symbols('s')\n",
    "f = sympy.Function('f')\n",
    "f = (1+x)**(1/m)\n",
    "\n",
    "#Calculating absolute relative error as the stopping variable\n",
    "\n",
    "print(f\"Stopping variable: {s}\")\n",
    "\n",
    "\n",
    "#Creating the loop\n",
    "count = 1\n",
    "a = sympy.Function('a')\n",
    "a = sympy.diff(f)\n",
    "af = a.subs(x,0)\n",
    "j = sympy.Function('j')\n",
    "j = 1+((1/sympy.factorial(count))*af)*x**(count)\n",
    "def main():\n",
    "    global a\n",
    "    global af\n",
    "    global count \n",
    "    global j \n",
    "    global s\n",
    "    count = count+1\n",
    "    b = sympy.Function('b')\n",
    "    b = sympy.diff(a)\n",
    "    bf = b.subs(x,0)\n",
    "    r = sympy.Function('r')\n",
    "    r = j+((1/sympy.factorial(count))*bf)*x**(count)\n",
    "    \n",
    "    g = sympy.is_even(count)\n",
    "    g = ask(Q.even(count))\n",
    "    if g == True:\n",
    "    \n",
    "        count = count+1\n",
    "        a = b\n",
    "        af = a.subs(x,0)\n",
    "        j = r+(1/sympy.factorial(count))*af*x**(count)\n",
    "\n",
    "  \n",
    "    main()\n",
    "    \n",
    "    else:\n",
    "        ans = r\n",
    "        res_ans = ans.subs(x, y-1)\n",
    "        print(f\"Answer: {res_ans}\")       \n",
    "main()\n",
    "\n",
    "\n",
    "\n",
    "**\n",
    "```"
   ]
  },
  {
   "cell_type": "markdown",
   "id": "849c87dc",
   "metadata": {},
   "source": [
    "## test part 1"
   ]
  },
  {
   "cell_type": "code",
   "execution_count": 1,
   "id": "ddb12967",
   "metadata": {},
   "outputs": [
    {
     "name": "stdout",
     "output_type": "stream",
     "text": [
      "Function?\n",
      "Absolute uncertainty?\n",
      "Degree of root?\n"
     ]
    }
   ],
   "source": [
    "# Importing the calculus library\n",
    "import sympy\n",
    "\n",
    "# Specifying and defining values of the function\n",
    "print(\"Function?\")\n",
    "y = sympy.Function('y')\n",
    "y = 0.5\n",
    "x = sympy.symbols('x')\n",
    "\n",
    "print(\"Absolute uncertainty?\")\n",
    "n = sympy.symbols('n')\n",
    "n = 0.001\n",
    "\n",
    "print(\"Degree of root?\")\n",
    "m = sympy.symbols('m')\n",
    "m = 2\n",
    "s = sympy.symbols('s')\n",
    "f = sympy.Function('f')\n",
    "f = (1+x)**(1/m)"
   ]
  },
  {
   "cell_type": "markdown",
   "id": "09c9ee1c",
   "metadata": {},
   "source": [
    "## test part 2"
   ]
  },
  {
   "cell_type": "code",
   "execution_count": 12,
   "id": "2a64f812",
   "metadata": {},
   "outputs": [
    {
     "name": "stdout",
     "output_type": "stream",
     "text": [
      "Stopping variable: s\n"
     ]
    }
   ],
   "source": [
    "# Calculating absolute relative error as the stopping variable\n",
    "print(f\"Stopping variable: {s}\")\n",
    "\n",
    "# Creating the loop\n",
    "count = 1\n",
    "a = sympy.Function('a')\n",
    "a = sympy.diff(f)\n",
    "af = a.subs(x,0)\n",
    "j = sympy.Function('j')\n",
    "j = 1+((1/sympy.factorial(count))*af)*x**(count)\n",
    "\n",
    "def main():\n",
    "    global a\n",
    "    global af\n",
    "    global count \n",
    "    global j \n",
    "    global s\n",
    "    count = count+1\n",
    "    b = sympy.Function('b')\n",
    "    b = sympy.diff(a)\n",
    "    bf = b.subs(x,0)\n",
    "    r = sympy.Function('r')\n",
    "    r = j+((1/sympy.factorial(count))*bf)*x**(count)\n",
    "    \n",
    "    g = sympy.simplify(count).is_even\n",
    "    g = sympy.ask(sympy.simplify(count).is_even)\n",
    "    \n",
    "    if g == True:\n",
    "        count = count+1\n",
    "        a = b\n",
    "        af = a.subs(x,0)\n",
    "        j = r+(1/sympy.factorial(count))*af*x**(count)\n",
    "  \n",
    "    else:\n",
    "        ans = r\n",
    "        res_ans = ans.subs(x, y-1)\n",
    "        print(f\"Answer: {res_ans}\")\n",
    "\n",
    "main()"
   ]
  },
  {
   "cell_type": "markdown",
   "id": "9cf19353",
   "metadata": {},
   "source": [
    "## all parts"
   ]
  },
  {
   "cell_type": "code",
   "execution_count": 13,
   "id": "7488816c",
   "metadata": {},
   "outputs": [
    {
     "name": "stdout",
     "output_type": "stream",
     "text": [
      "Function?\n",
      "Absolute uncertainty?\n",
      "Degree of root?\n",
      "Stopping variable: s\n"
     ]
    }
   ],
   "source": [
    "# Importing the calculus library\n",
    "import sympy\n",
    "\n",
    "# Specifying and defining values of the function\n",
    "print(\"Function?\")\n",
    "y = sympy.Function('y')\n",
    "y = 0.5\n",
    "x = sympy.symbols('x')\n",
    "\n",
    "print(\"Absolute uncertainty?\")\n",
    "n = sympy.symbols('n')\n",
    "n = 0.001\n",
    "\n",
    "print(\"Degree of root?\")\n",
    "m = sympy.symbols('m')\n",
    "m = 2\n",
    "s = sympy.symbols('s')\n",
    "f = sympy.Function('f')\n",
    "f = (1+x)**(1/m)\n",
    "\n",
    "# Calculating absolute relative error as the stopping variable\n",
    "print(f\"Stopping variable: {s}\")\n",
    "\n",
    "# Creating the loop\n",
    "count = 1\n",
    "a = sympy.Function('a')\n",
    "a = sympy.diff(f)\n",
    "af = a.subs(x,0)\n",
    "j = sympy.Function('j')\n",
    "j = 1+((1/sympy.factorial(count))*af)*x**(count)\n",
    "\n",
    "def main():\n",
    "    global a\n",
    "    global af\n",
    "    global count \n",
    "    global j \n",
    "    global s\n",
    "    count = count+1\n",
    "    b = sympy.Function('b')\n",
    "    b = sympy.diff(a)\n",
    "    bf = b.subs(x,0)\n",
    "    r = sympy.Function('r')\n",
    "    r = j+((1/sympy.factorial(count))*bf)*x**(count)\n",
    "    \n",
    "    g = sympy.simplify(count).is_even\n",
    "    g = sympy.ask(sympy.simplify(count).is_even)\n",
    "    \n",
    "    if g == True:\n",
    "        count = count+1\n",
    "        a = b\n",
    "        af = a.subs(x,0)\n",
    "        j = r+(1/sympy.factorial(count))*af*x**(count)\n",
    "  \n",
    "    else:\n",
    "        ans = r\n",
    "        res_ans = ans.subs(x, y-1)\n",
    "        print(f\"Answer: {res_ans}\")\n",
    "\n",
    "main()"
   ]
  },
  {
   "cell_type": "code",
   "execution_count": null,
   "id": "db87f858",
   "metadata": {},
   "outputs": [],
   "source": []
  }
 ],
 "metadata": {
  "authors": [
   {
    "name": "Sparisoma Viridi"
   }
  ],
  "kernelspec": {
   "display_name": "Python 3 (ipykernel)",
   "language": "python",
   "name": "python3"
  },
  "language_info": {
   "codemirror_mode": {
    "name": "ipython",
    "version": 3
   },
   "file_extension": ".py",
   "mimetype": "text/x-python",
   "name": "python",
   "nbconvert_exporter": "python",
   "pygments_lexer": "ipython3",
   "version": "3.10.9"
  },
  "title": "3d_scatter"
 },
 "nbformat": 4,
 "nbformat_minor": 5
}
