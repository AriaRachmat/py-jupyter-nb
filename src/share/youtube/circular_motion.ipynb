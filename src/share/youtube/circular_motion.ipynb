{
 "cells": [
  {
   "cell_type": "markdown",
   "id": "cca11c7c",
   "metadata": {},
   "source": [
    "# xy_mp4_minimum\n",
    "+ Create animation of xy chart using `matplotlib` library (minimum code).\n",
    "+ Modified mainly from https://www.geeksforgeeks.org/using-matplotlib-for-animations/ and others.\n",
    "+ Show time stamp and adjust time with fps.\n",
    "+ Previous source code with comments is available on [3fbe175f](https://github.com/dudung/py-jupyter-nb/blob/3fbe175f/src/apply/animation/graph/xy_mp4_minimum.ipynb)."
   ]
  },
  {
   "cell_type": "code",
   "execution_count": 1,
   "id": "57d46d70",
   "metadata": {},
   "outputs": [
    {
     "data": {
      "text/html": [
       "<video src=\"data/circular_motion.mp4\" controls  >\n",
       "      Your browser does not support the <code>video</code> element.\n",
       "    </video>"
      ],
      "text/plain": [
       "<IPython.core.display.Video object>"
      ]
     },
     "metadata": {},
     "output_type": "display_data"
    },
    {
     "data": {
      "image/png": "[encoded data removed]",
      "text/plain": [
       "<Figure size 288x288 with 1 Axes>"
      ]
     },
     "metadata": {},
     "output_type": "display_data"
    }
   ],
   "source": [
    "import matplotlib.animation as animation\n",
    "import matplotlib.pyplot as plt\n",
    "import matplotlib.patches as patches\n",
    "import numpy as np\n",
    "from IPython.display import display, Video\n",
    "  \n",
    "fig = plt.figure(\n",
    "    figsize=(4, 4),\n",
    "    facecolor=(1.0, 1.0, 1.0, 1.0)\n",
    ")\n",
    "axis = plt.axes(\n",
    "    xlim =(-10, 10),\n",
    "    ylim =(-10, 10),\n",
    "    xlabel=\"x\",\n",
    "    ylabel=\"y\",\n",
    "    facecolor=(1.0, 1.0, 1.0, 1.0)\n",
    ") \n",
    "axis.grid(\n",
    "    visible=True,\n",
    "    axis='both',\n",
    "    linestyle='-'\n",
    ")\n",
    "axis.set_aspect('equal', 'box')\n",
    "axis.set_xticks(np.arange(-10, 11, 2))\n",
    "axis.set_yticks(np.arange(-10, 11, 2))\n",
    "line, = axis.plot([], [], 'r.', ms=10) \n",
    "\n",
    "T = 4\n",
    "R = 10\n",
    "   \n",
    "def init(): \n",
    "    line.set_data([], []) \n",
    "    return line, \n",
    "   \n",
    "xdata, ydata = [], [] \n",
    "\n",
    "def animate(i):\n",
    "    t = i / 20.0\n",
    "    \n",
    "    if len(axis.texts) > 0:\n",
    "        axis.texts[0].remove()\n",
    "    \n",
    "    axis.text(5, 8.5, f\"t = {t:.2f} s\")\n",
    "        \n",
    "    x = R * np.cos(2 * np.pi * (t / T))\n",
    "    y = R * np.sin(2 * np.pi * (t / T))\n",
    "       \n",
    "    xdata = x\n",
    "    ydata = y\n",
    "    line.set_data(xdata, ydata)\n",
    "    return line,\n",
    "   \n",
    "anim = animation.FuncAnimation(\n",
    "    fig, animate,\n",
    "    init_func = init, \n",
    "    frames = 81,\n",
    "    interval = 20,\n",
    "    blit = True\n",
    ") \n",
    "\n",
    "anim.save(\n",
    "    'data/circular_motion.mp4',\n",
    "    writer = 'ffmpeg',\n",
    "    fps = 20\n",
    ")\n",
    "fig.set_visible(not fig.get_visible())\n",
    "display(Video(\"data/circular_motion.mp4\"))"
   ]
  },
  {
   "cell_type": "markdown",
   "id": "79df702c",
   "metadata": {},
   "source": [
    "## result on youtube\n",
    "[Video](https://youtu.be/nrDzK6gOF3A)"
   ]
  },
  {
   "cell_type": "code",
   "execution_count": null,
   "id": "a9fa9b7b",
   "metadata": {},
   "outputs": [],
   "source": []
  }
 ],
 "metadata": {
  "authors": [
   {
    "name": "Sparisoma Viridi"
   }
  ],
  "kernelspec": {
   "display_name": "Python 3 (ipykernel)",
   "language": "python",
   "name": "python3"
  },
  "language_info": {
   "codemirror_mode": {
    "name": "ipython",
    "version": 3
   },
   "file_extension": ".py",
   "mimetype": "text/x-python",
   "name": "python",
   "nbconvert_exporter": "python",
   "pygments_lexer": "ipython3",
   "version": "3.10.10"
  },
  "title": "xy_mp4_minimum"
 },
 "nbformat": 4,
 "nbformat_minor": 5
}
